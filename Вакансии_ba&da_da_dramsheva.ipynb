{
  "nbformat": 4,
  "nbformat_minor": 0,
  "metadata": {
    "colab": {
      "provenance": [],
      "toc_visible": true
    },
    "kernelspec": {
      "name": "python3",
      "display_name": "Python 3"
    },
    "language_info": {
      "name": "python"
    }
  },
  "cells": [
    {
      "cell_type": "markdown",
      "source": [
        "Проект \"Аналитика данных HH.ru\"\n",
        "\n",
        "Автор Анна Драмшева  \n",
        "E-mail: adramsheva@gmail.com   \n",
        "T: @beadlegger"
      ],
      "metadata": {
        "id": "-xqhkU8tMpp0"
      }
    },
    {
      "cell_type": "markdown",
      "source": [
        "1. [Описание проекта](#description)  \n",
        "2. [Загрузка данных, предобработка и подготовка ](#preprocessing)  \n",
        "3. [Исследовательский анализ](#analysis)\n",
        "4. [Выводы и рекомендации](#findings)\n",
        "5. [Презентация](#slidedeck)"
      ],
      "metadata": {
        "id": "bicS2yz1NSvH"
      }
    },
    {
      "cell_type": "markdown",
      "source": [
        "<a id=\"description\"></a>\n",
        "**Описание проекта**  \n",
        "\n",
        "В рамках проекта по заказу рекрутиногвого агентства XYZ будет произведено исследование вакансий в направлениях \"бизнес-аналитика\" и \"аналитика данных\" портала HH.ru за период с 12 по 31 марта 2024 г., выявлены различия в требованиях к соискателям и даны рекомендации агентству в целях отбора и ориентации кандидатов.\n",
        "\n",
        "\n"
      ],
      "metadata": {
        "id": "PPQSWGAzOAwq"
      }
    },
    {
      "cell_type": "markdown",
      "source": [
        "<a id=\"preprocessing\"></a>\n",
        "**Загрузка данных, предобработка и подготовка**  \n",
        "\n",
        "Импортируем необходимые библиотеки, загрузим данные по 2 направлениям."
      ],
      "metadata": {
        "id": "OO8_C81XOze-"
      }
    },
    {
      "cell_type": "code",
      "execution_count": null,
      "metadata": {
        "id": "8ompsPhlC4aA"
      },
      "outputs": [],
      "source": [
        "import pandas as pd\n",
        "import numpy as np\n",
        "import seaborn as sns\n",
        "from datetime import datetime, timedelta\n",
        "from matplotlib import pyplot as plt\n",
        "import plotly.express as px\n",
        "import re\n",
        "import warnings\n",
        "warnings.filterwarnings('ignore')"
      ]
    },
    {
      "cell_type": "code",
      "source": [
        "ba = pd.read_csv('/content/drive/MyDrive/hh_ba.csv', sep = ';')\n",
        "da = pd.read_csv('/content/drive/MyDrive/hh_da.csv', sep = ';')"
      ],
      "metadata": {
        "id": "qdKCzE6GDavN"
      },
      "execution_count": null,
      "outputs": []
    },
    {
      "cell_type": "markdown",
      "source": [
        "Посмотрим, какие типы данных содержатся в датасетах и проверим их на наличие явных и скрытых дубликатов."
      ],
      "metadata": {
        "id": "cdbXBCEWQDbs"
      }
    },
    {
      "cell_type": "code",
      "source": [
        "ba.info()"
      ],
      "metadata": {
        "colab": {
          "base_uri": "https://localhost:8080/"
        },
        "id": "ltYgD0mKFCJA",
        "outputId": "057d1a05-b15e-4f1c-a5cd-89b6251c5564"
      },
      "execution_count": null,
      "outputs": [
        {
          "output_type": "stream",
          "name": "stdout",
          "text": [
            "<class 'pandas.core.frame.DataFrame'>\n",
            "RangeIndex: 1011 entries, 0 to 1010\n",
            "Data columns (total 20 columns):\n",
            " #   Column                            Non-Null Count  Dtype  \n",
            "---  ------                            --------------  -----  \n",
            " 0   id                                1011 non-null   int64  \n",
            " 1   name                              1011 non-null   object \n",
            " 2   published_at                      1011 non-null   object \n",
            " 3   alternate_url                     1011 non-null   object \n",
            " 4   type                              1011 non-null   object \n",
            " 5   employer                          1011 non-null   object \n",
            " 6   department                        210 non-null    object \n",
            " 7   area                              1011 non-null   object \n",
            " 8   experience                        1011 non-null   object \n",
            " 9   key_skills                        1011 non-null   object \n",
            " 10  schedule                          1011 non-null   object \n",
            " 11  employment                        1011 non-null   object \n",
            " 12  description                       1011 non-null   object \n",
            " 13  description_lemmatized            1011 non-null   object \n",
            " 14  salary_from                       172 non-null    float64\n",
            " 15  salary_to                         132 non-null    float64\n",
            " 16  salary_bin                        1011 non-null   object \n",
            " 17  key_skills_from_key_skills_field  566 non-null    object \n",
            " 18  hard_skills_from_description      167 non-null    object \n",
            " 19  soft_skills_from_description      618 non-null    object \n",
            "dtypes: float64(2), int64(1), object(17)\n",
            "memory usage: 158.1+ KB\n"
          ]
        }
      ]
    },
    {
      "cell_type": "code",
      "source": [
        "da.info()"
      ],
      "metadata": {
        "colab": {
          "base_uri": "https://localhost:8080/"
        },
        "id": "N7BULtaLF_9x",
        "outputId": "b4e120f7-cd30-4082-a879-95287fa690c5"
      },
      "execution_count": null,
      "outputs": [
        {
          "output_type": "stream",
          "name": "stdout",
          "text": [
            "<class 'pandas.core.frame.DataFrame'>\n",
            "RangeIndex: 417 entries, 0 to 416\n",
            "Data columns (total 20 columns):\n",
            " #   Column                            Non-Null Count  Dtype  \n",
            "---  ------                            --------------  -----  \n",
            " 0   id                                417 non-null    int64  \n",
            " 1   name                              417 non-null    object \n",
            " 2   published_at                      417 non-null    object \n",
            " 3   alternate_url                     417 non-null    object \n",
            " 4   type                              417 non-null    object \n",
            " 5   employer                          417 non-null    object \n",
            " 6   department                        137 non-null    object \n",
            " 7   area                              417 non-null    object \n",
            " 8   experience                        417 non-null    object \n",
            " 9   key_skills                        417 non-null    object \n",
            " 10  schedule                          417 non-null    object \n",
            " 11  employment                        417 non-null    object \n",
            " 12  description                       417 non-null    object \n",
            " 13  description_lemmatized            417 non-null    object \n",
            " 14  salary_from                       57 non-null     float64\n",
            " 15  salary_to                         30 non-null     float64\n",
            " 16  salary_bin                        417 non-null    object \n",
            " 17  key_skills_from_key_skills_field  237 non-null    object \n",
            " 18  hard_skills_from_description      91 non-null     object \n",
            " 19  soft_skills_from_description      135 non-null    object \n",
            "dtypes: float64(2), int64(1), object(17)\n",
            "memory usage: 65.3+ KB\n"
          ]
        }
      ]
    },
    {
      "cell_type": "code",
      "source": [
        "ba.duplicated().sum()"
      ],
      "metadata": {
        "colab": {
          "base_uri": "https://localhost:8080/"
        },
        "id": "A921j3qFGDqn",
        "outputId": "153d5a21-fa39-44ec-a7e6-98b64624d84a"
      },
      "execution_count": null,
      "outputs": [
        {
          "output_type": "execute_result",
          "data": {
            "text/plain": [
              "0"
            ]
          },
          "metadata": {},
          "execution_count": 296
        }
      ]
    },
    {
      "cell_type": "code",
      "source": [
        "ba[ba.duplicated('alternate_url', keep=False)]"
      ],
      "metadata": {
        "colab": {
          "base_uri": "https://localhost:8080/",
          "height": 73
        },
        "id": "ENQgd-b3GbBL",
        "outputId": "aec18aab-e329-4da9-cfdc-9856184923b1"
      },
      "execution_count": null,
      "outputs": [
        {
          "output_type": "execute_result",
          "data": {
            "text/plain": [
              "Empty DataFrame\n",
              "Columns: [id, name, published_at, alternate_url, type, employer, department, area, experience, key_skills, schedule, employment, description, description_lemmatized, salary_from, salary_to, salary_bin, key_skills_from_key_skills_field, hard_skills_from_description, soft_skills_from_description]\n",
              "Index: []"
            ],
            "text/html": [
              "\n",
              "  <div id=\"df-71cde82d-5f7c-4623-93ec-e09df3db03fe\" class=\"colab-df-container\">\n",
              "    <div>\n",
              "<style scoped>\n",
              "    .dataframe tbody tr th:only-of-type {\n",
              "        vertical-align: middle;\n",
              "    }\n",
              "\n",
              "    .dataframe tbody tr th {\n",
              "        vertical-align: top;\n",
              "    }\n",
              "\n",
              "    .dataframe thead th {\n",
              "        text-align: right;\n",
              "    }\n",
              "</style>\n",
              "<table border=\"1\" class=\"dataframe\">\n",
              "  <thead>\n",
              "    <tr style=\"text-align: right;\">\n",
              "      <th></th>\n",
              "      <th>id</th>\n",
              "      <th>name</th>\n",
              "      <th>published_at</th>\n",
              "      <th>alternate_url</th>\n",
              "      <th>type</th>\n",
              "      <th>employer</th>\n",
              "      <th>department</th>\n",
              "      <th>area</th>\n",
              "      <th>experience</th>\n",
              "      <th>key_skills</th>\n",
              "      <th>schedule</th>\n",
              "      <th>employment</th>\n",
              "      <th>description</th>\n",
              "      <th>description_lemmatized</th>\n",
              "      <th>salary_from</th>\n",
              "      <th>salary_to</th>\n",
              "      <th>salary_bin</th>\n",
              "      <th>key_skills_from_key_skills_field</th>\n",
              "      <th>hard_skills_from_description</th>\n",
              "      <th>soft_skills_from_description</th>\n",
              "    </tr>\n",
              "  </thead>\n",
              "  <tbody>\n",
              "  </tbody>\n",
              "</table>\n",
              "</div>\n",
              "    <div class=\"colab-df-buttons\">\n",
              "\n",
              "  <div class=\"colab-df-container\">\n",
              "    <button class=\"colab-df-convert\" onclick=\"convertToInteractive('df-71cde82d-5f7c-4623-93ec-e09df3db03fe')\"\n",
              "            title=\"Convert this dataframe to an interactive table.\"\n",
              "            style=\"display:none;\">\n",
              "\n",
              "  <svg xmlns=\"http://www.w3.org/2000/svg\" height=\"24px\" viewBox=\"0 -960 960 960\">\n",
              "    <path d=\"M120-120v-720h720v720H120Zm60-500h600v-160H180v160Zm220 220h160v-160H400v160Zm0 220h160v-160H400v160ZM180-400h160v-160H180v160Zm440 0h160v-160H620v160ZM180-180h160v-160H180v160Zm440 0h160v-160H620v160Z\"/>\n",
              "  </svg>\n",
              "    </button>\n",
              "\n",
              "  <style>\n",
              "    .colab-df-container {\n",
              "      display:flex;\n",
              "      gap: 12px;\n",
              "    }\n",
              "\n",
              "    .colab-df-convert {\n",
              "      background-color: #E8F0FE;\n",
              "      border: none;\n",
              "      border-radius: 50%;\n",
              "      cursor: pointer;\n",
              "      display: none;\n",
              "      fill: #1967D2;\n",
              "      height: 32px;\n",
              "      padding: 0 0 0 0;\n",
              "      width: 32px;\n",
              "    }\n",
              "\n",
              "    .colab-df-convert:hover {\n",
              "      background-color: #E2EBFA;\n",
              "      box-shadow: 0px 1px 2px rgba(60, 64, 67, 0.3), 0px 1px 3px 1px rgba(60, 64, 67, 0.15);\n",
              "      fill: #174EA6;\n",
              "    }\n",
              "\n",
              "    .colab-df-buttons div {\n",
              "      margin-bottom: 4px;\n",
              "    }\n",
              "\n",
              "    [theme=dark] .colab-df-convert {\n",
              "      background-color: #3B4455;\n",
              "      fill: #D2E3FC;\n",
              "    }\n",
              "\n",
              "    [theme=dark] .colab-df-convert:hover {\n",
              "      background-color: #434B5C;\n",
              "      box-shadow: 0px 1px 3px 1px rgba(0, 0, 0, 0.15);\n",
              "      filter: drop-shadow(0px 1px 2px rgba(0, 0, 0, 0.3));\n",
              "      fill: #FFFFFF;\n",
              "    }\n",
              "  </style>\n",
              "\n",
              "    <script>\n",
              "      const buttonEl =\n",
              "        document.querySelector('#df-71cde82d-5f7c-4623-93ec-e09df3db03fe button.colab-df-convert');\n",
              "      buttonEl.style.display =\n",
              "        google.colab.kernel.accessAllowed ? 'block' : 'none';\n",
              "\n",
              "      async function convertToInteractive(key) {\n",
              "        const element = document.querySelector('#df-71cde82d-5f7c-4623-93ec-e09df3db03fe');\n",
              "        const dataTable =\n",
              "          await google.colab.kernel.invokeFunction('convertToInteractive',\n",
              "                                                    [key], {});\n",
              "        if (!dataTable) return;\n",
              "\n",
              "        const docLinkHtml = 'Like what you see? Visit the ' +\n",
              "          '<a target=\"_blank\" href=https://colab.research.google.com/notebooks/data_table.ipynb>data table notebook</a>'\n",
              "          + ' to learn more about interactive tables.';\n",
              "        element.innerHTML = '';\n",
              "        dataTable['output_type'] = 'display_data';\n",
              "        await google.colab.output.renderOutput(dataTable, element);\n",
              "        const docLink = document.createElement('div');\n",
              "        docLink.innerHTML = docLinkHtml;\n",
              "        element.appendChild(docLink);\n",
              "      }\n",
              "    </script>\n",
              "  </div>\n",
              "\n",
              "    </div>\n",
              "  </div>\n"
            ],
            "application/vnd.google.colaboratory.intrinsic+json": {
              "type": "dataframe",
              "repr_error": "Out of range float values are not JSON compliant: nan"
            }
          },
          "metadata": {},
          "execution_count": 297
        }
      ]
    },
    {
      "cell_type": "code",
      "source": [
        "da.duplicated().sum()"
      ],
      "metadata": {
        "colab": {
          "base_uri": "https://localhost:8080/"
        },
        "id": "CT0ld3eNUiXf",
        "outputId": "fde1e4a0-c688-462f-f159-14ed6af59cb8"
      },
      "execution_count": null,
      "outputs": [
        {
          "output_type": "execute_result",
          "data": {
            "text/plain": [
              "0"
            ]
          },
          "metadata": {},
          "execution_count": 298
        }
      ]
    },
    {
      "cell_type": "code",
      "source": [
        "da[da.duplicated('alternate_url', keep=False)]"
      ],
      "metadata": {
        "colab": {
          "base_uri": "https://localhost:8080/",
          "height": 73
        },
        "id": "lZtFZs9vHOi1",
        "outputId": "45bbb993-4a51-4441-e3c1-85bd66f7b602"
      },
      "execution_count": null,
      "outputs": [
        {
          "output_type": "execute_result",
          "data": {
            "text/plain": [
              "Empty DataFrame\n",
              "Columns: [id, name, published_at, alternate_url, type, employer, department, area, experience, key_skills, schedule, employment, description, description_lemmatized, salary_from, salary_to, salary_bin, key_skills_from_key_skills_field, hard_skills_from_description, soft_skills_from_description]\n",
              "Index: []"
            ],
            "text/html": [
              "\n",
              "  <div id=\"df-d9639dce-8097-46f6-875a-0ef9f91a06e9\" class=\"colab-df-container\">\n",
              "    <div>\n",
              "<style scoped>\n",
              "    .dataframe tbody tr th:only-of-type {\n",
              "        vertical-align: middle;\n",
              "    }\n",
              "\n",
              "    .dataframe tbody tr th {\n",
              "        vertical-align: top;\n",
              "    }\n",
              "\n",
              "    .dataframe thead th {\n",
              "        text-align: right;\n",
              "    }\n",
              "</style>\n",
              "<table border=\"1\" class=\"dataframe\">\n",
              "  <thead>\n",
              "    <tr style=\"text-align: right;\">\n",
              "      <th></th>\n",
              "      <th>id</th>\n",
              "      <th>name</th>\n",
              "      <th>published_at</th>\n",
              "      <th>alternate_url</th>\n",
              "      <th>type</th>\n",
              "      <th>employer</th>\n",
              "      <th>department</th>\n",
              "      <th>area</th>\n",
              "      <th>experience</th>\n",
              "      <th>key_skills</th>\n",
              "      <th>schedule</th>\n",
              "      <th>employment</th>\n",
              "      <th>description</th>\n",
              "      <th>description_lemmatized</th>\n",
              "      <th>salary_from</th>\n",
              "      <th>salary_to</th>\n",
              "      <th>salary_bin</th>\n",
              "      <th>key_skills_from_key_skills_field</th>\n",
              "      <th>hard_skills_from_description</th>\n",
              "      <th>soft_skills_from_description</th>\n",
              "    </tr>\n",
              "  </thead>\n",
              "  <tbody>\n",
              "  </tbody>\n",
              "</table>\n",
              "</div>\n",
              "    <div class=\"colab-df-buttons\">\n",
              "\n",
              "  <div class=\"colab-df-container\">\n",
              "    <button class=\"colab-df-convert\" onclick=\"convertToInteractive('df-d9639dce-8097-46f6-875a-0ef9f91a06e9')\"\n",
              "            title=\"Convert this dataframe to an interactive table.\"\n",
              "            style=\"display:none;\">\n",
              "\n",
              "  <svg xmlns=\"http://www.w3.org/2000/svg\" height=\"24px\" viewBox=\"0 -960 960 960\">\n",
              "    <path d=\"M120-120v-720h720v720H120Zm60-500h600v-160H180v160Zm220 220h160v-160H400v160Zm0 220h160v-160H400v160ZM180-400h160v-160H180v160Zm440 0h160v-160H620v160ZM180-180h160v-160H180v160Zm440 0h160v-160H620v160Z\"/>\n",
              "  </svg>\n",
              "    </button>\n",
              "\n",
              "  <style>\n",
              "    .colab-df-container {\n",
              "      display:flex;\n",
              "      gap: 12px;\n",
              "    }\n",
              "\n",
              "    .colab-df-convert {\n",
              "      background-color: #E8F0FE;\n",
              "      border: none;\n",
              "      border-radius: 50%;\n",
              "      cursor: pointer;\n",
              "      display: none;\n",
              "      fill: #1967D2;\n",
              "      height: 32px;\n",
              "      padding: 0 0 0 0;\n",
              "      width: 32px;\n",
              "    }\n",
              "\n",
              "    .colab-df-convert:hover {\n",
              "      background-color: #E2EBFA;\n",
              "      box-shadow: 0px 1px 2px rgba(60, 64, 67, 0.3), 0px 1px 3px 1px rgba(60, 64, 67, 0.15);\n",
              "      fill: #174EA6;\n",
              "    }\n",
              "\n",
              "    .colab-df-buttons div {\n",
              "      margin-bottom: 4px;\n",
              "    }\n",
              "\n",
              "    [theme=dark] .colab-df-convert {\n",
              "      background-color: #3B4455;\n",
              "      fill: #D2E3FC;\n",
              "    }\n",
              "\n",
              "    [theme=dark] .colab-df-convert:hover {\n",
              "      background-color: #434B5C;\n",
              "      box-shadow: 0px 1px 3px 1px rgba(0, 0, 0, 0.15);\n",
              "      filter: drop-shadow(0px 1px 2px rgba(0, 0, 0, 0.3));\n",
              "      fill: #FFFFFF;\n",
              "    }\n",
              "  </style>\n",
              "\n",
              "    <script>\n",
              "      const buttonEl =\n",
              "        document.querySelector('#df-d9639dce-8097-46f6-875a-0ef9f91a06e9 button.colab-df-convert');\n",
              "      buttonEl.style.display =\n",
              "        google.colab.kernel.accessAllowed ? 'block' : 'none';\n",
              "\n",
              "      async function convertToInteractive(key) {\n",
              "        const element = document.querySelector('#df-d9639dce-8097-46f6-875a-0ef9f91a06e9');\n",
              "        const dataTable =\n",
              "          await google.colab.kernel.invokeFunction('convertToInteractive',\n",
              "                                                    [key], {});\n",
              "        if (!dataTable) return;\n",
              "\n",
              "        const docLinkHtml = 'Like what you see? Visit the ' +\n",
              "          '<a target=\"_blank\" href=https://colab.research.google.com/notebooks/data_table.ipynb>data table notebook</a>'\n",
              "          + ' to learn more about interactive tables.';\n",
              "        element.innerHTML = '';\n",
              "        dataTable['output_type'] = 'display_data';\n",
              "        await google.colab.output.renderOutput(dataTable, element);\n",
              "        const docLink = document.createElement('div');\n",
              "        docLink.innerHTML = docLinkHtml;\n",
              "        element.appendChild(docLink);\n",
              "      }\n",
              "    </script>\n",
              "  </div>\n",
              "\n",
              "    </div>\n",
              "  </div>\n"
            ],
            "application/vnd.google.colaboratory.intrinsic+json": {
              "type": "dataframe",
              "repr_error": "Out of range float values are not JSON compliant: nan"
            }
          },
          "metadata": {},
          "execution_count": 299
        }
      ]
    },
    {
      "cell_type": "markdown",
      "source": [
        "Видим, что дубликатов нет, но в данных значительное количество пропусков, особенно в том, что касается информации о заработной плате и навыках."
      ],
      "metadata": {
        "id": "LlZ4DL9pUprT"
      }
    },
    {
      "cell_type": "markdown",
      "source": [
        "Изучим, какие уникальные названия вакансий содержатся в обоих датасетах и насколько они релевантны."
      ],
      "metadata": {
        "id": "iAdJ0niHVtGK"
      }
    },
    {
      "cell_type": "code",
      "source": [
        "ba['name'].sort_values().unique()"
      ],
      "metadata": {
        "colab": {
          "base_uri": "https://localhost:8080/"
        },
        "id": "djmAnLdRgJRd",
        "outputId": "d8f519c5-b9c5-4ce7-aa74-298e108329a5"
      },
      "execution_count": null,
      "outputs": [
        {
          "output_type": "execute_result",
          "data": {
            "text/plain": [
              "array(['BI Manager / Менеджер бизнес-аналитики',\n",
              "       'BI-аналитик (специалист по бизнес-аналитике)',\n",
              "       'Business (Data) Analyst', 'Business Analyst',\n",
              "       'Business Analyst (CRM)', 'Business Analyst (Crypto)',\n",
              "       'Business Analyst / Бизнес-аналитик',\n",
              "       'Business Analyst/ Бизнес аналитик',\n",
              "       'Business Intelligence Head / Руководитель отдела бизнес аналитики',\n",
              "       'Business System Analyst (SAP Planning)',\n",
              "       'Business System Analyst (SAP Procurement)',\n",
              "       'Business System Analyst, Mobile team (remote)',\n",
              "       'Business analyst', 'Business analyst (corporate portal)',\n",
              "       'Business analyst / Бизнес аналитик',\n",
              "       'Business analyst в команду АTOM HUB',\n",
              "       'CRM администратор (Бизнес аналитик, Retail-CRM, Мой склад)',\n",
              "       'Data Engineer (PostgreSQL, Greenplum) / Автоматизация и аналитика корпоративного бизнеса',\n",
              "       'Data Scientist / Автоматизация и аналитика корпоративного бизнеса',\n",
              "       'HR - бизнес партнер / Аналитик', 'IT Business / System Analyst',\n",
              "       'IT бизнес-аналитик (IT проекты)', 'Junior Бизнес-аналитик',\n",
              "       'Junior бизнес-аналитик',\n",
              "       'Middle Системный аналитик/Бизнес аналитик',\n",
              "       'Middle Системный/ Бизнес аналитик',\n",
              "       'Middle Системный/Бизнес аналитик', 'Middle бизнес аналитик',\n",
              "       'Presale архитектор/Бизнес-аналитик',\n",
              "       'Senior Business Analyst [Logistic Platform]',\n",
              "       'Senior Business planning Analyst, Finance Department',\n",
              "       'Senior analyst (Бизнес/системный аналитик)',\n",
              "       'Senior business analyst', 'Senior бизнес-аналитик',\n",
              "       'Solution Architect / Business Analyst',\n",
              "       'Team Lead Business analyst',\n",
              "       'Team lead группы бизнес-аналитиков 1С (IT, направление ЖКХ\")',\n",
              "       'Technical Consultant / Pre-Sale / Business Analyst - Payment software Player',\n",
              "       'Администратор Бизнес-процессов / Бизнес-аналитик',\n",
              "       'Администратор автоматизированной системы управления проектами (бизнес - аналитик)',\n",
              "       'Администратор информационных систем/ Администратор продуктовых систем с функцией бизнес-аналитика',\n",
              "       'Аналитик (аналитик бизнес-процессов)',\n",
              "       'Аналитик (бизнес-процессы)', 'Аналитик (бизнес/системный)',\n",
              "       'Аналитик (ресторанный бизнес)', 'Аналитик бизнес процессов',\n",
              "       'Аналитик бизнес процессов (внутренний продукт)',\n",
              "       'Аналитик бизнес-процессов', 'Аналитик бизнес-процессов (Middle)',\n",
              "       'Аналитик бизнес-процессов (Департамент бюджетирования)',\n",
              "       'Аналитик бизнес-процессов (Нижний Новгород)',\n",
              "       'Аналитик бизнес-процессов (м.Бульвар Адмирала Ушакова)',\n",
              "       'Аналитик бизнес-процессов (начального уровня)',\n",
              "       'Аналитик бизнес-процессов (пищевая промышленность, логистика, FMCG)',\n",
              "       'Аналитик бизнес-процессов (по описанию бизнес-процессов)',\n",
              "       'Аналитик бизнес-процессов (проект ФСБУ)',\n",
              "       'Аналитик бизнес-процессов (проект по работе с Бюро Кредитных историй)',\n",
              "       'Аналитик бизнес-процессов (склад, WMS)',\n",
              "       'Аналитик бизнес-процессов / Бизнес-аналитик',\n",
              "       'Аналитик бизнес-процессов Отдела бизнес-процессов (Управление бизнес-процессов и методологии)',\n",
              "       'Аналитик бизнес-процессов в Коммерческий Департамент',\n",
              "       'Аналитик бизнес-процессов компании',\n",
              "       'Аналитик бизнес-процессов учета рабочего времени',\n",
              "       'Аналитик бизнес-процессов/Менеджер IT-проектов',\n",
              "       'Аналитик бизнес-сопровождения продуктов управленческой отчетности',\n",
              "       'Аналитик группы бизнес-сопровождения продуктов управленческой отчетности',\n",
              "       'Аналитик данных управления архитектуры данных и бизнес-аналитики',\n",
              "       'Аналитик направления бизнес-анализа и стратегических проектов',\n",
              "       'Аналитик оптимизации бизнес-процессов (Калининград)',\n",
              "       'Аналитик по бизнес-процессам',\n",
              "       'Аналитик пользовательского опыта / Аналитик бизнес-процессов',\n",
              "       'Аналитик ресторанного бизнеса в Ultima (Яндекс. Еда)',\n",
              "       'Аналитик-технолог бизнес-процессов', 'Аудитор (бизнес аналитик)',\n",
              "       'Бизнес - Системный аналитик / Fullstack аналитик',\n",
              "       'Бизнес - аналитик', 'Бизнес - аналитик (1С) remote',\n",
              "       'Бизнес - аналитик (Томск id 611)',\n",
              "       'Бизнес - аналитик (пищевое производство).',\n",
              "       'Бизнес - аналитик (сфера Маркетплейсы)', 'Бизнес - аналитик CRM',\n",
              "       'Бизнес - аналитик/Business Analyst',\n",
              "       'Бизнес / системный Аналитик',\n",
              "       'Бизнес Аналитик (Стратегический маркетинг)',\n",
              "       'Бизнес Аналитик CRM', 'Бизнес аналитик', 'Бизнес аналитик (B2B)',\n",
              "       'Бизнес аналитик (B2C) / Продуктовый аналитик',\n",
              "       'Бизнес аналитик (HR Tech)',\n",
              "       'Бизнес аналитик (Автоматизация Роботизированного обзвона)',\n",
              "       'Бизнес аналитик (Аллокация)', 'Бизнес аналитик (ГИС системы)',\n",
              "       'Бизнес аналитик (владелец фичей)',\n",
              "       'Бизнес аналитик (дилерский центр)',\n",
              "       'Бизнес аналитик (корпоративный мессенджер)',\n",
              "       'Бизнес аналитик (менеджер проектов)',\n",
              "       'Бизнес аналитик (сфера культуры)', 'Бизнес аналитик (удаленно)',\n",
              "       'Бизнес аналитик / Business Analyst',\n",
              "       'Бизнес аналитик / Business analyst (кредитный потенциал)',\n",
              "       'Бизнес аналитик / администратор спортивных платформ и баз данных',\n",
              "       'Бизнес аналитик 1C', 'Бизнес аналитик 1С ЗУП',\n",
              "       'Бизнес аналитик DWH', 'Бизнес аналитик IT',\n",
              "       'Бизнес аналитик Middle\\\\Senior (Платформа УС)',\n",
              "       'Бизнес аналитик в Команду анализа данных',\n",
              "       'Бизнес аналитик в команду Аренда',\n",
              "       'Бизнес аналитик в команду ЕИСЖС',\n",
              "       'Бизнес аналитик в команду Развития учетных сервисов',\n",
              "       'Бизнес аналитик в области HR / развития персонала',\n",
              "       'Бизнес аналитик проекта CRM',\n",
              "       'Бизнес аналитик(развитие личного кабинета юридического лица)',\n",
              "       'Бизнес аналитик/Системный аналитик',\n",
              "       'Бизнес – аналитик процессов (логистика и закупки) на проект',\n",
              "       'Бизнес- аналитик ( Управление экспертизы кибербезопасности)',\n",
              "       'Бизнес-Аналитик', 'Бизнес-Аналитик Битрикс 24', 'Бизнес-аналитик',\n",
              "       'Бизнес-аналитик \"Общекредитные сервисы\"',\n",
              "       'Бизнес-аналитик (1С ERP)', 'Бизнес-аналитик (1С)',\n",
              "       'Бизнес-аналитик (BI)', 'Бизнес-аналитик (Banking)',\n",
              "       'Бизнес-аналитик (Calypso)', 'Бизнес-аналитик (Event индустрия)',\n",
              "       'Бизнес-аналитик (HR)', 'Бизнес-аналитик (HR-TECH Подбор)',\n",
              "       'Бизнес-аналитик (HRTech)', 'Бизнес-аналитик (IT)',\n",
              "       'Бизнес-аналитик (ITпроекты)', 'Бизнес-аналитик (IoT, умный дом)',\n",
              "       'Бизнес-аналитик (Junior)', 'Бизнес-аналитик (Junior+/middle)',\n",
              "       'Бизнес-аналитик (Middle)', 'Бизнес-аналитик (Middle-Senior)',\n",
              "       'Бизнес-аналитик (Mobile)', 'Бизнес-аналитик (NP GTP)',\n",
              "       'Бизнес-аналитик (OrgDev)', 'Бизнес-аналитик (Ozon Global)',\n",
              "       'Бизнес-аналитик (e-commerce)', 'Бизнес-аналитик (junior)',\n",
              "       'Бизнес-аналитик (middle, french, remote)',\n",
              "       'Бизнес-аналитик (optimacros)',\n",
              "       'Бизнес-аналитик (Автоматизация процессов ОТ и ПБ)',\n",
              "       'Бизнес-аналитик (Астра Консалтинг)',\n",
              "       'Бизнес-аналитик (БУС, Битрикс24)',\n",
              "       'Бизнес-аналитик (Блок Логистика)',\n",
              "       'Бизнес-аналитик (Видеоплатформа и сервисы)',\n",
              "       'Бизнес-аналитик (Внедрения КСБ)',\n",
              "       'Бизнес-аналитик (ДЦО Недвижимость)',\n",
              "       'Бизнес-аналитик (Департамент гарантийного бизнеса и контрактного финансирования)',\n",
              "       'Бизнес-аналитик (Департамент информационных технологий)',\n",
              "       'Бизнес-аналитик (ЕИСЖС)',\n",
              "       'Бизнес-аналитик (Индийское направление, Депозиты)',\n",
              "       'Бизнес-аналитик (Индийское направление, Кредиты/Гарантии)',\n",
              "       'Бизнес-аналитик (Индустриальные проекты)',\n",
              "       'Бизнес-аналитик (Клиентский сервис)',\n",
              "       'Бизнес-аналитик (Корпоративные финансы) - Команда TeDo Technology',\n",
              "       'Бизнес-аналитик (Личный кабинет B2B)',\n",
              "       'Бизнес-аналитик (Налоговая отчетность)',\n",
              "       'Бизнес-аналитик (Нефтеперерабатывающий завод)',\n",
              "       'Бизнес-аналитик (Новая Афина)',\n",
              "       'Бизнес-аналитик (Операционный департамент)',\n",
              "       'Бизнес-аналитик (Проект Отчетность)',\n",
              "       'Бизнес-аналитик (Процессный-аналитик)',\n",
              "       'Бизнес-аналитик (Публичное API)',\n",
              "       'Бизнес-аналитик (Разработка продукта)',\n",
              "       'Бизнес-аналитик (РуПост)', 'Бизнес-аналитик (СберЛид)',\n",
              "       'Бизнес-аналитик (Сделки по ценным бумагам)',\n",
              "       'Бизнес-аналитик (Сектор оперативной работы с инцидентами объектов ЕГАИС)',\n",
              "       'Бизнес-аналитик (Система автоматизированного подбора ассортимента)',\n",
              "       'Бизнес-аналитик (Стажер)', 'Бизнес-аналитик (Транзит 2.0)',\n",
              "       'Бизнес-аналитик (Управление \"Автокредитование\")',\n",
              "       'Бизнес-аналитик (Управление \"Зарплатные проекты\")',\n",
              "       'Бизнес-аналитик (Финансист-аналитик)',\n",
              "       'Бизнес-аналитик (Цифровой документарный бизнес)',\n",
              "       'Бизнес-аналитик (Ялта)', 'Бизнес-аналитик (блок отчетность)',\n",
              "       'Бизнес-аналитик (бухгалтерия, кредитный учет)',\n",
              "       'Бизнес-аналитик (визуализации информации)',\n",
              "       'Бизнес-аналитик (гибридный формат работы)',\n",
              "       'Бизнес-аналитик (гостиничный бизнес)',\n",
              "       'Бизнес-аналитик (закупки по 223-ФЗ)', 'Бизнес-аналитик (закупки)',\n",
              "       'Бизнес-аналитик (закупки, запасы, склад)',\n",
              "       'Бизнес-аналитик (зарплатные карты)',\n",
              "       'Бизнес-аналитик (зарплатный проект)',\n",
              "       'Бизнес-аналитик (клиентские данные)',\n",
              "       'Бизнес-аналитик (клиентский сервис)',\n",
              "       'Бизнес-аналитик (команда SberWorks)',\n",
              "       'Бизнес-аналитик (кредитный конвейер)',\n",
              "       'Бизнес-аналитик (кредитный процесс)',\n",
              "       'Бизнес-аналитик (кредитование ММБ)',\n",
              "       'Бизнес-аналитик (методолог)',\n",
              "       'Бизнес-аналитик (мобильное приложение)',\n",
              "       'Бизнес-аналитик (направление развития медицинских производственных систем)',\n",
              "       'Бизнес-аналитик (направление трансграничных платежей/сервисы уведомлений для пользователей)',\n",
              "       'Бизнес-аналитик (оптимизатор)', 'Бизнес-аналитик (офис)',\n",
              "       'Бизнес-аналитик (очно, в офисе заказчика)',\n",
              "       'Бизнес-аналитик (персонал)', 'Бизнес-аналитик (по разработке ПО)',\n",
              "       'Бизнес-аналитик (практика Capital Markets)',\n",
              "       'Бизнес-аналитик (практика Retail)',\n",
              "       'Бизнес-аналитик (программа лояльности)',\n",
              "       'Бизнес-аналитик (продажи, сбыт)',\n",
              "       'Бизнес-аналитик (продажи/клиентский сервис)',\n",
              "       'Бизнес-аналитик (продукты для специальных счетов юридических лиц)',\n",
              "       'Бизнес-аналитик (продукты для юридических лиц)',\n",
              "       'Бизнес-аналитик (проект Информационная система управления рисками)',\n",
              "       'Бизнес-аналитик (проект ЦИД)',\n",
              "       'Бизнес-аналитик (проект импортозамещения системы DAMA)',\n",
              "       'Бизнес-аналитик (проекты сегмента B2C)',\n",
              "       'Бизнес-аналитик (проекты цифровизации коммерческой деятельности)',\n",
              "       'Бизнес-аналитик (производство) в Пермь',\n",
              "       'Бизнес-аналитик (развитие централизованных сервисов обслуживания клиентов КИБ)',\n",
              "       'Бизнес-аналитик (розничный бизнес)',\n",
              "       'Бизнес-аналитик (с опытом в интернет-магазине)',\n",
              "       'Бизнес-аналитик (системы управления доступом IdM)',\n",
              "       'Бизнес-аналитик (складская логистика)',\n",
              "       'Бизнес-аналитик (складская/транспортная логистика)',\n",
              "       'Бизнес-аналитик (сопровождение розничных операций)',\n",
              "       'Бизнес-аналитик (технолог, развитие единого фронтального решения розничного бизнеса)',\n",
              "       'Бизнес-аналитик (только со знанием amoCRM)',\n",
              "       'Бизнес-аналитик (трансформация, финансы)',\n",
              "       'Бизнес-аналитик (удалено)',\n",
              "       'Бизнес-аналитик (финансовое направление)',\n",
              "       'Бизнес-аналитик (финансы)',\n",
              "       'Бизнес-аналитик (цифровой розничный бизнес), банк',\n",
              "       'Бизнес-аналитик (цифровые сервисы)',\n",
              "       'Бизнес-аналитик (экономист)', 'Бизнес-аналитик / Аналитик 1С',\n",
              "       'Бизнес-аналитик / Аналитик поддержки',\n",
              "       'Бизнес-аналитик / Владелец продукта (Тераплан)',\n",
              "       'Бизнес-аналитик / Консультант по внедрению (IT, Junior )',\n",
              "       'Бизнес-аналитик / Менеджер продукта (Кредитный потенциал)',\n",
              "       'Бизнес-аналитик / Продуктовый аналитик (в продуктовую ИТ-компанию)',\n",
              "       'Бизнес-аналитик / Системный аналитик',\n",
              "       'Бизнес-аналитик / Системный аналитик (продуктовая ИТ-компания, bpm-система)',\n",
              "       'Бизнес-аналитик / Системный аналитик (продуктовая ИТ-компания, bpm-система, удаленно)',\n",
              "       'Бизнес-аналитик / Системный аналитик ERP-систем',\n",
              "       'Бизнес-аналитик / Специалист по анализу и описанию процессов',\n",
              "       'Бизнес-аналитик / консультант 1С',\n",
              "       'Бизнес-аналитик / методолог (ВХД)',\n",
              "       'Бизнес-аналитик / системный аналитик', 'Бизнес-аналитик 1C',\n",
              "       'Бизнес-аналитик 1C ДО', 'Бизнес-аналитик 1С',\n",
              "       'Бизнес-аналитик 1С (ERP)', 'Бизнес-аналитик 1С (ЗУП)',\n",
              "       'Бизнес-аналитик 1С (ТОиР)',\n",
              "       'Бизнес-аналитик 1С (регламентированный учет и казначейство)',\n",
              "       'Бизнес-аналитик 1С (стажер)', 'Бизнес-аналитик 1С (тестировщик)',\n",
              "       'Бизнес-аналитик 1С ERP (управление заказами, склад)',\n",
              "       'Бизнес-аналитик 1С ТОиР',\n",
              "       'Бизнес-аналитик 1С Финансы и Бюджетирование',\n",
              "       'Бизнес-аналитик 1С в Тинькофф Лизинг',\n",
              "       'Бизнес-аналитик 1С/Аналитик 1С', 'Бизнес-аналитик 1С: ERP',\n",
              "       'Бизнес-аналитик 1С: ERP (middle/senior)',\n",
              "       'Бизнес-аналитик 1С: Документооборот', 'Бизнес-аналитик AI',\n",
              "       'Бизнес-аналитик B2C процессов', 'Бизнес-аналитик BI',\n",
              "       'Бизнес-аналитик CRM',\n",
              "       'Бизнес-аналитик CRM кампаний (со знанием SQL)',\n",
              "       'Бизнес-аналитик ELMA365 (Fintech)', 'Бизнес-аналитик ERP',\n",
              "       'Бизнес-аналитик HRM/HCM', 'Бизнес-аналитик IT',\n",
              "       'Бизнес-аналитик Jira', 'Бизнес-аналитик MES (удаленно)',\n",
              "       'Бизнес-аналитик RPA', 'Бизнес-аналитик SAP ТОиР/MM',\n",
              "       'Бизнес-аналитик Supply Chain&Law', 'Бизнес-аналитик T-FLEX',\n",
              "       'Бизнес-аналитик TMS', 'Бизнес-аналитик WEB',\n",
              "       'Бизнес-аналитик WEB проектов (Project менеджер)',\n",
              "       'Бизнес-аналитик WMS(сервис)', 'Бизнес-аналитик АБС',\n",
              "       'Бизнес-аналитик БКИ',\n",
              "       'Бизнес-аналитик БКИ (Бюро кредитных историй)',\n",
              "       'Бизнес-аналитик Битрикс24',\n",
              "       'Бизнес-аналитик Битрикс24/Scrum-мастер',\n",
              "       'Бизнес-аналитик Блока развития цифровых продуктов и сервисов',\n",
              "       'Бизнес-аналитик ГИБРИДНЫЙ ГРАФИК', 'Бизнес-аналитик Диасофт',\n",
              "       'Бизнес-аналитик ИСД', 'Бизнес-аналитик ИТ',\n",
              "       'Бизнес-аналитик Корпоративные риск-технологии',\n",
              "       'Бизнес-аналитик ЛИС (лабораторной информационной системы)',\n",
              "       'Бизнес-аналитик ОВКЭС',\n",
              "       'Бизнес-аналитик Отдела планирования операционной деятельности',\n",
              "       'Бизнес-аналитик ЦФТ (Банк)', 'Бизнес-аналитик брокерского ПО',\n",
              "       'Бизнес-аналитик в IT', 'Бизнес-аналитик в IT B2B компанию',\n",
              "       'Бизнес-аналитик в WorkSpace',\n",
              "       'Бизнес-аналитик в Департамент финансов',\n",
              "       'Бизнес-аналитик в ИТ/Project manager',\n",
              "       'Бизнес-аналитик в Тинькофф Бизнес',\n",
              "       'Бизнес-аналитик в Центр бизнес-анализа ИТ проектов',\n",
              "       \"Бизнес-аналитик в апарт-отель YE'S\",\n",
              "       'Бизнес-аналитик в банк (кэшбэк и программы лояльности)',\n",
              "       'Бизнес-аналитик в банк (чат-бот)',\n",
              "       'Бизнес-аналитик в блок развития',\n",
              "       'Бизнес-аналитик в группу бизнес-анализа',\n",
              "       'Бизнес-аналитик в группу управления качеством данных распределительного центра',\n",
              "       'Бизнес-аналитик в команду Бизнес-карты для корпоративных клиентов',\n",
              "       'Бизнес-аналитик в команду Карточные продукты',\n",
              "       'Бизнес-аналитик в команду Расчетные продукты и платежи для корпоративных клиентов',\n",
              "       'Бизнес-аналитик в команду продукта «Скорозвон»',\n",
              "       'Бизнес-аналитик в области e-commerce',\n",
              "       'Бизнес-аналитик в области финансовых рынков и валютно-финансовых операций',\n",
              "       'Бизнес-аналитик в отдел планирования/прогнозирования спроса и продаж (удаленно)',\n",
              "       'Бизнес-аналитик в отдел по операционному прогнозированию сухого ассортимента',\n",
              "       'Бизнес-аналитик в отдел сопровождения Магнит Косметик',\n",
              "       'Бизнес-аналитик в подразделении операционного контроля и отчетности',\n",
              "       'Бизнес-аналитик в сектор поддержки внутренних систем контроля товародвижения',\n",
              "       'Бизнес-аналитик в стрим \"Мобильный банк для бизнеса\"',\n",
              "       'Бизнес-аналитик в управление клиентского сервиса',\n",
              "       'Бизнес-аналитик данных', 'Бизнес-аналитик доменной команды (b2b)',\n",
              "       'Бизнес-аналитик интернет-магазина',\n",
              "       'Бизнес-аналитик команды \"цифровая поддержка клиента\"',\n",
              "       'Бизнес-аналитик команды «BPM. Предодобренные предложения» (кредитование СМБ)',\n",
              "       'Бизнес-аналитик коммерческого блока',\n",
              "       'Бизнес-аналитик кредитного процесса',\n",
              "       'Бизнес-аналитик на интеграцию банковских продуктов с системой фрод-мониторинга',\n",
              "       'Бизнес-аналитик на маркетплейсах (удалённо)',\n",
              "       'Бизнес-аналитик на продукты глобальных рынков/резервы/гарантии для корпоративных клиентов',\n",
              "       'Бизнес-аналитик на проекты заказной разработки',\n",
              "       'Бизнес-аналитик на процессы БЕ Импорта (Собственного импорта)',\n",
              "       'Бизнес-аналитик направления страхования',\n",
              "       'Бизнес-аналитик отдела методологии оперативного, финансового и управленческого учета',\n",
              "       'Бизнес-аналитик по автоматизации процессов отчетности',\n",
              "       'Бизнес-аналитик по автоматизации процессов отчетности (логистика)',\n",
              "       'Бизнес-аналитик по алгоритмической торговле',\n",
              "       'Бизнес-аналитик по брокерским операциям (брокерское обслуживание)',\n",
              "       'Бизнес-аналитик по внедрению Битрикс24',\n",
              "       'Бизнес-аналитик по закупкам',\n",
              "       'Бизнес-аналитик по казначейским операциям (Менеджер)',\n",
              "       'Бизнес-аналитик по качеству данных',\n",
              "       'Бизнес-аналитик по модулю CRM (продуктовая ИТ-компания, удаленно)',\n",
              "       'Бизнес-аналитик по модулю HR-системы (продуктовая ИТ-компания, удаленно)',\n",
              "       'Бизнес-аналитик по модулю СЭД (продуктовая ИТ-компания, удаленно)',\n",
              "       'Бизнес-аналитик по направлению «Автоматизация управления персоналом»',\n",
              "       'Бизнес-аналитик по нормированию труда',\n",
              "       'Бизнес-аналитик по операциям с драгоценными металлами',\n",
              "       'Бизнес-аналитик по платежам физических и юридических лиц',\n",
              "       'Бизнес-аналитик по поддержке продаж МСБ (SQL, Excel)',\n",
              "       'Бизнес-аналитик по построению процессов',\n",
              "       'Бизнес-аналитик по процессам обмена данными',\n",
              "       'Бизнес-аналитик по процессам онлайн продаж (B2C/B2B)',\n",
              "       'Бизнес-аналитик по развитию канала для физических лиц',\n",
              "       'Бизнес-аналитик по собственным операциям',\n",
              "       'Бизнес-аналитик по стратегиям рисков кредитования ЮЛ',\n",
              "       'Бизнес-аналитик по управлению запасами в 1C ERP',\n",
              "       'Бизнес-аналитик по управленческому учету ( Офис/Удаленно)',\n",
              "       'Бизнес-аналитик по цифровым продуктам',\n",
              "       'Бизнес-аналитик продуктовой команды',\n",
              "       'Бизнес-аналитик производственных процессов',\n",
              "       'Бизнес-аналитик процессного офиса (направления: документооборот, архив, делопроизводство)',\n",
              "       'Бизнес-аналитик процессов продаж (B2B)',\n",
              "       'Бизнес-аналитик с функциями Менеджера проектов',\n",
              "       'Бизнес-аналитик со знанием SQL (удаленно)/Data scientist',\n",
              "       'Бизнес-аналитик со знанием английского языка',\n",
              "       'Бизнес-аналитик стрима \"Онбординг\"',\n",
              "       'Бизнес-аналитик управления развития продаж',\n",
              "       'Бизнес-аналитик цифровизация пост-продажного обслуживания',\n",
              "       'Бизнес-аналитик цифрового продукта',\n",
              "       'Бизнес-аналитик эффективности процессов',\n",
              "       'Бизнес-аналитик, \"ТМХ-Локомотивы\"',\n",
              "       'Бизнес-аналитик, Группа продукта и аналитики интеграционных систем склада',\n",
              "       'Бизнес-аналитик, Управление организационными проектами',\n",
              "       'Бизнес-аналитик, автоматизация процессов закупки логистических услуг',\n",
              "       'Бизнес-аналитик, на проект \"Эль-Дабаа\", Египет',\n",
              "       'Бизнес-аналитик, риски Благосостояния',\n",
              "       'Бизнес-аналитик/ Системный аналитик',\n",
              "       'Бизнес-аналитик/Business analyst/(Импортозамещение)/ИТ',\n",
              "       'Бизнес-аналитик/Product owner (Кредитный конвейер)',\n",
              "       'Бизнес-аналитик/Senior', 'Бизнес-аналитик/Методолог (Финансы)',\n",
              "       'Бизнес-аналитик/Продуктовый аналитик LLM',\n",
              "       'Бизнес-аналитик/Процессный аналитик',\n",
              "       'Бизнес-аналитик/Системный аналитик', 'Бизнес-аналитик/Стратег',\n",
              "       'Бизнес-аналитик/методолог (ВХД)',\n",
              "       'Бизнес-аналитик/помощник коммерческого директора',\n",
              "       'Бизнес-аналитик/системный-аналитик в IT',\n",
              "       'Бизнес-аналитик/эксперт по визуализации',\n",
              "       'Бизнес-аналитик\\\\Business-anylyst', 'Бизнес-системный аналитик',\n",
              "       'Бизнес-системный аналитик по ДБО юридических лиц',\n",
              "       'Бизнес/Системный Аналитик DWH', 'Бизнес/Системный аналитик',\n",
              "       'Бизнес/Системный аналитик (middle/senior)',\n",
              "       'Бизнес/Системный аналитик стрима \"Аналитика и отчетность\"',\n",
              "       'Бизнес/системный аналитик',\n",
              "       'Бизнес/системный аналитик (B2С web rusklimat.ru)',\n",
              "       'Бизнес/системный аналитик (Клиенты и Тарифы)',\n",
              "       'Бизнес/системный аналитик 1С:ERP',\n",
              "       'Бизнес/системный-аналитик команды \"Интернет-банк\" для клиентов СМБ',\n",
              "       'Бизнес\\\\Системный Аналитик', 'Ведущий Бизнес Аналитик',\n",
              "       'Ведущий Бизнес-Аналитик', 'Ведущий аналитик (Бизнес аналитик)',\n",
              "       'Ведущий аналитик / Бизнес-аналитик',\n",
              "       'Ведущий аналитик бизнес-процессов',\n",
              "       'Ведущий бизнес - аналитик (id 600)',\n",
              "       'Ведущий бизнес - аналитик 1С (Регламентированный учет)',\n",
              "       'Ведущий бизнес аналитик', 'Ведущий бизнес аналитик (Solar Dozor)',\n",
              "       'Ведущий бизнес-аналитик',\n",
              "       'Ведущий бизнес-аналитик \"Документооборот и сервисы\"',\n",
              "       'Ведущий бизнес-аналитик (Analyst /Team lead analytics)',\n",
              "       'Ведущий бизнес-аналитик (Data Governance)',\n",
              "       'Ведущий бизнес-аналитик (ИТ компания)',\n",
              "       'Ведущий бизнес-аналитик (Румянцево)',\n",
              "       'Ведущий бизнес-аналитик (автоматизация отчетности)',\n",
              "       'Ведущий бизнес-аналитик (логистика)',\n",
              "       'Ведущий бизнес-аналитик / системный аналитик 1С (гибридный график работы)',\n",
              "       'Ведущий бизнес-аналитик 1С',\n",
              "       'Ведущий бизнес-аналитик 1С (Казначейство)',\n",
              "       'Ведущий бизнес-аналитик TMS',\n",
              "       'Ведущий бизнес-аналитик автоматизации сервисов HR',\n",
              "       'Ведущий бизнес-аналитик заявочной системы ESM',\n",
              "       'Ведущий бизнес-аналитик на проект внедрения 1С:ERP',\n",
              "       'Ведущий бизнес-аналитик на проект внедрения 1С:Документооборот',\n",
              "       'Ведущий бизнес-аналитик управления кредитных и документарных операций физических лиц',\n",
              "       'Ведущий бизнес-аналитик. Регламентированный учет',\n",
              "       'Ведущий бизнес-аналитик/Team lead',\n",
              "       'Ведущий бизнес-аналитик/бизнес-аналитик',\n",
              "       'Ведущий бизнес/системный аналитик',\n",
              "       'Ведущий консультант по финансовым рискам и ALM/Ведущий бизнес- и системный аналитик',\n",
              "       'Ведущий менеджер по автоматизации Бизнес процессов (Бизнес-аналитик)',\n",
              "       'Ведущий системный/бизнес аналитик',\n",
              "       'Ведущий специалист отдела методологии (бизнес-аналитик)',\n",
              "       'Ведущий эксперт по разработке бизнес-аналитики',\n",
              "       'Ведущий/младший бизнес-аналитик', 'Главный Бизнес-Аналитик',\n",
              "       'Главный бизнес-аналитик',\n",
              "       'Главный кредитный аналитик (Малый бизнес)',\n",
              "       'Главный кредитный аналитик, малый бизнес (Санкт-Петербург)',\n",
              "       'Доцент/Профессор кафедры (преподаватель по дисциплинам Бизнес информатика/Бизнес аналитика)',\n",
              "       'ИТ бизнес-аналитик (Домен финансы)',\n",
              "       'Инвестиционный аналитик / Бизнес аналитик / Финансовый аналитик (локация Сколково)',\n",
              "       'Консультант (Бизнес-аналитик Banking)',\n",
              "       'Консультант/Бизнес-аналитик по предметной области \"ТОиР промышленного оборудования, EAM, RCM, APM\"',\n",
              "       'Кредитный аналитик (средний бизнес)',\n",
              "       'Менеджер СМК / Бизнес-аналитик',\n",
              "       'Менеджер бизнес-процессов (бизнес-аналитик)',\n",
              "       'Менеджер направления моделирования бизнес-процессов (Аналитик)',\n",
              "       'Менеджер по продажам корпоративных ERP проектов/Бизнес-аналитик',\n",
              "       'Менеджер по сопровождению проектов (Бизнес-аналитик)',\n",
              "       'Менеджер проекта (Бизнес-аналитик по переводу госуслуг в электронный вид)',\n",
              "       'Менеджер проекта/бизнес аналитик/консультант по развитию корпоративной информационной системы',\n",
              "       'Менеджер проектов / бизнес- аналитик Ozon fresh',\n",
              "       'Менеджер – аналитик бизнес процессов производственного предприятия',\n",
              "       'Методолог / Бизнес-аналитик', 'Младший Бизнес-аналитик',\n",
              "       'Младший Бизнес-аналитик (e-commerce)',\n",
              "       'Младший аналитик бизнес-процессов', 'Младший бизнес - аналитик',\n",
              "       'Младший бизнес-аналитик',\n",
              "       'Младший бизнес-аналитик (Стажер/Младший Бизнес-аналитик–Technology FACE)',\n",
              "       'Младший бизнес-аналитик (Стажер/Младший бизнес-аналитик 1С)',\n",
              "       'Младший бизнес-аналитик (автоматизация)',\n",
              "       'Младший бизнес-аналитик (вывод сервисов на ЕПГУ)',\n",
              "       'Младший бизнес-аналитик ТMS (транспортная логистика)',\n",
              "       'Младший бизнес/системный аналитик',\n",
              "       'Начальник отдела исследований и аналитики розничного бизнеса',\n",
              "       'Начинающий бизнес-аналитик',\n",
              "       'Начинающий бизнес-аналитик (Битрикс24) в офис',\n",
              "       'Непросто Менеджер проекта/аналитик/бизнес-партнер (маркетплейсы, WB)',\n",
              "       'Помощник руководителя/бизнес-ассистент/аналитик-финансист',\n",
              "       'Продуктовый бизнес-аналитик', 'Проектный бизнес-аналитик',\n",
              "       'Проектный бизнес-аналитик 1С (ERP, КА, УТ)',\n",
              "       'Проектный менеджер/Бизнес-аналитик/Процесс инженер',\n",
              "       'Процессный бизнес-аналитик',\n",
              "       'Разработчик систем бизнес-аналитики',\n",
              "       'Руководитель Управления Бизнес Аналитики',\n",
              "       'Руководитель направления по финансовой и бизнес-аналитике',\n",
              "       'Руководитель направления/Бизнес-Аналитик',\n",
              "       'Руководитель практики бизнес-анализа и аналитики',\n",
              "       'Системный / бизнес аналитик в IT, Middle',\n",
              "       'Системный / бизнес аналитик в команду разработки продукта (middle/senior)',\n",
              "       'Системный /бизнес аналитик',\n",
              "       'Системный аналитик (Брокерский бизнес)',\n",
              "       'Системный аналитик (Регулярный бизнес)',\n",
              "       'Системный аналитик (Транзакционный бизнес)',\n",
              "       'Системный аналитик (бизнес-карты)',\n",
              "       'Системный аналитик (брокерский бизнес)',\n",
              "       'Системный аналитик, бизнес-аналитик',\n",
              "       'Системный аналитик/Бизнес аналитик',\n",
              "       'Системный аналитик/Бизнес-аналитик',\n",
              "       'Системный аналитик/бизнес-аналитик (поточное производство)',\n",
              "       'Системный-аналитик/Бизнес-аналитик', 'Системный/Бизнес аналитик',\n",
              "       'Системный/бизнес аналитик',\n",
              "       'Системный/бизнес аналитик (СберПрайм)',\n",
              "       'Специалист (Бизнес-аналитик в ИТ сфере)',\n",
              "       'Специалист (Бизнес-аналитика систем проектирования)',\n",
              "       'Специалист по оптимизации и регламентации бизнес-процессов (бизнес - аналитик)',\n",
              "       'Специалист по организационному развитию (Бизнес-аналитик)',\n",
              "       'Специалист технической поддержки / Бизнес аналитик / Аналитик',\n",
              "       'Стажер / Бизнес-аналитик, Track&Trace, Technology',\n",
              "       'Стажер бизнес-аналитик 1С', 'Стажер бизнес-аналитик, B2C, Финтех',\n",
              "       'Старший Бизнес-Аналитик в Управленческом Консалтинге (Retail & Consumer)',\n",
              "       'Старший Бизнес-Аналитик в управленческом консалтинге (S&O T&L)',\n",
              "       'Старший бизнес аналитик', 'Старший бизнес-аналитик',\n",
              "       'Старший бизнес-аналитик (VK Tech)',\n",
              "       'Старший бизнес-аналитик (fullstack)',\n",
              "       'Старший бизнес-аналитик (Старший бизнес-аналитик миграции данных)',\n",
              "       'Старший бизнес-аналитик (Старший консультант - Команда TeDo Technology Consulting)',\n",
              "       'Старший бизнес-аналитик (Старший консультант – Информационная безопасность)',\n",
              "       'Старший бизнес-аналитик (Управление рисками)',\n",
              "       'Старший бизнес-аналитик (с экспертизой в области процессов инвестиционной деятельности)',\n",
              "       'Старший бизнес-аналитик 1С (Бюджетирование)',\n",
              "       'Старший бизнес-аналитик КИБ (Банк)',\n",
              "       'Старший бизнес-аналитик в Яндекс 360',\n",
              "       'Старший бизнес-аналитик в группу операционного ПО',\n",
              "       'Старший бизнес-аналитик по финансовому моделированию',\n",
              "       'Старший кредитный аналитик малого бизнеса',\n",
              "       'Старший менеджер по аналитике корпоративного бизнеса',\n",
              "       'Старший системный / бизнес аналитик',\n",
              "       'Технический писатель (бизнес-аналитик)',\n",
              "       'Технолог (Бизнес-аналитик)',\n",
              "       'Технолог (Бизнес\\\\Системный аналитик)',\n",
              "       'Технолог (бизнес-аналитик) бэк-офисных розничных процессов',\n",
              "       'Финансовый аналитик \\\\ Бизнес аналитик',\n",
              "       'Финансовый аналитик Отдела аналитики и бизнес-планирования',\n",
              "       'Финансовый аналитик Отдела бизнес планирования управленческой отчетности',\n",
              "       'Финансовый аналитик направления бизнес-партнерства развития',\n",
              "       'Финансовый/Бизнес Аналитик',\n",
              "       'Фулстек ит-аналитик (Бизнес & Системный)'], dtype=object)"
            ]
          },
          "metadata": {},
          "execution_count": 300
        }
      ]
    },
    {
      "cell_type": "code",
      "source": [
        "ba['name'] = ba['name'].str.lower()"
      ],
      "metadata": {
        "id": "uLhDyjl-To7z"
      },
      "execution_count": null,
      "outputs": []
    },
    {
      "cell_type": "code",
      "source": [
        "da['name'].sort_values().unique()"
      ],
      "metadata": {
        "id": "YgWWckSNVN0h",
        "outputId": "eaff6908-3656-4cba-8043-adf902929768",
        "colab": {
          "base_uri": "https://localhost:8080/"
        }
      },
      "execution_count": null,
      "outputs": [
        {
          "output_type": "execute_result",
          "data": {
            "text/plain": [
              "array(['BI data-аналитик',\n",
              "       'BI-analyst \\\\ Data analyst \\\\ Аналитик данных (Senior)',\n",
              "       'Business (Data) Analyst', 'ClickHouse DBA / Аналитик данных',\n",
              "       'Cтарший специалист по анализу данных о потребителе (PDC Insights Analyst)',\n",
              "       'DATA-аналитик', 'Data - аналитик (Middle)', 'Data Analyst',\n",
              "       'Data Analyst \"Growth\"',\n",
              "       'Data Analyst (Analytical Support Team) (Ru + En) JEDai',\n",
              "       'Data Analyst (Customer Communication)',\n",
              "       'Data Analyst (Growth Partner)', 'Data Analyst (SberCampaigning)',\n",
              "       'Data Analyst (e-commerce)', 'Data Analyst (Подмены)',\n",
              "       'Data Analyst / Data Scientist (Junior/Junior+)',\n",
              "       'Data Analyst в Департамент данных и рекомендательных систем В2С',\n",
              "       'Data Analyst в Транзакционный банкинг B2C',\n",
              "       'Data Analyst в блок Стратегия и развитие',\n",
              "       'Data Analyst/System Analyst (AI-помощник)',\n",
              "       'Data Engineer (PostgreSQL, Greenplum) / Автоматизация и аналитика корпоративного бизнеса',\n",
              "       'Data Engineer / Data Analyst',\n",
              "       'Data Engineer в Отдел разработки инструментов и аналитики данных',\n",
              "       'Data Engineer в службу аналитики продаж Рекламы',\n",
              "       'Data Engineer/Data Analyst',\n",
              "       'Data Science Lead / Руководитель группы специалистов по машинному обучению и аналитике данных',\n",
              "       'Data Scientist / Автоматизация и аналитика корпоративного бизнеса',\n",
              "       'Data Scientist/Analyst \"Платформа экспериментов\" (Senior)',\n",
              "       'Data Strategy Analyst', 'Data analyst',\n",
              "       'Data analyst ( Мiddle/Middle+ )', 'Data analyst (BI-эксперт)',\n",
              "       'Data analyst (Junior)', 'Data analyst (Middle)',\n",
              "       'Data analyst (SberDevices)', 'Data analyst / Аналитик данных',\n",
              "       'Data analyst в направлении маркетинга',\n",
              "       'Data analyst/Аналитик данных',\n",
              "       'Data engineer в команду аналитики контакт-центра, Middle',\n",
              "       'Data engineer/Data analyst', 'Data quality analyst',\n",
              "       'Data scientist/Data Analyst', 'Data Аналитик', 'Data аналитик',\n",
              "       'Data аналитик (финансы)', 'Data-аналитик (корпоративный блок)',\n",
              "       'Data/Product Analyst', 'Financial Data Analyst',\n",
              "       'IT-специалист (аналитик данных)',\n",
              "       'Junior Analyst / Младший аналитик данных', 'Junior Data Analyst',\n",
              "       'Junior Data Engineer/ BI Аналитик (Дашборды)',\n",
              "       'Junior Data Scientist+Data Analyst (Команда AI Дирекции по экосистеме юр. лиц)',\n",
              "       'Junior Marketing Data Analyst',\n",
              "       'Junior Аналитик данных в отдел аудита среднего бизнеса',\n",
              "       'Lead Data Analyst', 'Middle Data Analyst',\n",
              "       'Middle Data Analyst (SQL)',\n",
              "       'Middle Data Analyst (команда Digital Avatar)',\n",
              "       'Middle Data Analyst (команда СХ КИБ)',\n",
              "       'Middle Data Analyst NLP/SberProfile',\n",
              "       'Middle Data Analyst [Python]',\n",
              "       'Middle Data analyst (Команда Управления Комплаенс)',\n",
              "       'Middle data analyst',\n",
              "       'Middle Дата Аналитик в RecSys Platform (Big Data)',\n",
              "       'Middle Дата Аналитик в продукт Travel (Big Data)',\n",
              "       'Middle/Senior Data Analyst',\n",
              "       'Middle/Senior Data Analyst (SberNBA)', 'Product/Data Analyst',\n",
              "       'Product/Data Analyst (GigaCode)', 'Senior Data Analyst',\n",
              "       'Senior Data Analyst (Pharma) / Старший аналитик фармацевтических данных',\n",
              "       'Senior Data Analyst в Блок Финансы',\n",
              "       'Senior Data аналитик в Центр маркетинга (NUUM)',\n",
              "       'Senior Frontend developer на продукт МТС Аналитика (Big Data)',\n",
              "       'Senior Java разработчик на платформу МТС Аналитика в команду идентификации (Big Data)',\n",
              "       'Senior data analyst',\n",
              "       'Senior data analyst (Mobile games marketing)',\n",
              "       'Senior data/product analyst (SberDevices)',\n",
              "       'Senior/Middle NLP Data Analyst GigaChat',\n",
              "       'Sr Data analyst / Аналитик разработчик',\n",
              "       'Аналитик 2-ой линии технической поддержки в продукт Data House (Big Data)',\n",
              "       'Аналитик BI / Аналитик данных', 'Аналитик BI/Аналитик данных',\n",
              "       'Аналитик BI/Аналитик данных (Big Data)', 'Аналитик Big Data',\n",
              "       'Аналитик DWH (Трайб Data Office)', 'Аналитик Data Governance',\n",
              "       'Аналитик Data Science', 'Аналитик Data Science (NLP, LLM)',\n",
              "       'Аналитик ETL в проект по созданию и развитию хранилища данных',\n",
              "       'Аналитик SQL- Качества данных', 'Аналитик баз данных',\n",
              "       'Аналитик баз данных (аренда торговой недвижимости)',\n",
              "       'Аналитик баз данных (портфель карт)',\n",
              "       'Аналитик баз данных (сверки по транзакциям)',\n",
              "       'Аналитик баз данных 1С (Торговля)', 'Аналитик базы данных',\n",
              "       'Аналитик больших данных (Data steward/Распорядитель данных)',\n",
              "       'Аналитик внешних данных', 'Аналитик данных',\n",
              "       'Аналитик данных (BI)', 'Аналитик данных (Data Analist)',\n",
              "       'Аналитик данных (Data Analyst)',\n",
              "       'Аналитик данных (Data scientist/дата-инженер)',\n",
              "       'Аналитик данных (HR направление)', 'Аналитик данных (Middle)',\n",
              "       'Аналитик данных (Rambler&Co)',\n",
              "       'Аналитик данных (SQL / Excel / Power BI)',\n",
              "       'Аналитик данных (SQL)', 'Аналитик данных (Senior)',\n",
              "       'Аналитик данных (Senior/Middle)',\n",
              "       'Аналитик данных (digital маркетинг)',\n",
              "       'Аналитик данных (Аналитические сервисы)',\n",
              "       'Аналитик данных (Веб-аналитика)',\n",
              "       'Аналитик данных (Казань-Телематика)', 'Аналитик данных (Москва)',\n",
              "       'Аналитик данных (НСИ)', 'Аналитик данных (Операционный аудит)',\n",
              "       'Аналитик данных (Проектный офис)', 'Аналитик данных (Риски)',\n",
              "       'Аналитик данных (Розничные риски)',\n",
              "       'Аналитик данных (Северсталь Диджитал)',\n",
              "       'Аналитик данных (Специалист 1 категории)',\n",
              "       'Аналитик данных (Ценообразование)',\n",
              "       'Аналитик данных (департамент управления цепями поставок)',\n",
              "       'Аналитик данных (железнодорожный транспорт)',\n",
              "       'Аналитик данных (направление \"Кошелек клиента\", КИБ)',\n",
              "       'Аналитик данных (направление розничных витрин)',\n",
              "       'Аналитик данных (нефтегазовое строительство)',\n",
              "       'Аналитик данных (офис г. Владимир)', 'Аналитик данных (продажи)',\n",
              "       'Аналитик данных (расчет премий)',\n",
              "       'Аналитик данных (риск отчетность)',\n",
              "       'Аналитик данных (риски) / Data Analyst',\n",
              "       'Аналитик данных (телеком)', 'Аналитик данных (фармдистрибьютор)',\n",
              "       'Аналитик данных / Data Analyst',\n",
              "       'Аналитик данных / Data Analyst (JoomPro)',\n",
              "       'Аналитик данных / Data Analyst (middle)',\n",
              "       'Аналитик данных / Data Scientist',\n",
              "       'Аналитик данных / Аналитик DWH',\n",
              "       'Аналитик данных / Дата аналитик / data analyst (Анти-фрод)',\n",
              "       'Аналитик данных / Инженер по качеству данных',\n",
              "       'Аналитик данных / аналитик SQL',\n",
              "       'Аналитик данных / дата аналитик / data analyst (риски автокредитования)',\n",
              "       'Аналитик данных B2B/B2G/B2C', 'Аналитик данных BI',\n",
              "       'Аналитик данных BI / ЩЛЗ',\n",
              "       'Аналитик данных BI отдела автоматизации (г. Воронеж)',\n",
              "       'Аналитик данных BI отдела автоматизации (гибридный график работы)',\n",
              "       'Аналитик данных Excel', 'Аналитик данных IDK',\n",
              "       'Аналитик данных IVR', 'Аналитик данных SQL',\n",
              "       'Аналитик данных x-code', 'Аналитик данных ИТ-инфраструктуры',\n",
              "       'Аналитик данных ММБ',\n",
              "       'Аналитик данных Мониторинг кредитных рисков',\n",
              "       'Аналитик данных в Доставку',\n",
              "       'Аналитик данных в Штаб блока \"Транзакционный банкинг B2C\"',\n",
              "       'Аналитик данных в группу платежной аналитики',\n",
              "       'Аналитик данных в группу управления метаданными [Governance]',\n",
              "       'Аналитик данных в исследовательскую команду CIB',\n",
              "       'Аналитик данных в команду платформы АБ-тестирования',\n",
              "       'Аналитик данных в направление инцидент и проблем менеджмент',\n",
              "       'Аналитик данных в отдел планирования и прогнозирования (data analyst / data scientist)',\n",
              "       'Аналитик данных в стрим Интернет-Банк СМБ',\n",
              "       'Аналитик данных в сфере обращения с отходами',\n",
              "       'Аналитик данных в транзакционный банкинг B2C',\n",
              "       'Аналитик данных внутритрубной диагностики',\n",
              "       'Аналитик данных отдела расчета и планирования мотивационных показателей',\n",
              "       'Аналитик данных по взысканию',\n",
              "       'Аналитик данных по клиентской и продуктовой аналитике',\n",
              "       'Аналитик данных по рискам',\n",
              "       'Аналитик данных систем целевого маркетинга',\n",
              "       'Аналитик данных управления архитектуры данных и бизнес-аналитики',\n",
              "       'Аналитик данных, Отдел рисков',\n",
              "       'Аналитик данных/ исследователь данных',\n",
              "       'Аналитик качества данных управленческой отчетности',\n",
              "       'Аналитик модели данных', 'Аналитик на проект \"Витрина данных\"',\n",
              "       'Аналитик по Data Quality', 'Аналитик по безопасности данных (BI)',\n",
              "       'Аналитик по качеству данных (data quality) [Governance]',\n",
              "       'Аналитик по корректности данных',\n",
              "       'Аналитик по системам отчетности (junior data engineer)',\n",
              "       'Аналитик тендерных данных (лекарственные препараты)',\n",
              "       'Аналитик хранилища данных (DWH)', 'Аналитик-разработчик данных',\n",
              "       'Аналитик/разработчик баз данных',\n",
              "       'Бизнес аналитик / администратор спортивных платформ и баз данных',\n",
              "       'Бизнес аналитик в Команду анализа данных',\n",
              "       'Бизнес-аналитик в группу управления качеством данных распределительного центра',\n",
              "       'Бизнес-аналитик данных', 'Бизнес-аналитик по качеству данных',\n",
              "       'Бизнес-аналитик со знанием SQL (удаленно)/Data scientist',\n",
              "       'Ведущий Аналитик Данных (Customer Experience)',\n",
              "       'Ведущий аналитик данных',\n",
              "       'Ведущий аналитик данных CV (Северсталь Диджитал)',\n",
              "       'Ведущий аналитик данных в Блок Люди и Культура',\n",
              "       'Ведущий аналитик данных отчетности по продуктам благосостояния (инвестиции, страхование)',\n",
              "       'Ведущий аналитик клиентских данных',\n",
              "       'Ведущий аналитик рисков данных',\n",
              "       'Ведущий бизнес-аналитик (Data Governance)',\n",
              "       'Ведущий дата аналитик',\n",
              "       'Ведущий системный аналитик (платформа данных)',\n",
              "       'Ведущий специалист по системам аналитики данных (г.Иркутск)',\n",
              "       'Ведущий экономист - аналитик данных',\n",
              "       'Владелец продукта (Платформа реализации клиентских проектов по аналитике данных/ИИ) [#Cloud MTS]',\n",
              "       'ГИС Аналитик (специалист по витрине данных)',\n",
              "       'Главный аналитик данных',\n",
              "       'Главный аналитик данных (дата аналитик / data analyst)',\n",
              "       'Главный эксперт (аналитик данных Excel)', 'Дата аналитик',\n",
              "       'Дата аналитик (Data Scientist)', 'Дата аналитик (middle\\\\senior)',\n",
              "       'Дата аналитик (дивизион Домклик)',\n",
              "       'Дата аналитик / Data analyst (Кредитный потенциал)',\n",
              "       'Дата-аналитик', 'Дата-аналитик (Data Analyst)',\n",
              "       'Дата-аналитик в команду PRO',\n",
              "       'Заместитель начальника отдела анализа и контроля качества данных (Аналитик данных)',\n",
              "       'Заместитель начальника отдела исследований и аналитики данных',\n",
              "       'Инженер/Аналитик данных Excel',\n",
              "       'Консультант (Аналитик данных) отдела анализа и контроля качества данных',\n",
              "       'Маркетолог-аналитик данных фармотрасли',\n",
              "       'Менеджер по методологии данных (системный аналитик)',\n",
              "       'Менеджер по методологии данных и корпоративной отчетности (аналитик в доменные команды)',\n",
              "       'Менеджер по развитию (аналитик данных)',\n",
              "       'Младший Оператор баз данных / Аналитик',\n",
              "       'Младший аналитик данных', 'Младший аналитик данных (Excel)',\n",
              "       'Младший аналитик данных (Junior Data Analyst)',\n",
              "       'Младший аналитик данных (Ozon СНГ)',\n",
              "       'Научный сотрудник в подразделение «центр стратегической аналитики и больших данных»',\n",
              "       'Научный сотрудник в подразделение «центр стратегической аналитики и больших данных» (постдок)',\n",
              "       'Начинающий Аналитик данных',\n",
              "       'Разработчик витрин данных (Аналитика и отчетность)',\n",
              "       'Разработчик/аналитик DWH (Управление\\xa0развития корпоративного хранилища данных)',\n",
              "       'Руководитель Data Office направления аналитики данных DWH/BI',\n",
              "       'Руководитель дата аналитики',\n",
              "       'Руководитель направления (Клиентская аналитика и монетизация данных)',\n",
              "       'Руководитель направления аналитики данных',\n",
              "       'Руководитель направления аналитики данных и отчетности (В2В сегмент)',\n",
              "       'Руководитель отдела аналитики данных',\n",
              "       'Системный аналитик (Big Data)',\n",
              "       'Системный аналитик (Data Governance)',\n",
              "       'Системный аналитик (SberNBA.Data Сonnect)',\n",
              "       'Системный аналитик (Витрины данных)',\n",
              "       'Системный аналитик (Трайб Data Office)',\n",
              "       'Системный аналитик (взаимодействие между абонентами сети передачи данных самолета МС-21)',\n",
              "       'Системный аналитик (витрины данных на корпоративном хранилище DWH)',\n",
              "       'Системный аналитик (проект хранилище данных)',\n",
              "       'Системный аналитик (разработка и развитие витрин данных)',\n",
              "       'Системный аналитик (хранилища данных)',\n",
              "       'Системный аналитик в ядро сервиса репликации данных в Hadoop (Stork)',\n",
              "       'Системный аналитик данных',\n",
              "       'Системный аналитик модели ядра хранилища данных',\n",
              "       'Системный аналитик/Аналитик данных (DWH)',\n",
              "       'Специалист по анализу данных/Data Analyst (направление CRM, маркетинг)',\n",
              "       'Специалист по обработке данных / Аналитик / Координатор',\n",
              "       'Специалист по сопровождению АБС (Аналитик данных - SQL, Oracle, Postgree)',\n",
              "       'Специалист поддержки клиентского сервиса (аналитика, работа с базами данных)',\n",
              "       'Специалист-аналитик данных', 'Стажер - Аналитик данных',\n",
              "       'Стажер Аналитик МТС FIX (Big Data)', 'Стажер Аналитик данных',\n",
              "       'Стажер в Группу аналитики данных',\n",
              "       'Стажер дата-аналитик в центр мониторинга', 'Старший Data Analyst',\n",
              "       'Старший аналитик базы данных, remote', 'Старший аналитик данных',\n",
              "       'Старший бизнес-аналитик (Старший бизнес-аналитик миграции данных)',\n",
              "       'Технический аналитик данных (BI)',\n",
              "       'Управляющий эксперт по аналитике данных', 'Урбан-аналитик данных',\n",
              "       'Эксперт Группа аналитики и моделирования (Data scientist)',\n",
              "       'Эксперт по аналитике и визуализации данных',\n",
              "       'Эксперт по цифровым технологиям аудита (Data Analyst)'],\n",
              "      dtype=object)"
            ]
          },
          "metadata": {},
          "execution_count": 302
        }
      ]
    },
    {
      "cell_type": "code",
      "source": [
        "da['name'] = da['name'].str.lower()"
      ],
      "metadata": {
        "id": "BRf3X5ZWmZ8z"
      },
      "execution_count": null,
      "outputs": []
    },
    {
      "cell_type": "markdown",
      "source": [
        "Констатируем, что в обоих случаях перечни содержат информацию о ваканчиях по иным профилям. Проведение анализа без проведения дополнительной очистки приведет к искажению полученных выводов. Нам нужно исключить из датасетов информацию о вакансиях, не относящихся к соответствующему направлению. Для этого удалим основные ключевые слова."
      ],
      "metadata": {
        "id": "XSg-hux6WTSU"
      }
    },
    {
      "cell_type": "code",
      "source": [
        "ba = ba[ba['name'].str.contains('data|hr|кредитный|преподаватель|ассистент|партнер|разработчик|системный|финансовый')== False]"
      ],
      "metadata": {
        "id": "u9FH-rLpU7AU"
      },
      "execution_count": null,
      "outputs": []
    },
    {
      "cell_type": "code",
      "source": [
        "da = da[da['name'].str.contains('bi|business|engineer|science|scientist|бизнес|системный|научный|разработчик')== False]"
      ],
      "metadata": {
        "id": "rt81lee8V4hv"
      },
      "execution_count": null,
      "outputs": []
    },
    {
      "cell_type": "markdown",
      "source": [
        "В целях снижения объема датасетов удалим столбцы с дублируемой и / или нерелевантной информацией."
      ],
      "metadata": {
        "id": "pT7t1cjwZ5MC"
      }
    },
    {
      "cell_type": "code",
      "source": [
        "ba.drop(['type', 'department', 'description_lemmatized', 'key_skills'], axis = 1, inplace = True)"
      ],
      "metadata": {
        "id": "ZHjO0aNJWVqF"
      },
      "execution_count": null,
      "outputs": []
    },
    {
      "cell_type": "code",
      "source": [
        "\n",
        "da.drop(['type', 'department', 'description_lemmatized', 'key_skills'], axis = 1, inplace = True)"
      ],
      "metadata": {
        "id": "N9Qqe7HVYVzb"
      },
      "execution_count": null,
      "outputs": []
    },
    {
      "cell_type": "markdown",
      "source": [
        "Итак, данные были загружены, проверены на дубликаты и пропуски, очищены от вакансий, неверно отнесенных к той или иной категории, сокращены за счет неревантной информации и готовы к анализу."
      ],
      "metadata": {
        "id": "GaCgYju1cevQ"
      }
    },
    {
      "cell_type": "markdown",
      "source": [
        "<a id=\"analysis\"></a>\n",
        "**Исследовательский анализ**\n",
        "\n",
        "Начнем с определения того, какой опыт в каждой из сфер чаще интересует работодателей на HH.ru."
      ],
      "metadata": {
        "id": "0izh1DQFbhTj"
      }
    },
    {
      "cell_type": "code",
      "source": [
        "grade_ba = pd.DataFrame(ba.groupby('experience')['experience'].count())\n",
        "grade_da = pd.DataFrame(da.groupby('experience')['experience'].count())"
      ],
      "metadata": {
        "id": "b56I0RkKoYmJ"
      },
      "execution_count": null,
      "outputs": []
    },
    {
      "cell_type": "code",
      "source": [
        "fig= px.bar(grade_ba,\n",
        "                y = 'experience',\n",
        "                title = 'Грейды бизнес-аналитиков',\n",
        "                color_discrete_sequence=[\"green\"])\n",
        "fig.update_layout(autosize=False,\n",
        "                  width=700,\n",
        "                  height=700,\n",
        "                  xaxis_title = 'Грейд',\n",
        "                  yaxis_title = 'Количество вакансий')"
      ],
      "metadata": {
        "colab": {
          "base_uri": "https://localhost:8080/",
          "height": 717
        },
        "id": "WDEJtzoJrFJO",
        "outputId": "3cb1439b-604a-481d-d416-d0e9349f5f7d"
      },
      "execution_count": null,
      "outputs": [
        {
          "output_type": "display_data",
          "data": {
            "text/html": [
              "<html>\n",
              "<head><meta charset=\"utf-8\" /></head>\n",
              "<body>\n",
              "    <div>            <script src=\"https://cdnjs.cloudflare.com/ajax/libs/mathjax/2.7.5/MathJax.js?config=TeX-AMS-MML_SVG\"></script><script type=\"text/javascript\">if (window.MathJax && window.MathJax.Hub && window.MathJax.Hub.Config) {window.MathJax.Hub.Config({SVG: {font: \"STIX-Web\"}});}</script>                <script type=\"text/javascript\">window.PlotlyConfig = {MathJaxConfig: 'local'};</script>\n",
              "        <script charset=\"utf-8\" src=\"https://cdn.plot.ly/plotly-2.24.1.min.js\"></script>                <div id=\"03beac51-ec6b-4ac7-a4c0-686e20592a51\" class=\"plotly-graph-div\" style=\"height:700px; width:700px;\"></div>            <script type=\"text/javascript\">                                    window.PLOTLYENV=window.PLOTLYENV || {};                                    if (document.getElementById(\"03beac51-ec6b-4ac7-a4c0-686e20592a51\")) {                    Plotly.newPlot(                        \"03beac51-ec6b-4ac7-a4c0-686e20592a51\",                        [{\"alignmentgroup\":\"True\",\"hovertemplate\":\"index=%{x}\\u003cbr\\u003eexperience=%{y}\\u003cextra\\u003e\\u003c\\u002fextra\\u003e\",\"legendgroup\":\"\",\"marker\":{\"color\":\"green\",\"pattern\":{\"shape\":\"\"}},\"name\":\"\",\"offsetgroup\":\"\",\"orientation\":\"v\",\"showlegend\":false,\"textposition\":\"auto\",\"x\":[\"Junior (no experince)\",\"Junior+ (1-3 years)\",\"Middle (3-6 years)\",\"Senior (6+ years)\"],\"xaxis\":\"x\",\"y\":[56,448,378,10],\"yaxis\":\"y\",\"type\":\"bar\"}],                        {\"template\":{\"data\":{\"histogram2dcontour\":[{\"type\":\"histogram2dcontour\",\"colorbar\":{\"outlinewidth\":0,\"ticks\":\"\"},\"colorscale\":[[0.0,\"#0d0887\"],[0.1111111111111111,\"#46039f\"],[0.2222222222222222,\"#7201a8\"],[0.3333333333333333,\"#9c179e\"],[0.4444444444444444,\"#bd3786\"],[0.5555555555555556,\"#d8576b\"],[0.6666666666666666,\"#ed7953\"],[0.7777777777777778,\"#fb9f3a\"],[0.8888888888888888,\"#fdca26\"],[1.0,\"#f0f921\"]]}],\"choropleth\":[{\"type\":\"choropleth\",\"colorbar\":{\"outlinewidth\":0,\"ticks\":\"\"}}],\"histogram2d\":[{\"type\":\"histogram2d\",\"colorbar\":{\"outlinewidth\":0,\"ticks\":\"\"},\"colorscale\":[[0.0,\"#0d0887\"],[0.1111111111111111,\"#46039f\"],[0.2222222222222222,\"#7201a8\"],[0.3333333333333333,\"#9c179e\"],[0.4444444444444444,\"#bd3786\"],[0.5555555555555556,\"#d8576b\"],[0.6666666666666666,\"#ed7953\"],[0.7777777777777778,\"#fb9f3a\"],[0.8888888888888888,\"#fdca26\"],[1.0,\"#f0f921\"]]}],\"heatmap\":[{\"type\":\"heatmap\",\"colorbar\":{\"outlinewidth\":0,\"ticks\":\"\"},\"colorscale\":[[0.0,\"#0d0887\"],[0.1111111111111111,\"#46039f\"],[0.2222222222222222,\"#7201a8\"],[0.3333333333333333,\"#9c179e\"],[0.4444444444444444,\"#bd3786\"],[0.5555555555555556,\"#d8576b\"],[0.6666666666666666,\"#ed7953\"],[0.7777777777777778,\"#fb9f3a\"],[0.8888888888888888,\"#fdca26\"],[1.0,\"#f0f921\"]]}],\"heatmapgl\":[{\"type\":\"heatmapgl\",\"colorbar\":{\"outlinewidth\":0,\"ticks\":\"\"},\"colorscale\":[[0.0,\"#0d0887\"],[0.1111111111111111,\"#46039f\"],[0.2222222222222222,\"#7201a8\"],[0.3333333333333333,\"#9c179e\"],[0.4444444444444444,\"#bd3786\"],[0.5555555555555556,\"#d8576b\"],[0.6666666666666666,\"#ed7953\"],[0.7777777777777778,\"#fb9f3a\"],[0.8888888888888888,\"#fdca26\"],[1.0,\"#f0f921\"]]}],\"contourcarpet\":[{\"type\":\"contourcarpet\",\"colorbar\":{\"outlinewidth\":0,\"ticks\":\"\"}}],\"contour\":[{\"type\":\"contour\",\"colorbar\":{\"outlinewidth\":0,\"ticks\":\"\"},\"colorscale\":[[0.0,\"#0d0887\"],[0.1111111111111111,\"#46039f\"],[0.2222222222222222,\"#7201a8\"],[0.3333333333333333,\"#9c179e\"],[0.4444444444444444,\"#bd3786\"],[0.5555555555555556,\"#d8576b\"],[0.6666666666666666,\"#ed7953\"],[0.7777777777777778,\"#fb9f3a\"],[0.8888888888888888,\"#fdca26\"],[1.0,\"#f0f921\"]]}],\"surface\":[{\"type\":\"surface\",\"colorbar\":{\"outlinewidth\":0,\"ticks\":\"\"},\"colorscale\":[[0.0,\"#0d0887\"],[0.1111111111111111,\"#46039f\"],[0.2222222222222222,\"#7201a8\"],[0.3333333333333333,\"#9c179e\"],[0.4444444444444444,\"#bd3786\"],[0.5555555555555556,\"#d8576b\"],[0.6666666666666666,\"#ed7953\"],[0.7777777777777778,\"#fb9f3a\"],[0.8888888888888888,\"#fdca26\"],[1.0,\"#f0f921\"]]}],\"mesh3d\":[{\"type\":\"mesh3d\",\"colorbar\":{\"outlinewidth\":0,\"ticks\":\"\"}}],\"scatter\":[{\"fillpattern\":{\"fillmode\":\"overlay\",\"size\":10,\"solidity\":0.2},\"type\":\"scatter\"}],\"parcoords\":[{\"type\":\"parcoords\",\"line\":{\"colorbar\":{\"outlinewidth\":0,\"ticks\":\"\"}}}],\"scatterpolargl\":[{\"type\":\"scatterpolargl\",\"marker\":{\"colorbar\":{\"outlinewidth\":0,\"ticks\":\"\"}}}],\"bar\":[{\"error_x\":{\"color\":\"#2a3f5f\"},\"error_y\":{\"color\":\"#2a3f5f\"},\"marker\":{\"line\":{\"color\":\"#E5ECF6\",\"width\":0.5},\"pattern\":{\"fillmode\":\"overlay\",\"size\":10,\"solidity\":0.2}},\"type\":\"bar\"}],\"scattergeo\":[{\"type\":\"scattergeo\",\"marker\":{\"colorbar\":{\"outlinewidth\":0,\"ticks\":\"\"}}}],\"scatterpolar\":[{\"type\":\"scatterpolar\",\"marker\":{\"colorbar\":{\"outlinewidth\":0,\"ticks\":\"\"}}}],\"histogram\":[{\"marker\":{\"pattern\":{\"fillmode\":\"overlay\",\"size\":10,\"solidity\":0.2}},\"type\":\"histogram\"}],\"scattergl\":[{\"type\":\"scattergl\",\"marker\":{\"colorbar\":{\"outlinewidth\":0,\"ticks\":\"\"}}}],\"scatter3d\":[{\"type\":\"scatter3d\",\"line\":{\"colorbar\":{\"outlinewidth\":0,\"ticks\":\"\"}},\"marker\":{\"colorbar\":{\"outlinewidth\":0,\"ticks\":\"\"}}}],\"scattermapbox\":[{\"type\":\"scattermapbox\",\"marker\":{\"colorbar\":{\"outlinewidth\":0,\"ticks\":\"\"}}}],\"scatterternary\":[{\"type\":\"scatterternary\",\"marker\":{\"colorbar\":{\"outlinewidth\":0,\"ticks\":\"\"}}}],\"scattercarpet\":[{\"type\":\"scattercarpet\",\"marker\":{\"colorbar\":{\"outlinewidth\":0,\"ticks\":\"\"}}}],\"carpet\":[{\"aaxis\":{\"endlinecolor\":\"#2a3f5f\",\"gridcolor\":\"white\",\"linecolor\":\"white\",\"minorgridcolor\":\"white\",\"startlinecolor\":\"#2a3f5f\"},\"baxis\":{\"endlinecolor\":\"#2a3f5f\",\"gridcolor\":\"white\",\"linecolor\":\"white\",\"minorgridcolor\":\"white\",\"startlinecolor\":\"#2a3f5f\"},\"type\":\"carpet\"}],\"table\":[{\"cells\":{\"fill\":{\"color\":\"#EBF0F8\"},\"line\":{\"color\":\"white\"}},\"header\":{\"fill\":{\"color\":\"#C8D4E3\"},\"line\":{\"color\":\"white\"}},\"type\":\"table\"}],\"barpolar\":[{\"marker\":{\"line\":{\"color\":\"#E5ECF6\",\"width\":0.5},\"pattern\":{\"fillmode\":\"overlay\",\"size\":10,\"solidity\":0.2}},\"type\":\"barpolar\"}],\"pie\":[{\"automargin\":true,\"type\":\"pie\"}]},\"layout\":{\"autotypenumbers\":\"strict\",\"colorway\":[\"#636efa\",\"#EF553B\",\"#00cc96\",\"#ab63fa\",\"#FFA15A\",\"#19d3f3\",\"#FF6692\",\"#B6E880\",\"#FF97FF\",\"#FECB52\"],\"font\":{\"color\":\"#2a3f5f\"},\"hovermode\":\"closest\",\"hoverlabel\":{\"align\":\"left\"},\"paper_bgcolor\":\"white\",\"plot_bgcolor\":\"#E5ECF6\",\"polar\":{\"bgcolor\":\"#E5ECF6\",\"angularaxis\":{\"gridcolor\":\"white\",\"linecolor\":\"white\",\"ticks\":\"\"},\"radialaxis\":{\"gridcolor\":\"white\",\"linecolor\":\"white\",\"ticks\":\"\"}},\"ternary\":{\"bgcolor\":\"#E5ECF6\",\"aaxis\":{\"gridcolor\":\"white\",\"linecolor\":\"white\",\"ticks\":\"\"},\"baxis\":{\"gridcolor\":\"white\",\"linecolor\":\"white\",\"ticks\":\"\"},\"caxis\":{\"gridcolor\":\"white\",\"linecolor\":\"white\",\"ticks\":\"\"}},\"coloraxis\":{\"colorbar\":{\"outlinewidth\":0,\"ticks\":\"\"}},\"colorscale\":{\"sequential\":[[0.0,\"#0d0887\"],[0.1111111111111111,\"#46039f\"],[0.2222222222222222,\"#7201a8\"],[0.3333333333333333,\"#9c179e\"],[0.4444444444444444,\"#bd3786\"],[0.5555555555555556,\"#d8576b\"],[0.6666666666666666,\"#ed7953\"],[0.7777777777777778,\"#fb9f3a\"],[0.8888888888888888,\"#fdca26\"],[1.0,\"#f0f921\"]],\"sequentialminus\":[[0.0,\"#0d0887\"],[0.1111111111111111,\"#46039f\"],[0.2222222222222222,\"#7201a8\"],[0.3333333333333333,\"#9c179e\"],[0.4444444444444444,\"#bd3786\"],[0.5555555555555556,\"#d8576b\"],[0.6666666666666666,\"#ed7953\"],[0.7777777777777778,\"#fb9f3a\"],[0.8888888888888888,\"#fdca26\"],[1.0,\"#f0f921\"]],\"diverging\":[[0,\"#8e0152\"],[0.1,\"#c51b7d\"],[0.2,\"#de77ae\"],[0.3,\"#f1b6da\"],[0.4,\"#fde0ef\"],[0.5,\"#f7f7f7\"],[0.6,\"#e6f5d0\"],[0.7,\"#b8e186\"],[0.8,\"#7fbc41\"],[0.9,\"#4d9221\"],[1,\"#276419\"]]},\"xaxis\":{\"gridcolor\":\"white\",\"linecolor\":\"white\",\"ticks\":\"\",\"title\":{\"standoff\":15},\"zerolinecolor\":\"white\",\"automargin\":true,\"zerolinewidth\":2},\"yaxis\":{\"gridcolor\":\"white\",\"linecolor\":\"white\",\"ticks\":\"\",\"title\":{\"standoff\":15},\"zerolinecolor\":\"white\",\"automargin\":true,\"zerolinewidth\":2},\"scene\":{\"xaxis\":{\"backgroundcolor\":\"#E5ECF6\",\"gridcolor\":\"white\",\"linecolor\":\"white\",\"showbackground\":true,\"ticks\":\"\",\"zerolinecolor\":\"white\",\"gridwidth\":2},\"yaxis\":{\"backgroundcolor\":\"#E5ECF6\",\"gridcolor\":\"white\",\"linecolor\":\"white\",\"showbackground\":true,\"ticks\":\"\",\"zerolinecolor\":\"white\",\"gridwidth\":2},\"zaxis\":{\"backgroundcolor\":\"#E5ECF6\",\"gridcolor\":\"white\",\"linecolor\":\"white\",\"showbackground\":true,\"ticks\":\"\",\"zerolinecolor\":\"white\",\"gridwidth\":2}},\"shapedefaults\":{\"line\":{\"color\":\"#2a3f5f\"}},\"annotationdefaults\":{\"arrowcolor\":\"#2a3f5f\",\"arrowhead\":0,\"arrowwidth\":1},\"geo\":{\"bgcolor\":\"white\",\"landcolor\":\"#E5ECF6\",\"subunitcolor\":\"white\",\"showland\":true,\"showlakes\":true,\"lakecolor\":\"white\"},\"title\":{\"x\":0.05},\"mapbox\":{\"style\":\"light\"}}},\"xaxis\":{\"anchor\":\"y\",\"domain\":[0.0,1.0],\"title\":{\"text\":\"\\u0413\\u0440\\u0435\\u0439\\u0434\"}},\"yaxis\":{\"anchor\":\"x\",\"domain\":[0.0,1.0],\"title\":{\"text\":\"\\u041a\\u043e\\u043b\\u0438\\u0447\\u0435\\u0441\\u0442\\u0432\\u043e \\u0432\\u0430\\u043a\\u0430\\u043d\\u0441\\u0438\\u0439\"}},\"legend\":{\"tracegroupgap\":0},\"title\":{\"text\":\"\\u0413\\u0440\\u0435\\u0439\\u0434\\u044b \\u0431\\u0438\\u0437\\u043d\\u0435\\u0441-\\u0430\\u043d\\u0430\\u043b\\u0438\\u0442\\u0438\\u043a\\u043e\\u0432\"},\"barmode\":\"relative\",\"autosize\":false,\"width\":700,\"height\":700},                        {\"responsive\": true}                    ).then(function(){\n",
              "                            \n",
              "var gd = document.getElementById('03beac51-ec6b-4ac7-a4c0-686e20592a51');\n",
              "var x = new MutationObserver(function (mutations, observer) {{\n",
              "        var display = window.getComputedStyle(gd).display;\n",
              "        if (!display || display === 'none') {{\n",
              "            console.log([gd, 'removed!']);\n",
              "            Plotly.purge(gd);\n",
              "            observer.disconnect();\n",
              "        }}\n",
              "}});\n",
              "\n",
              "// Listen for the removal of the full notebook cells\n",
              "var notebookContainer = gd.closest('#notebook-container');\n",
              "if (notebookContainer) {{\n",
              "    x.observe(notebookContainer, {childList: true});\n",
              "}}\n",
              "\n",
              "// Listen for the clearing of the current output cell\n",
              "var outputEl = gd.closest('.output');\n",
              "if (outputEl) {{\n",
              "    x.observe(outputEl, {childList: true});\n",
              "}}\n",
              "\n",
              "                        })                };                            </script>        </div>\n",
              "</body>\n",
              "</html>"
            ]
          },
          "metadata": {}
        }
      ]
    },
    {
      "cell_type": "code",
      "source": [
        "fig= px.bar(grade_da,\n",
        "                y = 'experience',\n",
        "                title = 'Грейды аналитиков данных',\n",
        "                color_discrete_sequence=[\"red\"],)\n",
        "fig.update_layout(autosize=False,\n",
        "                  width=700,\n",
        "                  height=700,\n",
        "                  xaxis_title = 'Грейд',\n",
        "                  yaxis_title = 'Количество вакансий')"
      ],
      "metadata": {
        "colab": {
          "base_uri": "https://localhost:8080/",
          "height": 717
        },
        "id": "ObwMCOfBrjs6",
        "outputId": "fbd20261-fe4f-499b-d5cf-6e7b39c29df2"
      },
      "execution_count": null,
      "outputs": [
        {
          "output_type": "display_data",
          "data": {
            "text/html": [
              "<html>\n",
              "<head><meta charset=\"utf-8\" /></head>\n",
              "<body>\n",
              "    <div>            <script src=\"https://cdnjs.cloudflare.com/ajax/libs/mathjax/2.7.5/MathJax.js?config=TeX-AMS-MML_SVG\"></script><script type=\"text/javascript\">if (window.MathJax && window.MathJax.Hub && window.MathJax.Hub.Config) {window.MathJax.Hub.Config({SVG: {font: \"STIX-Web\"}});}</script>                <script type=\"text/javascript\">window.PlotlyConfig = {MathJaxConfig: 'local'};</script>\n",
              "        <script charset=\"utf-8\" src=\"https://cdn.plot.ly/plotly-2.24.1.min.js\"></script>                <div id=\"4e0846ad-d0c0-401c-9d55-3b08d5e60b17\" class=\"plotly-graph-div\" style=\"height:700px; width:700px;\"></div>            <script type=\"text/javascript\">                                    window.PLOTLYENV=window.PLOTLYENV || {};                                    if (document.getElementById(\"4e0846ad-d0c0-401c-9d55-3b08d5e60b17\")) {                    Plotly.newPlot(                        \"4e0846ad-d0c0-401c-9d55-3b08d5e60b17\",                        [{\"alignmentgroup\":\"True\",\"hovertemplate\":\"index=%{x}\\u003cbr\\u003eexperience=%{y}\\u003cextra\\u003e\\u003c\\u002fextra\\u003e\",\"legendgroup\":\"\",\"marker\":{\"color\":\"red\",\"pattern\":{\"shape\":\"\"}},\"name\":\"\",\"offsetgroup\":\"\",\"orientation\":\"v\",\"showlegend\":false,\"textposition\":\"auto\",\"x\":[\"Junior (no experince)\",\"Junior+ (1-3 years)\",\"Middle (3-6 years)\"],\"xaxis\":\"x\",\"y\":[34,189,104],\"yaxis\":\"y\",\"type\":\"bar\"}],                        {\"template\":{\"data\":{\"histogram2dcontour\":[{\"type\":\"histogram2dcontour\",\"colorbar\":{\"outlinewidth\":0,\"ticks\":\"\"},\"colorscale\":[[0.0,\"#0d0887\"],[0.1111111111111111,\"#46039f\"],[0.2222222222222222,\"#7201a8\"],[0.3333333333333333,\"#9c179e\"],[0.4444444444444444,\"#bd3786\"],[0.5555555555555556,\"#d8576b\"],[0.6666666666666666,\"#ed7953\"],[0.7777777777777778,\"#fb9f3a\"],[0.8888888888888888,\"#fdca26\"],[1.0,\"#f0f921\"]]}],\"choropleth\":[{\"type\":\"choropleth\",\"colorbar\":{\"outlinewidth\":0,\"ticks\":\"\"}}],\"histogram2d\":[{\"type\":\"histogram2d\",\"colorbar\":{\"outlinewidth\":0,\"ticks\":\"\"},\"colorscale\":[[0.0,\"#0d0887\"],[0.1111111111111111,\"#46039f\"],[0.2222222222222222,\"#7201a8\"],[0.3333333333333333,\"#9c179e\"],[0.4444444444444444,\"#bd3786\"],[0.5555555555555556,\"#d8576b\"],[0.6666666666666666,\"#ed7953\"],[0.7777777777777778,\"#fb9f3a\"],[0.8888888888888888,\"#fdca26\"],[1.0,\"#f0f921\"]]}],\"heatmap\":[{\"type\":\"heatmap\",\"colorbar\":{\"outlinewidth\":0,\"ticks\":\"\"},\"colorscale\":[[0.0,\"#0d0887\"],[0.1111111111111111,\"#46039f\"],[0.2222222222222222,\"#7201a8\"],[0.3333333333333333,\"#9c179e\"],[0.4444444444444444,\"#bd3786\"],[0.5555555555555556,\"#d8576b\"],[0.6666666666666666,\"#ed7953\"],[0.7777777777777778,\"#fb9f3a\"],[0.8888888888888888,\"#fdca26\"],[1.0,\"#f0f921\"]]}],\"heatmapgl\":[{\"type\":\"heatmapgl\",\"colorbar\":{\"outlinewidth\":0,\"ticks\":\"\"},\"colorscale\":[[0.0,\"#0d0887\"],[0.1111111111111111,\"#46039f\"],[0.2222222222222222,\"#7201a8\"],[0.3333333333333333,\"#9c179e\"],[0.4444444444444444,\"#bd3786\"],[0.5555555555555556,\"#d8576b\"],[0.6666666666666666,\"#ed7953\"],[0.7777777777777778,\"#fb9f3a\"],[0.8888888888888888,\"#fdca26\"],[1.0,\"#f0f921\"]]}],\"contourcarpet\":[{\"type\":\"contourcarpet\",\"colorbar\":{\"outlinewidth\":0,\"ticks\":\"\"}}],\"contour\":[{\"type\":\"contour\",\"colorbar\":{\"outlinewidth\":0,\"ticks\":\"\"},\"colorscale\":[[0.0,\"#0d0887\"],[0.1111111111111111,\"#46039f\"],[0.2222222222222222,\"#7201a8\"],[0.3333333333333333,\"#9c179e\"],[0.4444444444444444,\"#bd3786\"],[0.5555555555555556,\"#d8576b\"],[0.6666666666666666,\"#ed7953\"],[0.7777777777777778,\"#fb9f3a\"],[0.8888888888888888,\"#fdca26\"],[1.0,\"#f0f921\"]]}],\"surface\":[{\"type\":\"surface\",\"colorbar\":{\"outlinewidth\":0,\"ticks\":\"\"},\"colorscale\":[[0.0,\"#0d0887\"],[0.1111111111111111,\"#46039f\"],[0.2222222222222222,\"#7201a8\"],[0.3333333333333333,\"#9c179e\"],[0.4444444444444444,\"#bd3786\"],[0.5555555555555556,\"#d8576b\"],[0.6666666666666666,\"#ed7953\"],[0.7777777777777778,\"#fb9f3a\"],[0.8888888888888888,\"#fdca26\"],[1.0,\"#f0f921\"]]}],\"mesh3d\":[{\"type\":\"mesh3d\",\"colorbar\":{\"outlinewidth\":0,\"ticks\":\"\"}}],\"scatter\":[{\"fillpattern\":{\"fillmode\":\"overlay\",\"size\":10,\"solidity\":0.2},\"type\":\"scatter\"}],\"parcoords\":[{\"type\":\"parcoords\",\"line\":{\"colorbar\":{\"outlinewidth\":0,\"ticks\":\"\"}}}],\"scatterpolargl\":[{\"type\":\"scatterpolargl\",\"marker\":{\"colorbar\":{\"outlinewidth\":0,\"ticks\":\"\"}}}],\"bar\":[{\"error_x\":{\"color\":\"#2a3f5f\"},\"error_y\":{\"color\":\"#2a3f5f\"},\"marker\":{\"line\":{\"color\":\"#E5ECF6\",\"width\":0.5},\"pattern\":{\"fillmode\":\"overlay\",\"size\":10,\"solidity\":0.2}},\"type\":\"bar\"}],\"scattergeo\":[{\"type\":\"scattergeo\",\"marker\":{\"colorbar\":{\"outlinewidth\":0,\"ticks\":\"\"}}}],\"scatterpolar\":[{\"type\":\"scatterpolar\",\"marker\":{\"colorbar\":{\"outlinewidth\":0,\"ticks\":\"\"}}}],\"histogram\":[{\"marker\":{\"pattern\":{\"fillmode\":\"overlay\",\"size\":10,\"solidity\":0.2}},\"type\":\"histogram\"}],\"scattergl\":[{\"type\":\"scattergl\",\"marker\":{\"colorbar\":{\"outlinewidth\":0,\"ticks\":\"\"}}}],\"scatter3d\":[{\"type\":\"scatter3d\",\"line\":{\"colorbar\":{\"outlinewidth\":0,\"ticks\":\"\"}},\"marker\":{\"colorbar\":{\"outlinewidth\":0,\"ticks\":\"\"}}}],\"scattermapbox\":[{\"type\":\"scattermapbox\",\"marker\":{\"colorbar\":{\"outlinewidth\":0,\"ticks\":\"\"}}}],\"scatterternary\":[{\"type\":\"scatterternary\",\"marker\":{\"colorbar\":{\"outlinewidth\":0,\"ticks\":\"\"}}}],\"scattercarpet\":[{\"type\":\"scattercarpet\",\"marker\":{\"colorbar\":{\"outlinewidth\":0,\"ticks\":\"\"}}}],\"carpet\":[{\"aaxis\":{\"endlinecolor\":\"#2a3f5f\",\"gridcolor\":\"white\",\"linecolor\":\"white\",\"minorgridcolor\":\"white\",\"startlinecolor\":\"#2a3f5f\"},\"baxis\":{\"endlinecolor\":\"#2a3f5f\",\"gridcolor\":\"white\",\"linecolor\":\"white\",\"minorgridcolor\":\"white\",\"startlinecolor\":\"#2a3f5f\"},\"type\":\"carpet\"}],\"table\":[{\"cells\":{\"fill\":{\"color\":\"#EBF0F8\"},\"line\":{\"color\":\"white\"}},\"header\":{\"fill\":{\"color\":\"#C8D4E3\"},\"line\":{\"color\":\"white\"}},\"type\":\"table\"}],\"barpolar\":[{\"marker\":{\"line\":{\"color\":\"#E5ECF6\",\"width\":0.5},\"pattern\":{\"fillmode\":\"overlay\",\"size\":10,\"solidity\":0.2}},\"type\":\"barpolar\"}],\"pie\":[{\"automargin\":true,\"type\":\"pie\"}]},\"layout\":{\"autotypenumbers\":\"strict\",\"colorway\":[\"#636efa\",\"#EF553B\",\"#00cc96\",\"#ab63fa\",\"#FFA15A\",\"#19d3f3\",\"#FF6692\",\"#B6E880\",\"#FF97FF\",\"#FECB52\"],\"font\":{\"color\":\"#2a3f5f\"},\"hovermode\":\"closest\",\"hoverlabel\":{\"align\":\"left\"},\"paper_bgcolor\":\"white\",\"plot_bgcolor\":\"#E5ECF6\",\"polar\":{\"bgcolor\":\"#E5ECF6\",\"angularaxis\":{\"gridcolor\":\"white\",\"linecolor\":\"white\",\"ticks\":\"\"},\"radialaxis\":{\"gridcolor\":\"white\",\"linecolor\":\"white\",\"ticks\":\"\"}},\"ternary\":{\"bgcolor\":\"#E5ECF6\",\"aaxis\":{\"gridcolor\":\"white\",\"linecolor\":\"white\",\"ticks\":\"\"},\"baxis\":{\"gridcolor\":\"white\",\"linecolor\":\"white\",\"ticks\":\"\"},\"caxis\":{\"gridcolor\":\"white\",\"linecolor\":\"white\",\"ticks\":\"\"}},\"coloraxis\":{\"colorbar\":{\"outlinewidth\":0,\"ticks\":\"\"}},\"colorscale\":{\"sequential\":[[0.0,\"#0d0887\"],[0.1111111111111111,\"#46039f\"],[0.2222222222222222,\"#7201a8\"],[0.3333333333333333,\"#9c179e\"],[0.4444444444444444,\"#bd3786\"],[0.5555555555555556,\"#d8576b\"],[0.6666666666666666,\"#ed7953\"],[0.7777777777777778,\"#fb9f3a\"],[0.8888888888888888,\"#fdca26\"],[1.0,\"#f0f921\"]],\"sequentialminus\":[[0.0,\"#0d0887\"],[0.1111111111111111,\"#46039f\"],[0.2222222222222222,\"#7201a8\"],[0.3333333333333333,\"#9c179e\"],[0.4444444444444444,\"#bd3786\"],[0.5555555555555556,\"#d8576b\"],[0.6666666666666666,\"#ed7953\"],[0.7777777777777778,\"#fb9f3a\"],[0.8888888888888888,\"#fdca26\"],[1.0,\"#f0f921\"]],\"diverging\":[[0,\"#8e0152\"],[0.1,\"#c51b7d\"],[0.2,\"#de77ae\"],[0.3,\"#f1b6da\"],[0.4,\"#fde0ef\"],[0.5,\"#f7f7f7\"],[0.6,\"#e6f5d0\"],[0.7,\"#b8e186\"],[0.8,\"#7fbc41\"],[0.9,\"#4d9221\"],[1,\"#276419\"]]},\"xaxis\":{\"gridcolor\":\"white\",\"linecolor\":\"white\",\"ticks\":\"\",\"title\":{\"standoff\":15},\"zerolinecolor\":\"white\",\"automargin\":true,\"zerolinewidth\":2},\"yaxis\":{\"gridcolor\":\"white\",\"linecolor\":\"white\",\"ticks\":\"\",\"title\":{\"standoff\":15},\"zerolinecolor\":\"white\",\"automargin\":true,\"zerolinewidth\":2},\"scene\":{\"xaxis\":{\"backgroundcolor\":\"#E5ECF6\",\"gridcolor\":\"white\",\"linecolor\":\"white\",\"showbackground\":true,\"ticks\":\"\",\"zerolinecolor\":\"white\",\"gridwidth\":2},\"yaxis\":{\"backgroundcolor\":\"#E5ECF6\",\"gridcolor\":\"white\",\"linecolor\":\"white\",\"showbackground\":true,\"ticks\":\"\",\"zerolinecolor\":\"white\",\"gridwidth\":2},\"zaxis\":{\"backgroundcolor\":\"#E5ECF6\",\"gridcolor\":\"white\",\"linecolor\":\"white\",\"showbackground\":true,\"ticks\":\"\",\"zerolinecolor\":\"white\",\"gridwidth\":2}},\"shapedefaults\":{\"line\":{\"color\":\"#2a3f5f\"}},\"annotationdefaults\":{\"arrowcolor\":\"#2a3f5f\",\"arrowhead\":0,\"arrowwidth\":1},\"geo\":{\"bgcolor\":\"white\",\"landcolor\":\"#E5ECF6\",\"subunitcolor\":\"white\",\"showland\":true,\"showlakes\":true,\"lakecolor\":\"white\"},\"title\":{\"x\":0.05},\"mapbox\":{\"style\":\"light\"}}},\"xaxis\":{\"anchor\":\"y\",\"domain\":[0.0,1.0],\"title\":{\"text\":\"\\u0413\\u0440\\u0435\\u0439\\u0434\"}},\"yaxis\":{\"anchor\":\"x\",\"domain\":[0.0,1.0],\"title\":{\"text\":\"\\u041a\\u043e\\u043b\\u0438\\u0447\\u0435\\u0441\\u0442\\u0432\\u043e \\u0432\\u0430\\u043a\\u0430\\u043d\\u0441\\u0438\\u0439\"}},\"legend\":{\"tracegroupgap\":0},\"title\":{\"text\":\"\\u0413\\u0440\\u0435\\u0439\\u0434\\u044b \\u0430\\u043d\\u0430\\u043b\\u0438\\u0442\\u0438\\u043a\\u043e\\u0432 \\u0434\\u0430\\u043d\\u043d\\u044b\\u0445\"},\"barmode\":\"relative\",\"autosize\":false,\"width\":700,\"height\":700},                        {\"responsive\": true}                    ).then(function(){\n",
              "                            \n",
              "var gd = document.getElementById('4e0846ad-d0c0-401c-9d55-3b08d5e60b17');\n",
              "var x = new MutationObserver(function (mutations, observer) {{\n",
              "        var display = window.getComputedStyle(gd).display;\n",
              "        if (!display || display === 'none') {{\n",
              "            console.log([gd, 'removed!']);\n",
              "            Plotly.purge(gd);\n",
              "            observer.disconnect();\n",
              "        }}\n",
              "}});\n",
              "\n",
              "// Listen for the removal of the full notebook cells\n",
              "var notebookContainer = gd.closest('#notebook-container');\n",
              "if (notebookContainer) {{\n",
              "    x.observe(notebookContainer, {childList: true});\n",
              "}}\n",
              "\n",
              "// Listen for the clearing of the current output cell\n",
              "var outputEl = gd.closest('.output');\n",
              "if (outputEl) {{\n",
              "    x.observe(outputEl, {childList: true});\n",
              "}}\n",
              "\n",
              "                        })                };                            </script>        </div>\n",
              "</body>\n",
              "</html>"
            ]
          },
          "metadata": {}
        }
      ]
    },
    {
      "cell_type": "markdown",
      "source": [
        "Констатируем, что по обоим направлениям работодателей больше всего интересуют джун+ и миддлы. Вакансий сеньоров значительно меньше (или вообще нет в данном временном промежутке), что может быть связано с тем, что специалистов такого уровня часто ищут иными способами, нежели чем путем размещения вакансий на открытом портале."
      ],
      "metadata": {
        "id": "OofteHQNdde8"
      }
    },
    {
      "cell_type": "markdown",
      "source": [
        "Разобьем сведения о навыках на отдельные навыки и оставим 5 первых, предполагая, что работодатель перечисляет самые важные для него навыки первыми. На основе полученной информации построим графики топ-навыков. Ввиду того, что многие наыки по своей сути представляют смешанный тип между хард- и софт-скиллами, считаем нецелесообразным вводить здесь данное деление."
      ],
      "metadata": {
        "id": "eG9BlRx5i2tl"
      }
    },
    {
      "cell_type": "code",
      "source": [
        "ba_skills = ba['key_skills_from_key_skills_field'].str.split(', ', expand = True)"
      ],
      "metadata": {
        "id": "rNZFq-h5nKTD"
      },
      "execution_count": null,
      "outputs": []
    },
    {
      "cell_type": "code",
      "source": [
        "ba_skills = ba_skills.drop(ba_skills.columns[5:], axis=1)"
      ],
      "metadata": {
        "id": "nM9x57IktiJJ"
      },
      "execution_count": null,
      "outputs": []
    },
    {
      "cell_type": "code",
      "source": [
        "ba_skills = np.hstack([ba_skills[0], ba_skills[1], ba_skills[2], ba_skills[3], ba_skills[4]])"
      ],
      "metadata": {
        "id": "YtSrokd_-d9D"
      },
      "execution_count": null,
      "outputs": []
    },
    {
      "cell_type": "code",
      "source": [
        "ba_skills = pd.DataFrame(data = ba_skills)\n",
        "ba_skills.columns = ['skill']"
      ],
      "metadata": {
        "id": "h-fksTvH7xB4"
      },
      "execution_count": null,
      "outputs": []
    },
    {
      "cell_type": "code",
      "source": [
        "top_skills = pd.DataFrame(ba_skills.groupby('skill', as_index = False).agg(count=('skill', 'count')).sort_values('count', ascending=False)).head(20)\n",
        "fig = px.bar(top_skills,\n",
        "             x = 'skill',\n",
        "             y = 'count',\n",
        "             title = 'Топ навыки для бизнес-аналитиков',\n",
        "             color_discrete_sequence=[\"green\"])\n",
        "fig.update_layout(xaxis_title = 'Навык',\n",
        "                  yaxis_title = 'Количество упоминаний')"
      ],
      "metadata": {
        "colab": {
          "base_uri": "https://localhost:8080/",
          "height": 542
        },
        "id": "mRbRmuTUgJTO",
        "outputId": "5a0d75ea-4292-47a6-fd4a-d9b6e725a023"
      },
      "execution_count": null,
      "outputs": [
        {
          "output_type": "display_data",
          "data": {
            "text/html": [
              "<html>\n",
              "<head><meta charset=\"utf-8\" /></head>\n",
              "<body>\n",
              "    <div>            <script src=\"https://cdnjs.cloudflare.com/ajax/libs/mathjax/2.7.5/MathJax.js?config=TeX-AMS-MML_SVG\"></script><script type=\"text/javascript\">if (window.MathJax && window.MathJax.Hub && window.MathJax.Hub.Config) {window.MathJax.Hub.Config({SVG: {font: \"STIX-Web\"}});}</script>                <script type=\"text/javascript\">window.PlotlyConfig = {MathJaxConfig: 'local'};</script>\n",
              "        <script charset=\"utf-8\" src=\"https://cdn.plot.ly/plotly-2.24.1.min.js\"></script>                <div id=\"6714eee3-8457-44e0-960d-b173065b919e\" class=\"plotly-graph-div\" style=\"height:525px; width:100%;\"></div>            <script type=\"text/javascript\">                                    window.PLOTLYENV=window.PLOTLYENV || {};                                    if (document.getElementById(\"6714eee3-8457-44e0-960d-b173065b919e\")) {                    Plotly.newPlot(                        \"6714eee3-8457-44e0-960d-b173065b919e\",                        [{\"alignmentgroup\":\"True\",\"hovertemplate\":\"skill=%{x}\\u003cbr\\u003ecount=%{y}\\u003cextra\\u003e\\u003c\\u002fextra\\u003e\",\"legendgroup\":\"\",\"marker\":{\"color\":\"green\",\"pattern\":{\"shape\":\"\"}},\"name\":\"\",\"offsetgroup\":\"\",\"orientation\":\"v\",\"showlegend\":false,\"textposition\":\"auto\",\"x\":[\"\\u0411\\u0438\\u0437\\u043d\\u0435\\u0441-\\u0430\\u043d\\u0430\\u043b\\u0438\\u0437\",\"BPMN\",\"SQL\",\"\\u0410\\u043d\\u0430\\u043b\\u0438\\u0442\\u0438\\u0447\\u0435\\u0441\\u043a\\u043e\\u0435 \\u043c\\u044b\\u0448\\u043b\\u0435\\u043d\\u0438\\u0435\",\"\\u041c\\u043e\\u0434\\u0435\\u043b\\u0438\\u0440\\u043e\\u0432\\u0430\\u043d\\u0438\\u0435 \\u0431\\u0438\\u0437\\u043d\\u0435\\u0441 \\u043f\\u0440\\u043e\\u0446\\u0435\\u0441\\u0441\\u043e\\u0432\",\"\\u041e\\u043f\\u0442\\u0438\\u043c\\u0438\\u0437\\u0430\\u0446\\u0438\\u044f \\u0431\\u0438\\u0437\\u043d\\u0435\\u0441-\\u043f\\u0440\\u043e\\u0446\\u0435\\u0441\\u0441\\u043e\\u0432\",\"UML\",\"\\u0420\\u0430\\u0437\\u0440\\u0430\\u0431\\u043e\\u0442\\u043a\\u0430 \\u0442\\u0435\\u0445\\u043d\\u0438\\u0447\\u0435\\u0441\\u043a\\u0438\\u0445 \\u0437\\u0430\\u0434\\u0430\\u043d\\u0438\\u0439\",\"\\u0410\\u043d\\u0430\\u043b\\u0438\\u0437 \\u0431\\u0438\\u0437\\u043d\\u0435\\u0441 \\u043f\\u043e\\u043a\\u0430\\u0437\\u0430\\u0442\\u0435\\u043b\\u0435\\u0439\",\"MS Visio\",\"\\u0410\\u043d\\u0430\\u043b\\u0438\\u0437 \\u0434\\u0430\\u043d\\u043d\\u044b\\u0445\",\"\\u041f\\u043e\\u0441\\u0442\\u0430\\u043d\\u043e\\u0432\\u043a\\u0430 \\u0437\\u0430\\u0434\\u0430\\u0447 \\u0440\\u0430\\u0437\\u0440\\u0430\\u0431\\u043e\\u0442\\u0447\\u0438\\u043a\\u0430\\u043c\",\"\\u0410\\u043d\\u0430\\u043b\\u0438\\u0442\\u0438\\u043a\\u0430\",\"\\u0420\\u0430\\u0431\\u043e\\u0442\\u0430 \\u0441 \\u0431\\u043e\\u043b\\u044c\\u0448\\u0438\\u043c \\u043e\\u0431\\u044a\\u0435\\u043c\\u043e\\u043c \\u0438\\u043d\\u0444\\u043e\\u0440\\u043c\\u0430\\u0446\\u0438\\u0438\",\"MS PowerPoint\",\"\\u0421\\u0438\\u0441\\u0442\\u0435\\u043c\\u043d\\u044b\\u0439 \\u0430\\u043d\\u0430\\u043b\\u0438\\u0437\",\"\\u0410\\u043d\\u0430\\u043b\\u0438\\u0442\\u0438\\u0447\\u0435\\u0441\\u043a\\u0438\\u0435 \\u0438\\u0441\\u0441\\u043b\\u0435\\u0434\\u043e\\u0432\\u0430\\u043d\\u0438\\u044f\",\"MS SQL\",\"MS Excel\",\"\\u0414\\u0435\\u043b\\u043e\\u0432\\u0430\\u044f \\u043a\\u043e\\u043c\\u043c\\u0443\\u043d\\u0438\\u043a\\u0430\\u0446\\u0438\\u044f\"],\"xaxis\":\"x\",\"y\":[240,131,78,74,67,66,57,44,40,38,32,32,31,29,24,23,23,22,21,21],\"yaxis\":\"y\",\"type\":\"bar\"}],                        {\"template\":{\"data\":{\"histogram2dcontour\":[{\"type\":\"histogram2dcontour\",\"colorbar\":{\"outlinewidth\":0,\"ticks\":\"\"},\"colorscale\":[[0.0,\"#0d0887\"],[0.1111111111111111,\"#46039f\"],[0.2222222222222222,\"#7201a8\"],[0.3333333333333333,\"#9c179e\"],[0.4444444444444444,\"#bd3786\"],[0.5555555555555556,\"#d8576b\"],[0.6666666666666666,\"#ed7953\"],[0.7777777777777778,\"#fb9f3a\"],[0.8888888888888888,\"#fdca26\"],[1.0,\"#f0f921\"]]}],\"choropleth\":[{\"type\":\"choropleth\",\"colorbar\":{\"outlinewidth\":0,\"ticks\":\"\"}}],\"histogram2d\":[{\"type\":\"histogram2d\",\"colorbar\":{\"outlinewidth\":0,\"ticks\":\"\"},\"colorscale\":[[0.0,\"#0d0887\"],[0.1111111111111111,\"#46039f\"],[0.2222222222222222,\"#7201a8\"],[0.3333333333333333,\"#9c179e\"],[0.4444444444444444,\"#bd3786\"],[0.5555555555555556,\"#d8576b\"],[0.6666666666666666,\"#ed7953\"],[0.7777777777777778,\"#fb9f3a\"],[0.8888888888888888,\"#fdca26\"],[1.0,\"#f0f921\"]]}],\"heatmap\":[{\"type\":\"heatmap\",\"colorbar\":{\"outlinewidth\":0,\"ticks\":\"\"},\"colorscale\":[[0.0,\"#0d0887\"],[0.1111111111111111,\"#46039f\"],[0.2222222222222222,\"#7201a8\"],[0.3333333333333333,\"#9c179e\"],[0.4444444444444444,\"#bd3786\"],[0.5555555555555556,\"#d8576b\"],[0.6666666666666666,\"#ed7953\"],[0.7777777777777778,\"#fb9f3a\"],[0.8888888888888888,\"#fdca26\"],[1.0,\"#f0f921\"]]}],\"heatmapgl\":[{\"type\":\"heatmapgl\",\"colorbar\":{\"outlinewidth\":0,\"ticks\":\"\"},\"colorscale\":[[0.0,\"#0d0887\"],[0.1111111111111111,\"#46039f\"],[0.2222222222222222,\"#7201a8\"],[0.3333333333333333,\"#9c179e\"],[0.4444444444444444,\"#bd3786\"],[0.5555555555555556,\"#d8576b\"],[0.6666666666666666,\"#ed7953\"],[0.7777777777777778,\"#fb9f3a\"],[0.8888888888888888,\"#fdca26\"],[1.0,\"#f0f921\"]]}],\"contourcarpet\":[{\"type\":\"contourcarpet\",\"colorbar\":{\"outlinewidth\":0,\"ticks\":\"\"}}],\"contour\":[{\"type\":\"contour\",\"colorbar\":{\"outlinewidth\":0,\"ticks\":\"\"},\"colorscale\":[[0.0,\"#0d0887\"],[0.1111111111111111,\"#46039f\"],[0.2222222222222222,\"#7201a8\"],[0.3333333333333333,\"#9c179e\"],[0.4444444444444444,\"#bd3786\"],[0.5555555555555556,\"#d8576b\"],[0.6666666666666666,\"#ed7953\"],[0.7777777777777778,\"#fb9f3a\"],[0.8888888888888888,\"#fdca26\"],[1.0,\"#f0f921\"]]}],\"surface\":[{\"type\":\"surface\",\"colorbar\":{\"outlinewidth\":0,\"ticks\":\"\"},\"colorscale\":[[0.0,\"#0d0887\"],[0.1111111111111111,\"#46039f\"],[0.2222222222222222,\"#7201a8\"],[0.3333333333333333,\"#9c179e\"],[0.4444444444444444,\"#bd3786\"],[0.5555555555555556,\"#d8576b\"],[0.6666666666666666,\"#ed7953\"],[0.7777777777777778,\"#fb9f3a\"],[0.8888888888888888,\"#fdca26\"],[1.0,\"#f0f921\"]]}],\"mesh3d\":[{\"type\":\"mesh3d\",\"colorbar\":{\"outlinewidth\":0,\"ticks\":\"\"}}],\"scatter\":[{\"fillpattern\":{\"fillmode\":\"overlay\",\"size\":10,\"solidity\":0.2},\"type\":\"scatter\"}],\"parcoords\":[{\"type\":\"parcoords\",\"line\":{\"colorbar\":{\"outlinewidth\":0,\"ticks\":\"\"}}}],\"scatterpolargl\":[{\"type\":\"scatterpolargl\",\"marker\":{\"colorbar\":{\"outlinewidth\":0,\"ticks\":\"\"}}}],\"bar\":[{\"error_x\":{\"color\":\"#2a3f5f\"},\"error_y\":{\"color\":\"#2a3f5f\"},\"marker\":{\"line\":{\"color\":\"#E5ECF6\",\"width\":0.5},\"pattern\":{\"fillmode\":\"overlay\",\"size\":10,\"solidity\":0.2}},\"type\":\"bar\"}],\"scattergeo\":[{\"type\":\"scattergeo\",\"marker\":{\"colorbar\":{\"outlinewidth\":0,\"ticks\":\"\"}}}],\"scatterpolar\":[{\"type\":\"scatterpolar\",\"marker\":{\"colorbar\":{\"outlinewidth\":0,\"ticks\":\"\"}}}],\"histogram\":[{\"marker\":{\"pattern\":{\"fillmode\":\"overlay\",\"size\":10,\"solidity\":0.2}},\"type\":\"histogram\"}],\"scattergl\":[{\"type\":\"scattergl\",\"marker\":{\"colorbar\":{\"outlinewidth\":0,\"ticks\":\"\"}}}],\"scatter3d\":[{\"type\":\"scatter3d\",\"line\":{\"colorbar\":{\"outlinewidth\":0,\"ticks\":\"\"}},\"marker\":{\"colorbar\":{\"outlinewidth\":0,\"ticks\":\"\"}}}],\"scattermapbox\":[{\"type\":\"scattermapbox\",\"marker\":{\"colorbar\":{\"outlinewidth\":0,\"ticks\":\"\"}}}],\"scatterternary\":[{\"type\":\"scatterternary\",\"marker\":{\"colorbar\":{\"outlinewidth\":0,\"ticks\":\"\"}}}],\"scattercarpet\":[{\"type\":\"scattercarpet\",\"marker\":{\"colorbar\":{\"outlinewidth\":0,\"ticks\":\"\"}}}],\"carpet\":[{\"aaxis\":{\"endlinecolor\":\"#2a3f5f\",\"gridcolor\":\"white\",\"linecolor\":\"white\",\"minorgridcolor\":\"white\",\"startlinecolor\":\"#2a3f5f\"},\"baxis\":{\"endlinecolor\":\"#2a3f5f\",\"gridcolor\":\"white\",\"linecolor\":\"white\",\"minorgridcolor\":\"white\",\"startlinecolor\":\"#2a3f5f\"},\"type\":\"carpet\"}],\"table\":[{\"cells\":{\"fill\":{\"color\":\"#EBF0F8\"},\"line\":{\"color\":\"white\"}},\"header\":{\"fill\":{\"color\":\"#C8D4E3\"},\"line\":{\"color\":\"white\"}},\"type\":\"table\"}],\"barpolar\":[{\"marker\":{\"line\":{\"color\":\"#E5ECF6\",\"width\":0.5},\"pattern\":{\"fillmode\":\"overlay\",\"size\":10,\"solidity\":0.2}},\"type\":\"barpolar\"}],\"pie\":[{\"automargin\":true,\"type\":\"pie\"}]},\"layout\":{\"autotypenumbers\":\"strict\",\"colorway\":[\"#636efa\",\"#EF553B\",\"#00cc96\",\"#ab63fa\",\"#FFA15A\",\"#19d3f3\",\"#FF6692\",\"#B6E880\",\"#FF97FF\",\"#FECB52\"],\"font\":{\"color\":\"#2a3f5f\"},\"hovermode\":\"closest\",\"hoverlabel\":{\"align\":\"left\"},\"paper_bgcolor\":\"white\",\"plot_bgcolor\":\"#E5ECF6\",\"polar\":{\"bgcolor\":\"#E5ECF6\",\"angularaxis\":{\"gridcolor\":\"white\",\"linecolor\":\"white\",\"ticks\":\"\"},\"radialaxis\":{\"gridcolor\":\"white\",\"linecolor\":\"white\",\"ticks\":\"\"}},\"ternary\":{\"bgcolor\":\"#E5ECF6\",\"aaxis\":{\"gridcolor\":\"white\",\"linecolor\":\"white\",\"ticks\":\"\"},\"baxis\":{\"gridcolor\":\"white\",\"linecolor\":\"white\",\"ticks\":\"\"},\"caxis\":{\"gridcolor\":\"white\",\"linecolor\":\"white\",\"ticks\":\"\"}},\"coloraxis\":{\"colorbar\":{\"outlinewidth\":0,\"ticks\":\"\"}},\"colorscale\":{\"sequential\":[[0.0,\"#0d0887\"],[0.1111111111111111,\"#46039f\"],[0.2222222222222222,\"#7201a8\"],[0.3333333333333333,\"#9c179e\"],[0.4444444444444444,\"#bd3786\"],[0.5555555555555556,\"#d8576b\"],[0.6666666666666666,\"#ed7953\"],[0.7777777777777778,\"#fb9f3a\"],[0.8888888888888888,\"#fdca26\"],[1.0,\"#f0f921\"]],\"sequentialminus\":[[0.0,\"#0d0887\"],[0.1111111111111111,\"#46039f\"],[0.2222222222222222,\"#7201a8\"],[0.3333333333333333,\"#9c179e\"],[0.4444444444444444,\"#bd3786\"],[0.5555555555555556,\"#d8576b\"],[0.6666666666666666,\"#ed7953\"],[0.7777777777777778,\"#fb9f3a\"],[0.8888888888888888,\"#fdca26\"],[1.0,\"#f0f921\"]],\"diverging\":[[0,\"#8e0152\"],[0.1,\"#c51b7d\"],[0.2,\"#de77ae\"],[0.3,\"#f1b6da\"],[0.4,\"#fde0ef\"],[0.5,\"#f7f7f7\"],[0.6,\"#e6f5d0\"],[0.7,\"#b8e186\"],[0.8,\"#7fbc41\"],[0.9,\"#4d9221\"],[1,\"#276419\"]]},\"xaxis\":{\"gridcolor\":\"white\",\"linecolor\":\"white\",\"ticks\":\"\",\"title\":{\"standoff\":15},\"zerolinecolor\":\"white\",\"automargin\":true,\"zerolinewidth\":2},\"yaxis\":{\"gridcolor\":\"white\",\"linecolor\":\"white\",\"ticks\":\"\",\"title\":{\"standoff\":15},\"zerolinecolor\":\"white\",\"automargin\":true,\"zerolinewidth\":2},\"scene\":{\"xaxis\":{\"backgroundcolor\":\"#E5ECF6\",\"gridcolor\":\"white\",\"linecolor\":\"white\",\"showbackground\":true,\"ticks\":\"\",\"zerolinecolor\":\"white\",\"gridwidth\":2},\"yaxis\":{\"backgroundcolor\":\"#E5ECF6\",\"gridcolor\":\"white\",\"linecolor\":\"white\",\"showbackground\":true,\"ticks\":\"\",\"zerolinecolor\":\"white\",\"gridwidth\":2},\"zaxis\":{\"backgroundcolor\":\"#E5ECF6\",\"gridcolor\":\"white\",\"linecolor\":\"white\",\"showbackground\":true,\"ticks\":\"\",\"zerolinecolor\":\"white\",\"gridwidth\":2}},\"shapedefaults\":{\"line\":{\"color\":\"#2a3f5f\"}},\"annotationdefaults\":{\"arrowcolor\":\"#2a3f5f\",\"arrowhead\":0,\"arrowwidth\":1},\"geo\":{\"bgcolor\":\"white\",\"landcolor\":\"#E5ECF6\",\"subunitcolor\":\"white\",\"showland\":true,\"showlakes\":true,\"lakecolor\":\"white\"},\"title\":{\"x\":0.05},\"mapbox\":{\"style\":\"light\"}}},\"xaxis\":{\"anchor\":\"y\",\"domain\":[0.0,1.0],\"title\":{\"text\":\"\\u041d\\u0430\\u0432\\u044b\\u043a\"}},\"yaxis\":{\"anchor\":\"x\",\"domain\":[0.0,1.0],\"title\":{\"text\":\"\\u041a\\u043e\\u043b\\u0438\\u0447\\u0435\\u0441\\u0442\\u0432\\u043e \\u0443\\u043f\\u043e\\u043c\\u0438\\u043d\\u0430\\u043d\\u0438\\u0439\"}},\"legend\":{\"tracegroupgap\":0},\"title\":{\"text\":\"\\u0422\\u043e\\u043f \\u043d\\u0430\\u0432\\u044b\\u043a\\u0438 \\u0434\\u043b\\u044f \\u0431\\u0438\\u0437\\u043d\\u0435\\u0441-\\u0430\\u043d\\u0430\\u043b\\u0438\\u0442\\u0438\\u043a\\u043e\\u0432\"},\"barmode\":\"relative\"},                        {\"responsive\": true}                    ).then(function(){\n",
              "                            \n",
              "var gd = document.getElementById('6714eee3-8457-44e0-960d-b173065b919e');\n",
              "var x = new MutationObserver(function (mutations, observer) {{\n",
              "        var display = window.getComputedStyle(gd).display;\n",
              "        if (!display || display === 'none') {{\n",
              "            console.log([gd, 'removed!']);\n",
              "            Plotly.purge(gd);\n",
              "            observer.disconnect();\n",
              "        }}\n",
              "}});\n",
              "\n",
              "// Listen for the removal of the full notebook cells\n",
              "var notebookContainer = gd.closest('#notebook-container');\n",
              "if (notebookContainer) {{\n",
              "    x.observe(notebookContainer, {childList: true});\n",
              "}}\n",
              "\n",
              "// Listen for the clearing of the current output cell\n",
              "var outputEl = gd.closest('.output');\n",
              "if (outputEl) {{\n",
              "    x.observe(outputEl, {childList: true});\n",
              "}}\n",
              "\n",
              "                        })                };                            </script>        </div>\n",
              "</body>\n",
              "</html>"
            ]
          },
          "metadata": {}
        }
      ]
    },
    {
      "cell_type": "code",
      "source": [
        "da_skills = da['key_skills_from_key_skills_field'].str.split(', ', expand = True)"
      ],
      "metadata": {
        "id": "L2QPCOgeHkWU"
      },
      "execution_count": null,
      "outputs": []
    },
    {
      "cell_type": "code",
      "source": [
        "da_skills = da_skills.drop(da_skills.columns[5:], axis=1)"
      ],
      "metadata": {
        "id": "rF0MG6yaIr4P"
      },
      "execution_count": null,
      "outputs": []
    },
    {
      "cell_type": "code",
      "source": [
        "da_skills = np.hstack([da_skills[0], da_skills[1], da_skills[2], da_skills[3], da_skills[4]])"
      ],
      "metadata": {
        "id": "eQImOLSeIv6k"
      },
      "execution_count": null,
      "outputs": []
    },
    {
      "cell_type": "code",
      "source": [
        "da_skills = pd.DataFrame(data = da_skills)\n",
        "da_skills.columns = ['skill']"
      ],
      "metadata": {
        "id": "Fr2TNXorI04z"
      },
      "execution_count": null,
      "outputs": []
    },
    {
      "cell_type": "code",
      "source": [
        "top_skills = pd.DataFrame(da_skills.groupby('skill', as_index = False).agg(count=('skill', 'count')).sort_values('count', ascending=False)).head(20)\n",
        "fig = px.bar(top_skills,\n",
        "             x = 'skill',\n",
        "             y = 'count',\n",
        "             title = 'Топ навыки для аналитиков данных',\n",
        "             color_discrete_sequence=[\"red\"])\n",
        "fig.update_layout(xaxis_title = 'Навык',\n",
        "                  yaxis_title = 'Количество упоминаний')"
      ],
      "metadata": {
        "colab": {
          "base_uri": "https://localhost:8080/",
          "height": 542
        },
        "id": "EkSICg3yI6Dc",
        "outputId": "cc0d5709-917a-4d13-bfc4-ade8ebc3f12f"
      },
      "execution_count": null,
      "outputs": [
        {
          "output_type": "display_data",
          "data": {
            "text/html": [
              "<html>\n",
              "<head><meta charset=\"utf-8\" /></head>\n",
              "<body>\n",
              "    <div>            <script src=\"https://cdnjs.cloudflare.com/ajax/libs/mathjax/2.7.5/MathJax.js?config=TeX-AMS-MML_SVG\"></script><script type=\"text/javascript\">if (window.MathJax && window.MathJax.Hub && window.MathJax.Hub.Config) {window.MathJax.Hub.Config({SVG: {font: \"STIX-Web\"}});}</script>                <script type=\"text/javascript\">window.PlotlyConfig = {MathJaxConfig: 'local'};</script>\n",
              "        <script charset=\"utf-8\" src=\"https://cdn.plot.ly/plotly-2.24.1.min.js\"></script>                <div id=\"da89e88a-1b61-42c2-857d-fc2f19a381e2\" class=\"plotly-graph-div\" style=\"height:525px; width:100%;\"></div>            <script type=\"text/javascript\">                                    window.PLOTLYENV=window.PLOTLYENV || {};                                    if (document.getElementById(\"da89e88a-1b61-42c2-857d-fc2f19a381e2\")) {                    Plotly.newPlot(                        \"da89e88a-1b61-42c2-857d-fc2f19a381e2\",                        [{\"alignmentgroup\":\"True\",\"hovertemplate\":\"skill=%{x}\\u003cbr\\u003ecount=%{y}\\u003cextra\\u003e\\u003c\\u002fextra\\u003e\",\"legendgroup\":\"\",\"marker\":{\"color\":\"red\",\"pattern\":{\"shape\":\"\"}},\"name\":\"\",\"offsetgroup\":\"\",\"orientation\":\"v\",\"showlegend\":false,\"textposition\":\"auto\",\"x\":[\"SQL\",\"Python\",\"\\u0410\\u043d\\u0430\\u043b\\u0438\\u0437 \\u0434\\u0430\\u043d\\u043d\\u044b\\u0445\",\"MS Excel\",\"Power BI\",\"\\u0410\\u043d\\u0430\\u043b\\u0438\\u0442\\u0438\\u0447\\u0435\\u0441\\u043a\\u043e\\u0435 \\u043c\\u044b\\u0448\\u043b\\u0435\\u043d\\u0438\\u0435\",\"MS SQL\",\"\\u0410\\u043d\\u0430\\u043b\\u0438\\u0442\\u0438\\u043a\\u0430\",\"\\u0420\\u0430\\u0431\\u043e\\u0442\\u0430 \\u0441 \\u0431\\u0430\\u0437\\u0430\\u043c\\u0438 \\u0434\\u0430\\u043d\\u043d\\u044b\\u0445\",\"\\u0420\\u0430\\u0431\\u043e\\u0442\\u0430 \\u0441 \\u0431\\u043e\\u043b\\u044c\\u0448\\u0438\\u043c \\u043e\\u0431\\u044a\\u0435\\u043c\\u043e\\u043c \\u0438\\u043d\\u0444\\u043e\\u0440\\u043c\\u0430\\u0446\\u0438\\u0438\",\"\\u0411\\u0430\\u0437\\u044b \\u0434\\u0430\\u043d\\u043d\\u044b\\u0445\",\"Data Analysis\",\"MS PowerPoint\",\"Tableau\",\"\\u0421\\u0431\\u043e\\u0440 \\u0438 \\u0430\\u043d\\u0430\\u043b\\u0438\\u0437 \\u0438\\u043d\\u0444\\u043e\\u0440\\u043c\\u0430\\u0446\\u0438\\u0438\",\"PostgreSQL\",\"\\u0411\\u0438\\u0437\\u043d\\u0435\\u0441-\\u0430\\u043d\\u0430\\u043b\\u0438\\u0437\",\"\\u0410\\u043d\\u0430\\u043b\\u0438\\u0442\\u0438\\u0447\\u0435\\u0441\\u043a\\u0438\\u0435 \\u0438\\u0441\\u0441\\u043b\\u0435\\u0434\\u043e\\u0432\\u0430\\u043d\\u0438\\u044f\",\"A\\u002fB \\u0442\\u0435\\u0441\\u0442\\u044b\",\"DWH\"],\"xaxis\":\"x\",\"y\":[119,90,42,33,31,27,24,19,17,15,13,11,11,11,9,9,9,8,8,7],\"yaxis\":\"y\",\"type\":\"bar\"}],                        {\"template\":{\"data\":{\"histogram2dcontour\":[{\"type\":\"histogram2dcontour\",\"colorbar\":{\"outlinewidth\":0,\"ticks\":\"\"},\"colorscale\":[[0.0,\"#0d0887\"],[0.1111111111111111,\"#46039f\"],[0.2222222222222222,\"#7201a8\"],[0.3333333333333333,\"#9c179e\"],[0.4444444444444444,\"#bd3786\"],[0.5555555555555556,\"#d8576b\"],[0.6666666666666666,\"#ed7953\"],[0.7777777777777778,\"#fb9f3a\"],[0.8888888888888888,\"#fdca26\"],[1.0,\"#f0f921\"]]}],\"choropleth\":[{\"type\":\"choropleth\",\"colorbar\":{\"outlinewidth\":0,\"ticks\":\"\"}}],\"histogram2d\":[{\"type\":\"histogram2d\",\"colorbar\":{\"outlinewidth\":0,\"ticks\":\"\"},\"colorscale\":[[0.0,\"#0d0887\"],[0.1111111111111111,\"#46039f\"],[0.2222222222222222,\"#7201a8\"],[0.3333333333333333,\"#9c179e\"],[0.4444444444444444,\"#bd3786\"],[0.5555555555555556,\"#d8576b\"],[0.6666666666666666,\"#ed7953\"],[0.7777777777777778,\"#fb9f3a\"],[0.8888888888888888,\"#fdca26\"],[1.0,\"#f0f921\"]]}],\"heatmap\":[{\"type\":\"heatmap\",\"colorbar\":{\"outlinewidth\":0,\"ticks\":\"\"},\"colorscale\":[[0.0,\"#0d0887\"],[0.1111111111111111,\"#46039f\"],[0.2222222222222222,\"#7201a8\"],[0.3333333333333333,\"#9c179e\"],[0.4444444444444444,\"#bd3786\"],[0.5555555555555556,\"#d8576b\"],[0.6666666666666666,\"#ed7953\"],[0.7777777777777778,\"#fb9f3a\"],[0.8888888888888888,\"#fdca26\"],[1.0,\"#f0f921\"]]}],\"heatmapgl\":[{\"type\":\"heatmapgl\",\"colorbar\":{\"outlinewidth\":0,\"ticks\":\"\"},\"colorscale\":[[0.0,\"#0d0887\"],[0.1111111111111111,\"#46039f\"],[0.2222222222222222,\"#7201a8\"],[0.3333333333333333,\"#9c179e\"],[0.4444444444444444,\"#bd3786\"],[0.5555555555555556,\"#d8576b\"],[0.6666666666666666,\"#ed7953\"],[0.7777777777777778,\"#fb9f3a\"],[0.8888888888888888,\"#fdca26\"],[1.0,\"#f0f921\"]]}],\"contourcarpet\":[{\"type\":\"contourcarpet\",\"colorbar\":{\"outlinewidth\":0,\"ticks\":\"\"}}],\"contour\":[{\"type\":\"contour\",\"colorbar\":{\"outlinewidth\":0,\"ticks\":\"\"},\"colorscale\":[[0.0,\"#0d0887\"],[0.1111111111111111,\"#46039f\"],[0.2222222222222222,\"#7201a8\"],[0.3333333333333333,\"#9c179e\"],[0.4444444444444444,\"#bd3786\"],[0.5555555555555556,\"#d8576b\"],[0.6666666666666666,\"#ed7953\"],[0.7777777777777778,\"#fb9f3a\"],[0.8888888888888888,\"#fdca26\"],[1.0,\"#f0f921\"]]}],\"surface\":[{\"type\":\"surface\",\"colorbar\":{\"outlinewidth\":0,\"ticks\":\"\"},\"colorscale\":[[0.0,\"#0d0887\"],[0.1111111111111111,\"#46039f\"],[0.2222222222222222,\"#7201a8\"],[0.3333333333333333,\"#9c179e\"],[0.4444444444444444,\"#bd3786\"],[0.5555555555555556,\"#d8576b\"],[0.6666666666666666,\"#ed7953\"],[0.7777777777777778,\"#fb9f3a\"],[0.8888888888888888,\"#fdca26\"],[1.0,\"#f0f921\"]]}],\"mesh3d\":[{\"type\":\"mesh3d\",\"colorbar\":{\"outlinewidth\":0,\"ticks\":\"\"}}],\"scatter\":[{\"fillpattern\":{\"fillmode\":\"overlay\",\"size\":10,\"solidity\":0.2},\"type\":\"scatter\"}],\"parcoords\":[{\"type\":\"parcoords\",\"line\":{\"colorbar\":{\"outlinewidth\":0,\"ticks\":\"\"}}}],\"scatterpolargl\":[{\"type\":\"scatterpolargl\",\"marker\":{\"colorbar\":{\"outlinewidth\":0,\"ticks\":\"\"}}}],\"bar\":[{\"error_x\":{\"color\":\"#2a3f5f\"},\"error_y\":{\"color\":\"#2a3f5f\"},\"marker\":{\"line\":{\"color\":\"#E5ECF6\",\"width\":0.5},\"pattern\":{\"fillmode\":\"overlay\",\"size\":10,\"solidity\":0.2}},\"type\":\"bar\"}],\"scattergeo\":[{\"type\":\"scattergeo\",\"marker\":{\"colorbar\":{\"outlinewidth\":0,\"ticks\":\"\"}}}],\"scatterpolar\":[{\"type\":\"scatterpolar\",\"marker\":{\"colorbar\":{\"outlinewidth\":0,\"ticks\":\"\"}}}],\"histogram\":[{\"marker\":{\"pattern\":{\"fillmode\":\"overlay\",\"size\":10,\"solidity\":0.2}},\"type\":\"histogram\"}],\"scattergl\":[{\"type\":\"scattergl\",\"marker\":{\"colorbar\":{\"outlinewidth\":0,\"ticks\":\"\"}}}],\"scatter3d\":[{\"type\":\"scatter3d\",\"line\":{\"colorbar\":{\"outlinewidth\":0,\"ticks\":\"\"}},\"marker\":{\"colorbar\":{\"outlinewidth\":0,\"ticks\":\"\"}}}],\"scattermapbox\":[{\"type\":\"scattermapbox\",\"marker\":{\"colorbar\":{\"outlinewidth\":0,\"ticks\":\"\"}}}],\"scatterternary\":[{\"type\":\"scatterternary\",\"marker\":{\"colorbar\":{\"outlinewidth\":0,\"ticks\":\"\"}}}],\"scattercarpet\":[{\"type\":\"scattercarpet\",\"marker\":{\"colorbar\":{\"outlinewidth\":0,\"ticks\":\"\"}}}],\"carpet\":[{\"aaxis\":{\"endlinecolor\":\"#2a3f5f\",\"gridcolor\":\"white\",\"linecolor\":\"white\",\"minorgridcolor\":\"white\",\"startlinecolor\":\"#2a3f5f\"},\"baxis\":{\"endlinecolor\":\"#2a3f5f\",\"gridcolor\":\"white\",\"linecolor\":\"white\",\"minorgridcolor\":\"white\",\"startlinecolor\":\"#2a3f5f\"},\"type\":\"carpet\"}],\"table\":[{\"cells\":{\"fill\":{\"color\":\"#EBF0F8\"},\"line\":{\"color\":\"white\"}},\"header\":{\"fill\":{\"color\":\"#C8D4E3\"},\"line\":{\"color\":\"white\"}},\"type\":\"table\"}],\"barpolar\":[{\"marker\":{\"line\":{\"color\":\"#E5ECF6\",\"width\":0.5},\"pattern\":{\"fillmode\":\"overlay\",\"size\":10,\"solidity\":0.2}},\"type\":\"barpolar\"}],\"pie\":[{\"automargin\":true,\"type\":\"pie\"}]},\"layout\":{\"autotypenumbers\":\"strict\",\"colorway\":[\"#636efa\",\"#EF553B\",\"#00cc96\",\"#ab63fa\",\"#FFA15A\",\"#19d3f3\",\"#FF6692\",\"#B6E880\",\"#FF97FF\",\"#FECB52\"],\"font\":{\"color\":\"#2a3f5f\"},\"hovermode\":\"closest\",\"hoverlabel\":{\"align\":\"left\"},\"paper_bgcolor\":\"white\",\"plot_bgcolor\":\"#E5ECF6\",\"polar\":{\"bgcolor\":\"#E5ECF6\",\"angularaxis\":{\"gridcolor\":\"white\",\"linecolor\":\"white\",\"ticks\":\"\"},\"radialaxis\":{\"gridcolor\":\"white\",\"linecolor\":\"white\",\"ticks\":\"\"}},\"ternary\":{\"bgcolor\":\"#E5ECF6\",\"aaxis\":{\"gridcolor\":\"white\",\"linecolor\":\"white\",\"ticks\":\"\"},\"baxis\":{\"gridcolor\":\"white\",\"linecolor\":\"white\",\"ticks\":\"\"},\"caxis\":{\"gridcolor\":\"white\",\"linecolor\":\"white\",\"ticks\":\"\"}},\"coloraxis\":{\"colorbar\":{\"outlinewidth\":0,\"ticks\":\"\"}},\"colorscale\":{\"sequential\":[[0.0,\"#0d0887\"],[0.1111111111111111,\"#46039f\"],[0.2222222222222222,\"#7201a8\"],[0.3333333333333333,\"#9c179e\"],[0.4444444444444444,\"#bd3786\"],[0.5555555555555556,\"#d8576b\"],[0.6666666666666666,\"#ed7953\"],[0.7777777777777778,\"#fb9f3a\"],[0.8888888888888888,\"#fdca26\"],[1.0,\"#f0f921\"]],\"sequentialminus\":[[0.0,\"#0d0887\"],[0.1111111111111111,\"#46039f\"],[0.2222222222222222,\"#7201a8\"],[0.3333333333333333,\"#9c179e\"],[0.4444444444444444,\"#bd3786\"],[0.5555555555555556,\"#d8576b\"],[0.6666666666666666,\"#ed7953\"],[0.7777777777777778,\"#fb9f3a\"],[0.8888888888888888,\"#fdca26\"],[1.0,\"#f0f921\"]],\"diverging\":[[0,\"#8e0152\"],[0.1,\"#c51b7d\"],[0.2,\"#de77ae\"],[0.3,\"#f1b6da\"],[0.4,\"#fde0ef\"],[0.5,\"#f7f7f7\"],[0.6,\"#e6f5d0\"],[0.7,\"#b8e186\"],[0.8,\"#7fbc41\"],[0.9,\"#4d9221\"],[1,\"#276419\"]]},\"xaxis\":{\"gridcolor\":\"white\",\"linecolor\":\"white\",\"ticks\":\"\",\"title\":{\"standoff\":15},\"zerolinecolor\":\"white\",\"automargin\":true,\"zerolinewidth\":2},\"yaxis\":{\"gridcolor\":\"white\",\"linecolor\":\"white\",\"ticks\":\"\",\"title\":{\"standoff\":15},\"zerolinecolor\":\"white\",\"automargin\":true,\"zerolinewidth\":2},\"scene\":{\"xaxis\":{\"backgroundcolor\":\"#E5ECF6\",\"gridcolor\":\"white\",\"linecolor\":\"white\",\"showbackground\":true,\"ticks\":\"\",\"zerolinecolor\":\"white\",\"gridwidth\":2},\"yaxis\":{\"backgroundcolor\":\"#E5ECF6\",\"gridcolor\":\"white\",\"linecolor\":\"white\",\"showbackground\":true,\"ticks\":\"\",\"zerolinecolor\":\"white\",\"gridwidth\":2},\"zaxis\":{\"backgroundcolor\":\"#E5ECF6\",\"gridcolor\":\"white\",\"linecolor\":\"white\",\"showbackground\":true,\"ticks\":\"\",\"zerolinecolor\":\"white\",\"gridwidth\":2}},\"shapedefaults\":{\"line\":{\"color\":\"#2a3f5f\"}},\"annotationdefaults\":{\"arrowcolor\":\"#2a3f5f\",\"arrowhead\":0,\"arrowwidth\":1},\"geo\":{\"bgcolor\":\"white\",\"landcolor\":\"#E5ECF6\",\"subunitcolor\":\"white\",\"showland\":true,\"showlakes\":true,\"lakecolor\":\"white\"},\"title\":{\"x\":0.05},\"mapbox\":{\"style\":\"light\"}}},\"xaxis\":{\"anchor\":\"y\",\"domain\":[0.0,1.0],\"title\":{\"text\":\"\\u041d\\u0430\\u0432\\u044b\\u043a\"}},\"yaxis\":{\"anchor\":\"x\",\"domain\":[0.0,1.0],\"title\":{\"text\":\"\\u041a\\u043e\\u043b\\u0438\\u0447\\u0435\\u0441\\u0442\\u0432\\u043e \\u0443\\u043f\\u043e\\u043c\\u0438\\u043d\\u0430\\u043d\\u0438\\u0439\"}},\"legend\":{\"tracegroupgap\":0},\"title\":{\"text\":\"\\u0422\\u043e\\u043f \\u043d\\u0430\\u0432\\u044b\\u043a\\u0438 \\u0434\\u043b\\u044f \\u0430\\u043d\\u0430\\u043b\\u0438\\u0442\\u0438\\u043a\\u043e\\u0432 \\u0434\\u0430\\u043d\\u043d\\u044b\\u0445\"},\"barmode\":\"relative\"},                        {\"responsive\": true}                    ).then(function(){\n",
              "                            \n",
              "var gd = document.getElementById('da89e88a-1b61-42c2-857d-fc2f19a381e2');\n",
              "var x = new MutationObserver(function (mutations, observer) {{\n",
              "        var display = window.getComputedStyle(gd).display;\n",
              "        if (!display || display === 'none') {{\n",
              "            console.log([gd, 'removed!']);\n",
              "            Plotly.purge(gd);\n",
              "            observer.disconnect();\n",
              "        }}\n",
              "}});\n",
              "\n",
              "// Listen for the removal of the full notebook cells\n",
              "var notebookContainer = gd.closest('#notebook-container');\n",
              "if (notebookContainer) {{\n",
              "    x.observe(notebookContainer, {childList: true});\n",
              "}}\n",
              "\n",
              "// Listen for the clearing of the current output cell\n",
              "var outputEl = gd.closest('.output');\n",
              "if (outputEl) {{\n",
              "    x.observe(outputEl, {childList: true});\n",
              "}}\n",
              "\n",
              "                        })                };                            </script>        </div>\n",
              "</body>\n",
              "</html>"
            ]
          },
          "metadata": {}
        }
      ]
    },
    {
      "cell_type": "markdown",
      "source": [
        "Интересно, что среди топ-навыков в обоих случаях работодатели приводят собственно сущность вакансии (\"бизнес-анализ\" и \"анализ данных\"), причем для каждого из направлений также упоминается другое (бизнес-анализ для дата-аналитиков и наоборот). Помимо этого, видим, что в сравнении для бизнес-аналитиков бОльшую роль играют софт-скиллы или смешанные навыки(аналитическое мышление, оптимизация бизнес-процессов, постановка задач разработчикам), а для аналитиков данных - хард-скиллы и смешанные (SQL, Python, MS Excel, Power BI, работа с базами данных, работа с большим объемом информации). Это соответствует сути различия между данными направлениями - аналитики данных более тесно работают с самими данными, в то время как бизнес-аналитики больше сосредоточены на удовлетворении потребностей бизнеса и принятии рекомендуемых решений, поэтому круг их партнеров шире и им, видимо, нужнее коммуникационные навыки."
      ],
      "metadata": {
        "id": "CLyVD5uSqWm0"
      }
    },
    {
      "cell_type": "markdown",
      "source": [
        "К сожалению, в предоставленной для исследования выборке значительная доля вакансий не содержит данных о заработной плате. В этой ситуации нецелесообразно замещать пропуски, поэтому приведем медианные значения по грейдам на основании имеющейся информации."
      ],
      "metadata": {
        "id": "oUtyEdtxtHmA"
      }
    },
    {
      "cell_type": "code",
      "source": [
        "ba_salary = ba.groupby('experience', as_index=False).agg(median_min=('salary_from', 'median'), median_max = ('salary_to', 'median'))"
      ],
      "metadata": {
        "id": "qOWiRn6w9aku"
      },
      "execution_count": null,
      "outputs": []
    },
    {
      "cell_type": "code",
      "source": [
        "fig = px.bar(ba_salary,\n",
        "             x = 'experience',\n",
        "             y = ['median_min', 'median_max'],\n",
        "             title = 'Заработная плата бизнес-аналитиков',\n",
        "             color_discrete_sequence = [\"yellowgreen\", \"green\"])\n",
        "fig.update_layout(autosize=False,\n",
        "                  width=700,\n",
        "                  height=700,\n",
        "                  xaxis_title = 'Грейд',\n",
        "                  yaxis_title = 'Границы з/п')"
      ],
      "metadata": {
        "colab": {
          "base_uri": "https://localhost:8080/",
          "height": 717
        },
        "id": "VaJUDm78-o3R",
        "outputId": "f7c854b9-c6ab-4f2c-933d-84877d63e8f4"
      },
      "execution_count": null,
      "outputs": [
        {
          "output_type": "display_data",
          "data": {
            "text/html": [
              "<html>\n",
              "<head><meta charset=\"utf-8\" /></head>\n",
              "<body>\n",
              "    <div>            <script src=\"https://cdnjs.cloudflare.com/ajax/libs/mathjax/2.7.5/MathJax.js?config=TeX-AMS-MML_SVG\"></script><script type=\"text/javascript\">if (window.MathJax && window.MathJax.Hub && window.MathJax.Hub.Config) {window.MathJax.Hub.Config({SVG: {font: \"STIX-Web\"}});}</script>                <script type=\"text/javascript\">window.PlotlyConfig = {MathJaxConfig: 'local'};</script>\n",
              "        <script charset=\"utf-8\" src=\"https://cdn.plot.ly/plotly-2.24.1.min.js\"></script>                <div id=\"76ff80e2-5596-4b60-bfd7-b67e383a57fb\" class=\"plotly-graph-div\" style=\"height:700px; width:700px;\"></div>            <script type=\"text/javascript\">                                    window.PLOTLYENV=window.PLOTLYENV || {};                                    if (document.getElementById(\"76ff80e2-5596-4b60-bfd7-b67e383a57fb\")) {                    Plotly.newPlot(                        \"76ff80e2-5596-4b60-bfd7-b67e383a57fb\",                        [{\"alignmentgroup\":\"True\",\"hovertemplate\":\"variable=median_min\\u003cbr\\u003eexperience=%{x}\\u003cbr\\u003evalue=%{y}\\u003cextra\\u003e\\u003c\\u002fextra\\u003e\",\"legendgroup\":\"median_min\",\"marker\":{\"color\":\"yellowgreen\",\"pattern\":{\"shape\":\"\"}},\"name\":\"median_min\",\"offsetgroup\":\"median_min\",\"orientation\":\"v\",\"showlegend\":true,\"textposition\":\"auto\",\"x\":[\"Junior (no experince)\",\"Junior+ (1-3 years)\",\"Middle (3-6 years)\",\"Senior (6+ years)\"],\"xaxis\":\"x\",\"y\":[70000.0,100000.0,135000.0,null],\"yaxis\":\"y\",\"type\":\"bar\"},{\"alignmentgroup\":\"True\",\"hovertemplate\":\"variable=median_max\\u003cbr\\u003eexperience=%{x}\\u003cbr\\u003evalue=%{y}\\u003cextra\\u003e\\u003c\\u002fextra\\u003e\",\"legendgroup\":\"median_max\",\"marker\":{\"color\":\"green\",\"pattern\":{\"shape\":\"\"}},\"name\":\"median_max\",\"offsetgroup\":\"median_max\",\"orientation\":\"v\",\"showlegend\":true,\"textposition\":\"auto\",\"x\":[\"Junior (no experince)\",\"Junior+ (1-3 years)\",\"Middle (3-6 years)\",\"Senior (6+ years)\"],\"xaxis\":\"x\",\"y\":[80000.0,147965.5,200000.0,400000.0],\"yaxis\":\"y\",\"type\":\"bar\"}],                        {\"template\":{\"data\":{\"histogram2dcontour\":[{\"type\":\"histogram2dcontour\",\"colorbar\":{\"outlinewidth\":0,\"ticks\":\"\"},\"colorscale\":[[0.0,\"#0d0887\"],[0.1111111111111111,\"#46039f\"],[0.2222222222222222,\"#7201a8\"],[0.3333333333333333,\"#9c179e\"],[0.4444444444444444,\"#bd3786\"],[0.5555555555555556,\"#d8576b\"],[0.6666666666666666,\"#ed7953\"],[0.7777777777777778,\"#fb9f3a\"],[0.8888888888888888,\"#fdca26\"],[1.0,\"#f0f921\"]]}],\"choropleth\":[{\"type\":\"choropleth\",\"colorbar\":{\"outlinewidth\":0,\"ticks\":\"\"}}],\"histogram2d\":[{\"type\":\"histogram2d\",\"colorbar\":{\"outlinewidth\":0,\"ticks\":\"\"},\"colorscale\":[[0.0,\"#0d0887\"],[0.1111111111111111,\"#46039f\"],[0.2222222222222222,\"#7201a8\"],[0.3333333333333333,\"#9c179e\"],[0.4444444444444444,\"#bd3786\"],[0.5555555555555556,\"#d8576b\"],[0.6666666666666666,\"#ed7953\"],[0.7777777777777778,\"#fb9f3a\"],[0.8888888888888888,\"#fdca26\"],[1.0,\"#f0f921\"]]}],\"heatmap\":[{\"type\":\"heatmap\",\"colorbar\":{\"outlinewidth\":0,\"ticks\":\"\"},\"colorscale\":[[0.0,\"#0d0887\"],[0.1111111111111111,\"#46039f\"],[0.2222222222222222,\"#7201a8\"],[0.3333333333333333,\"#9c179e\"],[0.4444444444444444,\"#bd3786\"],[0.5555555555555556,\"#d8576b\"],[0.6666666666666666,\"#ed7953\"],[0.7777777777777778,\"#fb9f3a\"],[0.8888888888888888,\"#fdca26\"],[1.0,\"#f0f921\"]]}],\"heatmapgl\":[{\"type\":\"heatmapgl\",\"colorbar\":{\"outlinewidth\":0,\"ticks\":\"\"},\"colorscale\":[[0.0,\"#0d0887\"],[0.1111111111111111,\"#46039f\"],[0.2222222222222222,\"#7201a8\"],[0.3333333333333333,\"#9c179e\"],[0.4444444444444444,\"#bd3786\"],[0.5555555555555556,\"#d8576b\"],[0.6666666666666666,\"#ed7953\"],[0.7777777777777778,\"#fb9f3a\"],[0.8888888888888888,\"#fdca26\"],[1.0,\"#f0f921\"]]}],\"contourcarpet\":[{\"type\":\"contourcarpet\",\"colorbar\":{\"outlinewidth\":0,\"ticks\":\"\"}}],\"contour\":[{\"type\":\"contour\",\"colorbar\":{\"outlinewidth\":0,\"ticks\":\"\"},\"colorscale\":[[0.0,\"#0d0887\"],[0.1111111111111111,\"#46039f\"],[0.2222222222222222,\"#7201a8\"],[0.3333333333333333,\"#9c179e\"],[0.4444444444444444,\"#bd3786\"],[0.5555555555555556,\"#d8576b\"],[0.6666666666666666,\"#ed7953\"],[0.7777777777777778,\"#fb9f3a\"],[0.8888888888888888,\"#fdca26\"],[1.0,\"#f0f921\"]]}],\"surface\":[{\"type\":\"surface\",\"colorbar\":{\"outlinewidth\":0,\"ticks\":\"\"},\"colorscale\":[[0.0,\"#0d0887\"],[0.1111111111111111,\"#46039f\"],[0.2222222222222222,\"#7201a8\"],[0.3333333333333333,\"#9c179e\"],[0.4444444444444444,\"#bd3786\"],[0.5555555555555556,\"#d8576b\"],[0.6666666666666666,\"#ed7953\"],[0.7777777777777778,\"#fb9f3a\"],[0.8888888888888888,\"#fdca26\"],[1.0,\"#f0f921\"]]}],\"mesh3d\":[{\"type\":\"mesh3d\",\"colorbar\":{\"outlinewidth\":0,\"ticks\":\"\"}}],\"scatter\":[{\"fillpattern\":{\"fillmode\":\"overlay\",\"size\":10,\"solidity\":0.2},\"type\":\"scatter\"}],\"parcoords\":[{\"type\":\"parcoords\",\"line\":{\"colorbar\":{\"outlinewidth\":0,\"ticks\":\"\"}}}],\"scatterpolargl\":[{\"type\":\"scatterpolargl\",\"marker\":{\"colorbar\":{\"outlinewidth\":0,\"ticks\":\"\"}}}],\"bar\":[{\"error_x\":{\"color\":\"#2a3f5f\"},\"error_y\":{\"color\":\"#2a3f5f\"},\"marker\":{\"line\":{\"color\":\"#E5ECF6\",\"width\":0.5},\"pattern\":{\"fillmode\":\"overlay\",\"size\":10,\"solidity\":0.2}},\"type\":\"bar\"}],\"scattergeo\":[{\"type\":\"scattergeo\",\"marker\":{\"colorbar\":{\"outlinewidth\":0,\"ticks\":\"\"}}}],\"scatterpolar\":[{\"type\":\"scatterpolar\",\"marker\":{\"colorbar\":{\"outlinewidth\":0,\"ticks\":\"\"}}}],\"histogram\":[{\"marker\":{\"pattern\":{\"fillmode\":\"overlay\",\"size\":10,\"solidity\":0.2}},\"type\":\"histogram\"}],\"scattergl\":[{\"type\":\"scattergl\",\"marker\":{\"colorbar\":{\"outlinewidth\":0,\"ticks\":\"\"}}}],\"scatter3d\":[{\"type\":\"scatter3d\",\"line\":{\"colorbar\":{\"outlinewidth\":0,\"ticks\":\"\"}},\"marker\":{\"colorbar\":{\"outlinewidth\":0,\"ticks\":\"\"}}}],\"scattermapbox\":[{\"type\":\"scattermapbox\",\"marker\":{\"colorbar\":{\"outlinewidth\":0,\"ticks\":\"\"}}}],\"scatterternary\":[{\"type\":\"scatterternary\",\"marker\":{\"colorbar\":{\"outlinewidth\":0,\"ticks\":\"\"}}}],\"scattercarpet\":[{\"type\":\"scattercarpet\",\"marker\":{\"colorbar\":{\"outlinewidth\":0,\"ticks\":\"\"}}}],\"carpet\":[{\"aaxis\":{\"endlinecolor\":\"#2a3f5f\",\"gridcolor\":\"white\",\"linecolor\":\"white\",\"minorgridcolor\":\"white\",\"startlinecolor\":\"#2a3f5f\"},\"baxis\":{\"endlinecolor\":\"#2a3f5f\",\"gridcolor\":\"white\",\"linecolor\":\"white\",\"minorgridcolor\":\"white\",\"startlinecolor\":\"#2a3f5f\"},\"type\":\"carpet\"}],\"table\":[{\"cells\":{\"fill\":{\"color\":\"#EBF0F8\"},\"line\":{\"color\":\"white\"}},\"header\":{\"fill\":{\"color\":\"#C8D4E3\"},\"line\":{\"color\":\"white\"}},\"type\":\"table\"}],\"barpolar\":[{\"marker\":{\"line\":{\"color\":\"#E5ECF6\",\"width\":0.5},\"pattern\":{\"fillmode\":\"overlay\",\"size\":10,\"solidity\":0.2}},\"type\":\"barpolar\"}],\"pie\":[{\"automargin\":true,\"type\":\"pie\"}]},\"layout\":{\"autotypenumbers\":\"strict\",\"colorway\":[\"#636efa\",\"#EF553B\",\"#00cc96\",\"#ab63fa\",\"#FFA15A\",\"#19d3f3\",\"#FF6692\",\"#B6E880\",\"#FF97FF\",\"#FECB52\"],\"font\":{\"color\":\"#2a3f5f\"},\"hovermode\":\"closest\",\"hoverlabel\":{\"align\":\"left\"},\"paper_bgcolor\":\"white\",\"plot_bgcolor\":\"#E5ECF6\",\"polar\":{\"bgcolor\":\"#E5ECF6\",\"angularaxis\":{\"gridcolor\":\"white\",\"linecolor\":\"white\",\"ticks\":\"\"},\"radialaxis\":{\"gridcolor\":\"white\",\"linecolor\":\"white\",\"ticks\":\"\"}},\"ternary\":{\"bgcolor\":\"#E5ECF6\",\"aaxis\":{\"gridcolor\":\"white\",\"linecolor\":\"white\",\"ticks\":\"\"},\"baxis\":{\"gridcolor\":\"white\",\"linecolor\":\"white\",\"ticks\":\"\"},\"caxis\":{\"gridcolor\":\"white\",\"linecolor\":\"white\",\"ticks\":\"\"}},\"coloraxis\":{\"colorbar\":{\"outlinewidth\":0,\"ticks\":\"\"}},\"colorscale\":{\"sequential\":[[0.0,\"#0d0887\"],[0.1111111111111111,\"#46039f\"],[0.2222222222222222,\"#7201a8\"],[0.3333333333333333,\"#9c179e\"],[0.4444444444444444,\"#bd3786\"],[0.5555555555555556,\"#d8576b\"],[0.6666666666666666,\"#ed7953\"],[0.7777777777777778,\"#fb9f3a\"],[0.8888888888888888,\"#fdca26\"],[1.0,\"#f0f921\"]],\"sequentialminus\":[[0.0,\"#0d0887\"],[0.1111111111111111,\"#46039f\"],[0.2222222222222222,\"#7201a8\"],[0.3333333333333333,\"#9c179e\"],[0.4444444444444444,\"#bd3786\"],[0.5555555555555556,\"#d8576b\"],[0.6666666666666666,\"#ed7953\"],[0.7777777777777778,\"#fb9f3a\"],[0.8888888888888888,\"#fdca26\"],[1.0,\"#f0f921\"]],\"diverging\":[[0,\"#8e0152\"],[0.1,\"#c51b7d\"],[0.2,\"#de77ae\"],[0.3,\"#f1b6da\"],[0.4,\"#fde0ef\"],[0.5,\"#f7f7f7\"],[0.6,\"#e6f5d0\"],[0.7,\"#b8e186\"],[0.8,\"#7fbc41\"],[0.9,\"#4d9221\"],[1,\"#276419\"]]},\"xaxis\":{\"gridcolor\":\"white\",\"linecolor\":\"white\",\"ticks\":\"\",\"title\":{\"standoff\":15},\"zerolinecolor\":\"white\",\"automargin\":true,\"zerolinewidth\":2},\"yaxis\":{\"gridcolor\":\"white\",\"linecolor\":\"white\",\"ticks\":\"\",\"title\":{\"standoff\":15},\"zerolinecolor\":\"white\",\"automargin\":true,\"zerolinewidth\":2},\"scene\":{\"xaxis\":{\"backgroundcolor\":\"#E5ECF6\",\"gridcolor\":\"white\",\"linecolor\":\"white\",\"showbackground\":true,\"ticks\":\"\",\"zerolinecolor\":\"white\",\"gridwidth\":2},\"yaxis\":{\"backgroundcolor\":\"#E5ECF6\",\"gridcolor\":\"white\",\"linecolor\":\"white\",\"showbackground\":true,\"ticks\":\"\",\"zerolinecolor\":\"white\",\"gridwidth\":2},\"zaxis\":{\"backgroundcolor\":\"#E5ECF6\",\"gridcolor\":\"white\",\"linecolor\":\"white\",\"showbackground\":true,\"ticks\":\"\",\"zerolinecolor\":\"white\",\"gridwidth\":2}},\"shapedefaults\":{\"line\":{\"color\":\"#2a3f5f\"}},\"annotationdefaults\":{\"arrowcolor\":\"#2a3f5f\",\"arrowhead\":0,\"arrowwidth\":1},\"geo\":{\"bgcolor\":\"white\",\"landcolor\":\"#E5ECF6\",\"subunitcolor\":\"white\",\"showland\":true,\"showlakes\":true,\"lakecolor\":\"white\"},\"title\":{\"x\":0.05},\"mapbox\":{\"style\":\"light\"}}},\"xaxis\":{\"anchor\":\"y\",\"domain\":[0.0,1.0],\"title\":{\"text\":\"\\u0413\\u0440\\u0435\\u0439\\u0434\"}},\"yaxis\":{\"anchor\":\"x\",\"domain\":[0.0,1.0],\"title\":{\"text\":\"\\u0413\\u0440\\u0430\\u043d\\u0438\\u0446\\u044b \\u0437\\u002f\\u043f\"}},\"legend\":{\"title\":{\"text\":\"variable\"},\"tracegroupgap\":0},\"title\":{\"text\":\"\\u0417\\u0430\\u0440\\u0430\\u0431\\u043e\\u0442\\u043d\\u0430\\u044f \\u043f\\u043b\\u0430\\u0442\\u0430 \\u0431\\u0438\\u0437\\u043d\\u0435\\u0441-\\u0430\\u043d\\u0430\\u043b\\u0438\\u0442\\u0438\\u043a\\u043e\\u0432\"},\"barmode\":\"relative\",\"autosize\":false,\"width\":700,\"height\":700},                        {\"responsive\": true}                    ).then(function(){\n",
              "                            \n",
              "var gd = document.getElementById('76ff80e2-5596-4b60-bfd7-b67e383a57fb');\n",
              "var x = new MutationObserver(function (mutations, observer) {{\n",
              "        var display = window.getComputedStyle(gd).display;\n",
              "        if (!display || display === 'none') {{\n",
              "            console.log([gd, 'removed!']);\n",
              "            Plotly.purge(gd);\n",
              "            observer.disconnect();\n",
              "        }}\n",
              "}});\n",
              "\n",
              "// Listen for the removal of the full notebook cells\n",
              "var notebookContainer = gd.closest('#notebook-container');\n",
              "if (notebookContainer) {{\n",
              "    x.observe(notebookContainer, {childList: true});\n",
              "}}\n",
              "\n",
              "// Listen for the clearing of the current output cell\n",
              "var outputEl = gd.closest('.output');\n",
              "if (outputEl) {{\n",
              "    x.observe(outputEl, {childList: true});\n",
              "}}\n",
              "\n",
              "                        })                };                            </script>        </div>\n",
              "</body>\n",
              "</html>"
            ]
          },
          "metadata": {}
        }
      ]
    },
    {
      "cell_type": "code",
      "source": [
        "da_salary = da.groupby('experience', as_index=False).agg(median_min=('salary_from', 'median'), median_max = ('salary_to', 'median'))"
      ],
      "metadata": {
        "id": "7W7ot4fi_HFW"
      },
      "execution_count": null,
      "outputs": []
    },
    {
      "cell_type": "code",
      "source": [
        "fig = px.bar(da_salary,\n",
        "             x = 'experience',\n",
        "             y = ['median_min', 'median_max'],\n",
        "             title = 'Заработная плата аналитиков данных',\n",
        "             color_discrete_sequence = [\"red\", \"darkred\"])\n",
        "fig.update_layout(autosize=False,\n",
        "                  width=700,\n",
        "                  height=700,\n",
        "                  xaxis_title = 'Грейд',\n",
        "                  yaxis_title = 'Границы з/п')"
      ],
      "metadata": {
        "colab": {
          "base_uri": "https://localhost:8080/",
          "height": 717
        },
        "id": "CuzFE54-HDwV",
        "outputId": "d65f445b-39f2-458f-c6c7-285bbe1656c1"
      },
      "execution_count": null,
      "outputs": [
        {
          "output_type": "display_data",
          "data": {
            "text/html": [
              "<html>\n",
              "<head><meta charset=\"utf-8\" /></head>\n",
              "<body>\n",
              "    <div>            <script src=\"https://cdnjs.cloudflare.com/ajax/libs/mathjax/2.7.5/MathJax.js?config=TeX-AMS-MML_SVG\"></script><script type=\"text/javascript\">if (window.MathJax && window.MathJax.Hub && window.MathJax.Hub.Config) {window.MathJax.Hub.Config({SVG: {font: \"STIX-Web\"}});}</script>                <script type=\"text/javascript\">window.PlotlyConfig = {MathJaxConfig: 'local'};</script>\n",
              "        <script charset=\"utf-8\" src=\"https://cdn.plot.ly/plotly-2.24.1.min.js\"></script>                <div id=\"ceae4cad-7d1c-40ed-9a9f-8d9f8c2744dd\" class=\"plotly-graph-div\" style=\"height:700px; width:700px;\"></div>            <script type=\"text/javascript\">                                    window.PLOTLYENV=window.PLOTLYENV || {};                                    if (document.getElementById(\"ceae4cad-7d1c-40ed-9a9f-8d9f8c2744dd\")) {                    Plotly.newPlot(                        \"ceae4cad-7d1c-40ed-9a9f-8d9f8c2744dd\",                        [{\"alignmentgroup\":\"True\",\"hovertemplate\":\"variable=median_min\\u003cbr\\u003eexperience=%{x}\\u003cbr\\u003evalue=%{y}\\u003cextra\\u003e\\u003c\\u002fextra\\u003e\",\"legendgroup\":\"median_min\",\"marker\":{\"color\":\"red\",\"pattern\":{\"shape\":\"\"}},\"name\":\"median_min\",\"offsetgroup\":\"median_min\",\"orientation\":\"v\",\"showlegend\":true,\"textposition\":\"auto\",\"x\":[\"Junior (no experince)\",\"Junior+ (1-3 years)\",\"Middle (3-6 years)\"],\"xaxis\":\"x\",\"y\":[60000.0,80000.0,150000.0],\"yaxis\":\"y\",\"type\":\"bar\"},{\"alignmentgroup\":\"True\",\"hovertemplate\":\"variable=median_max\\u003cbr\\u003eexperience=%{x}\\u003cbr\\u003evalue=%{y}\\u003cextra\\u003e\\u003c\\u002fextra\\u003e\",\"legendgroup\":\"median_max\",\"marker\":{\"color\":\"darkred\",\"pattern\":{\"shape\":\"\"}},\"name\":\"median_max\",\"offsetgroup\":\"median_max\",\"orientation\":\"v\",\"showlegend\":true,\"textposition\":\"auto\",\"x\":[\"Junior (no experince)\",\"Junior+ (1-3 years)\",\"Middle (3-6 years)\"],\"xaxis\":\"x\",\"y\":[85000.0,112500.0,300000.0],\"yaxis\":\"y\",\"type\":\"bar\"}],                        {\"template\":{\"data\":{\"histogram2dcontour\":[{\"type\":\"histogram2dcontour\",\"colorbar\":{\"outlinewidth\":0,\"ticks\":\"\"},\"colorscale\":[[0.0,\"#0d0887\"],[0.1111111111111111,\"#46039f\"],[0.2222222222222222,\"#7201a8\"],[0.3333333333333333,\"#9c179e\"],[0.4444444444444444,\"#bd3786\"],[0.5555555555555556,\"#d8576b\"],[0.6666666666666666,\"#ed7953\"],[0.7777777777777778,\"#fb9f3a\"],[0.8888888888888888,\"#fdca26\"],[1.0,\"#f0f921\"]]}],\"choropleth\":[{\"type\":\"choropleth\",\"colorbar\":{\"outlinewidth\":0,\"ticks\":\"\"}}],\"histogram2d\":[{\"type\":\"histogram2d\",\"colorbar\":{\"outlinewidth\":0,\"ticks\":\"\"},\"colorscale\":[[0.0,\"#0d0887\"],[0.1111111111111111,\"#46039f\"],[0.2222222222222222,\"#7201a8\"],[0.3333333333333333,\"#9c179e\"],[0.4444444444444444,\"#bd3786\"],[0.5555555555555556,\"#d8576b\"],[0.6666666666666666,\"#ed7953\"],[0.7777777777777778,\"#fb9f3a\"],[0.8888888888888888,\"#fdca26\"],[1.0,\"#f0f921\"]]}],\"heatmap\":[{\"type\":\"heatmap\",\"colorbar\":{\"outlinewidth\":0,\"ticks\":\"\"},\"colorscale\":[[0.0,\"#0d0887\"],[0.1111111111111111,\"#46039f\"],[0.2222222222222222,\"#7201a8\"],[0.3333333333333333,\"#9c179e\"],[0.4444444444444444,\"#bd3786\"],[0.5555555555555556,\"#d8576b\"],[0.6666666666666666,\"#ed7953\"],[0.7777777777777778,\"#fb9f3a\"],[0.8888888888888888,\"#fdca26\"],[1.0,\"#f0f921\"]]}],\"heatmapgl\":[{\"type\":\"heatmapgl\",\"colorbar\":{\"outlinewidth\":0,\"ticks\":\"\"},\"colorscale\":[[0.0,\"#0d0887\"],[0.1111111111111111,\"#46039f\"],[0.2222222222222222,\"#7201a8\"],[0.3333333333333333,\"#9c179e\"],[0.4444444444444444,\"#bd3786\"],[0.5555555555555556,\"#d8576b\"],[0.6666666666666666,\"#ed7953\"],[0.7777777777777778,\"#fb9f3a\"],[0.8888888888888888,\"#fdca26\"],[1.0,\"#f0f921\"]]}],\"contourcarpet\":[{\"type\":\"contourcarpet\",\"colorbar\":{\"outlinewidth\":0,\"ticks\":\"\"}}],\"contour\":[{\"type\":\"contour\",\"colorbar\":{\"outlinewidth\":0,\"ticks\":\"\"},\"colorscale\":[[0.0,\"#0d0887\"],[0.1111111111111111,\"#46039f\"],[0.2222222222222222,\"#7201a8\"],[0.3333333333333333,\"#9c179e\"],[0.4444444444444444,\"#bd3786\"],[0.5555555555555556,\"#d8576b\"],[0.6666666666666666,\"#ed7953\"],[0.7777777777777778,\"#fb9f3a\"],[0.8888888888888888,\"#fdca26\"],[1.0,\"#f0f921\"]]}],\"surface\":[{\"type\":\"surface\",\"colorbar\":{\"outlinewidth\":0,\"ticks\":\"\"},\"colorscale\":[[0.0,\"#0d0887\"],[0.1111111111111111,\"#46039f\"],[0.2222222222222222,\"#7201a8\"],[0.3333333333333333,\"#9c179e\"],[0.4444444444444444,\"#bd3786\"],[0.5555555555555556,\"#d8576b\"],[0.6666666666666666,\"#ed7953\"],[0.7777777777777778,\"#fb9f3a\"],[0.8888888888888888,\"#fdca26\"],[1.0,\"#f0f921\"]]}],\"mesh3d\":[{\"type\":\"mesh3d\",\"colorbar\":{\"outlinewidth\":0,\"ticks\":\"\"}}],\"scatter\":[{\"fillpattern\":{\"fillmode\":\"overlay\",\"size\":10,\"solidity\":0.2},\"type\":\"scatter\"}],\"parcoords\":[{\"type\":\"parcoords\",\"line\":{\"colorbar\":{\"outlinewidth\":0,\"ticks\":\"\"}}}],\"scatterpolargl\":[{\"type\":\"scatterpolargl\",\"marker\":{\"colorbar\":{\"outlinewidth\":0,\"ticks\":\"\"}}}],\"bar\":[{\"error_x\":{\"color\":\"#2a3f5f\"},\"error_y\":{\"color\":\"#2a3f5f\"},\"marker\":{\"line\":{\"color\":\"#E5ECF6\",\"width\":0.5},\"pattern\":{\"fillmode\":\"overlay\",\"size\":10,\"solidity\":0.2}},\"type\":\"bar\"}],\"scattergeo\":[{\"type\":\"scattergeo\",\"marker\":{\"colorbar\":{\"outlinewidth\":0,\"ticks\":\"\"}}}],\"scatterpolar\":[{\"type\":\"scatterpolar\",\"marker\":{\"colorbar\":{\"outlinewidth\":0,\"ticks\":\"\"}}}],\"histogram\":[{\"marker\":{\"pattern\":{\"fillmode\":\"overlay\",\"size\":10,\"solidity\":0.2}},\"type\":\"histogram\"}],\"scattergl\":[{\"type\":\"scattergl\",\"marker\":{\"colorbar\":{\"outlinewidth\":0,\"ticks\":\"\"}}}],\"scatter3d\":[{\"type\":\"scatter3d\",\"line\":{\"colorbar\":{\"outlinewidth\":0,\"ticks\":\"\"}},\"marker\":{\"colorbar\":{\"outlinewidth\":0,\"ticks\":\"\"}}}],\"scattermapbox\":[{\"type\":\"scattermapbox\",\"marker\":{\"colorbar\":{\"outlinewidth\":0,\"ticks\":\"\"}}}],\"scatterternary\":[{\"type\":\"scatterternary\",\"marker\":{\"colorbar\":{\"outlinewidth\":0,\"ticks\":\"\"}}}],\"scattercarpet\":[{\"type\":\"scattercarpet\",\"marker\":{\"colorbar\":{\"outlinewidth\":0,\"ticks\":\"\"}}}],\"carpet\":[{\"aaxis\":{\"endlinecolor\":\"#2a3f5f\",\"gridcolor\":\"white\",\"linecolor\":\"white\",\"minorgridcolor\":\"white\",\"startlinecolor\":\"#2a3f5f\"},\"baxis\":{\"endlinecolor\":\"#2a3f5f\",\"gridcolor\":\"white\",\"linecolor\":\"white\",\"minorgridcolor\":\"white\",\"startlinecolor\":\"#2a3f5f\"},\"type\":\"carpet\"}],\"table\":[{\"cells\":{\"fill\":{\"color\":\"#EBF0F8\"},\"line\":{\"color\":\"white\"}},\"header\":{\"fill\":{\"color\":\"#C8D4E3\"},\"line\":{\"color\":\"white\"}},\"type\":\"table\"}],\"barpolar\":[{\"marker\":{\"line\":{\"color\":\"#E5ECF6\",\"width\":0.5},\"pattern\":{\"fillmode\":\"overlay\",\"size\":10,\"solidity\":0.2}},\"type\":\"barpolar\"}],\"pie\":[{\"automargin\":true,\"type\":\"pie\"}]},\"layout\":{\"autotypenumbers\":\"strict\",\"colorway\":[\"#636efa\",\"#EF553B\",\"#00cc96\",\"#ab63fa\",\"#FFA15A\",\"#19d3f3\",\"#FF6692\",\"#B6E880\",\"#FF97FF\",\"#FECB52\"],\"font\":{\"color\":\"#2a3f5f\"},\"hovermode\":\"closest\",\"hoverlabel\":{\"align\":\"left\"},\"paper_bgcolor\":\"white\",\"plot_bgcolor\":\"#E5ECF6\",\"polar\":{\"bgcolor\":\"#E5ECF6\",\"angularaxis\":{\"gridcolor\":\"white\",\"linecolor\":\"white\",\"ticks\":\"\"},\"radialaxis\":{\"gridcolor\":\"white\",\"linecolor\":\"white\",\"ticks\":\"\"}},\"ternary\":{\"bgcolor\":\"#E5ECF6\",\"aaxis\":{\"gridcolor\":\"white\",\"linecolor\":\"white\",\"ticks\":\"\"},\"baxis\":{\"gridcolor\":\"white\",\"linecolor\":\"white\",\"ticks\":\"\"},\"caxis\":{\"gridcolor\":\"white\",\"linecolor\":\"white\",\"ticks\":\"\"}},\"coloraxis\":{\"colorbar\":{\"outlinewidth\":0,\"ticks\":\"\"}},\"colorscale\":{\"sequential\":[[0.0,\"#0d0887\"],[0.1111111111111111,\"#46039f\"],[0.2222222222222222,\"#7201a8\"],[0.3333333333333333,\"#9c179e\"],[0.4444444444444444,\"#bd3786\"],[0.5555555555555556,\"#d8576b\"],[0.6666666666666666,\"#ed7953\"],[0.7777777777777778,\"#fb9f3a\"],[0.8888888888888888,\"#fdca26\"],[1.0,\"#f0f921\"]],\"sequentialminus\":[[0.0,\"#0d0887\"],[0.1111111111111111,\"#46039f\"],[0.2222222222222222,\"#7201a8\"],[0.3333333333333333,\"#9c179e\"],[0.4444444444444444,\"#bd3786\"],[0.5555555555555556,\"#d8576b\"],[0.6666666666666666,\"#ed7953\"],[0.7777777777777778,\"#fb9f3a\"],[0.8888888888888888,\"#fdca26\"],[1.0,\"#f0f921\"]],\"diverging\":[[0,\"#8e0152\"],[0.1,\"#c51b7d\"],[0.2,\"#de77ae\"],[0.3,\"#f1b6da\"],[0.4,\"#fde0ef\"],[0.5,\"#f7f7f7\"],[0.6,\"#e6f5d0\"],[0.7,\"#b8e186\"],[0.8,\"#7fbc41\"],[0.9,\"#4d9221\"],[1,\"#276419\"]]},\"xaxis\":{\"gridcolor\":\"white\",\"linecolor\":\"white\",\"ticks\":\"\",\"title\":{\"standoff\":15},\"zerolinecolor\":\"white\",\"automargin\":true,\"zerolinewidth\":2},\"yaxis\":{\"gridcolor\":\"white\",\"linecolor\":\"white\",\"ticks\":\"\",\"title\":{\"standoff\":15},\"zerolinecolor\":\"white\",\"automargin\":true,\"zerolinewidth\":2},\"scene\":{\"xaxis\":{\"backgroundcolor\":\"#E5ECF6\",\"gridcolor\":\"white\",\"linecolor\":\"white\",\"showbackground\":true,\"ticks\":\"\",\"zerolinecolor\":\"white\",\"gridwidth\":2},\"yaxis\":{\"backgroundcolor\":\"#E5ECF6\",\"gridcolor\":\"white\",\"linecolor\":\"white\",\"showbackground\":true,\"ticks\":\"\",\"zerolinecolor\":\"white\",\"gridwidth\":2},\"zaxis\":{\"backgroundcolor\":\"#E5ECF6\",\"gridcolor\":\"white\",\"linecolor\":\"white\",\"showbackground\":true,\"ticks\":\"\",\"zerolinecolor\":\"white\",\"gridwidth\":2}},\"shapedefaults\":{\"line\":{\"color\":\"#2a3f5f\"}},\"annotationdefaults\":{\"arrowcolor\":\"#2a3f5f\",\"arrowhead\":0,\"arrowwidth\":1},\"geo\":{\"bgcolor\":\"white\",\"landcolor\":\"#E5ECF6\",\"subunitcolor\":\"white\",\"showland\":true,\"showlakes\":true,\"lakecolor\":\"white\"},\"title\":{\"x\":0.05},\"mapbox\":{\"style\":\"light\"}}},\"xaxis\":{\"anchor\":\"y\",\"domain\":[0.0,1.0],\"title\":{\"text\":\"\\u0413\\u0440\\u0435\\u0439\\u0434\"}},\"yaxis\":{\"anchor\":\"x\",\"domain\":[0.0,1.0],\"title\":{\"text\":\"\\u0413\\u0440\\u0430\\u043d\\u0438\\u0446\\u044b \\u0437\\u002f\\u043f\"}},\"legend\":{\"title\":{\"text\":\"variable\"},\"tracegroupgap\":0},\"title\":{\"text\":\"\\u0417\\u0430\\u0440\\u0430\\u0431\\u043e\\u0442\\u043d\\u0430\\u044f \\u043f\\u043b\\u0430\\u0442\\u0430 \\u0430\\u043d\\u0430\\u043b\\u0438\\u0442\\u0438\\u043a\\u043e\\u0432 \\u0434\\u0430\\u043d\\u043d\\u044b\\u0445\"},\"barmode\":\"relative\",\"autosize\":false,\"width\":700,\"height\":700},                        {\"responsive\": true}                    ).then(function(){\n",
              "                            \n",
              "var gd = document.getElementById('ceae4cad-7d1c-40ed-9a9f-8d9f8c2744dd');\n",
              "var x = new MutationObserver(function (mutations, observer) {{\n",
              "        var display = window.getComputedStyle(gd).display;\n",
              "        if (!display || display === 'none') {{\n",
              "            console.log([gd, 'removed!']);\n",
              "            Plotly.purge(gd);\n",
              "            observer.disconnect();\n",
              "        }}\n",
              "}});\n",
              "\n",
              "// Listen for the removal of the full notebook cells\n",
              "var notebookContainer = gd.closest('#notebook-container');\n",
              "if (notebookContainer) {{\n",
              "    x.observe(notebookContainer, {childList: true});\n",
              "}}\n",
              "\n",
              "// Listen for the clearing of the current output cell\n",
              "var outputEl = gd.closest('.output');\n",
              "if (outputEl) {{\n",
              "    x.observe(outputEl, {childList: true});\n",
              "}}\n",
              "\n",
              "                        })                };                            </script>        </div>\n",
              "</body>\n",
              "</html>"
            ]
          },
          "metadata": {}
        }
      ]
    },
    {
      "cell_type": "markdown",
      "source": [
        "Видим, что данные сопоставимые, однако у дата-аналитиков больше разрыв между джун+ и миддлами, которые по верхней границе могут даже обгонять сеньоров бизнес-аналитиков. Предполагаем, что это обозначает особую заинтересованность рынка в специалистах такого рода."
      ],
      "metadata": {
        "id": "iINckCOAuHVN"
      }
    },
    {
      "cell_type": "markdown",
      "source": [
        "Проверим, каково географическое распределение вакансий."
      ],
      "metadata": {
        "id": "pUGTuxODu9z3"
      }
    },
    {
      "cell_type": "code",
      "source": [
        "ba_location = ba.groupby('area', as_index=False).agg(count=('area', 'count')).sort_values('count', ascending=False).head(10)\n",
        "fig = px.bar(ba_location,\n",
        "             x = 'area',\n",
        "             y = 'count',\n",
        "             title = 'Город размещения работодателя (бизнес-аналитики)',\n",
        "             color_discrete_sequence = [\"green\"])\n",
        "fig.update_layout(autosize=False,\n",
        "                  width=1400,\n",
        "                  height=400,\n",
        "                  xaxis_title = 'Город',\n",
        "                  yaxis_title = 'Количество вакансий')"
      ],
      "metadata": {
        "colab": {
          "base_uri": "https://localhost:8080/",
          "height": 437
        },
        "id": "2HPRWh8WLgq5",
        "outputId": "7babc5e5-ca54-4529-d720-7fbc9081324f"
      },
      "execution_count": null,
      "outputs": [
        {
          "output_type": "display_data",
          "data": {
            "text/html": [
              "<html>\n",
              "<head><meta charset=\"utf-8\" /></head>\n",
              "<body>\n",
              "    <div>            <script src=\"https://cdnjs.cloudflare.com/ajax/libs/mathjax/2.7.5/MathJax.js?config=TeX-AMS-MML_SVG\"></script><script type=\"text/javascript\">if (window.MathJax && window.MathJax.Hub && window.MathJax.Hub.Config) {window.MathJax.Hub.Config({SVG: {font: \"STIX-Web\"}});}</script>                <script type=\"text/javascript\">window.PlotlyConfig = {MathJaxConfig: 'local'};</script>\n",
              "        <script charset=\"utf-8\" src=\"https://cdn.plot.ly/plotly-2.24.1.min.js\"></script>                <div id=\"0a9e5468-d5dd-43df-9b34-1646b47803b4\" class=\"plotly-graph-div\" style=\"height:400px; width:1400px;\"></div>            <script type=\"text/javascript\">                                    window.PLOTLYENV=window.PLOTLYENV || {};                                    if (document.getElementById(\"0a9e5468-d5dd-43df-9b34-1646b47803b4\")) {                    Plotly.newPlot(                        \"0a9e5468-d5dd-43df-9b34-1646b47803b4\",                        [{\"alignmentgroup\":\"True\",\"hovertemplate\":\"area=%{x}\\u003cbr\\u003ecount=%{y}\\u003cextra\\u003e\\u003c\\u002fextra\\u003e\",\"legendgroup\":\"\",\"marker\":{\"color\":\"green\",\"pattern\":{\"shape\":\"\"}},\"name\":\"\",\"offsetgroup\":\"\",\"orientation\":\"v\",\"showlegend\":false,\"textposition\":\"auto\",\"x\":[\"\\u041c\\u043e\\u0441\\u043a\\u0432\\u0430\",\"\\u0421\\u0430\\u043d\\u043a\\u0442-\\u041f\\u0435\\u0442\\u0435\\u0440\\u0431\\u0443\\u0440\\u0433\",\"\\u0415\\u043a\\u0430\\u0442\\u0435\\u0440\\u0438\\u043d\\u0431\\u0443\\u0440\\u0433\",\"\\u041d\\u0438\\u0436\\u043d\\u0438\\u0439 \\u041d\\u043e\\u0432\\u0433\\u043e\\u0440\\u043e\\u0434\",\"\\u041a\\u0430\\u0437\\u0430\\u043d\\u044c\",\"\\u041a\\u0440\\u0430\\u0441\\u043d\\u043e\\u0434\\u0430\\u0440\",\"\\u0421\\u0430\\u043c\\u0430\\u0440\\u0430\",\"\\u041d\\u043e\\u0432\\u043e\\u0441\\u0438\\u0431\\u0438\\u0440\\u0441\\u043a\",\"\\u0420\\u043e\\u0441\\u0442\\u043e\\u0432-\\u043d\\u0430-\\u0414\\u043e\\u043d\\u0443\",\"\\u041f\\u0435\\u0440\\u043c\\u044c\"],\"xaxis\":\"x\",\"y\":[528,94,25,23,21,20,14,12,9,8],\"yaxis\":\"y\",\"type\":\"bar\"}],                        {\"template\":{\"data\":{\"histogram2dcontour\":[{\"type\":\"histogram2dcontour\",\"colorbar\":{\"outlinewidth\":0,\"ticks\":\"\"},\"colorscale\":[[0.0,\"#0d0887\"],[0.1111111111111111,\"#46039f\"],[0.2222222222222222,\"#7201a8\"],[0.3333333333333333,\"#9c179e\"],[0.4444444444444444,\"#bd3786\"],[0.5555555555555556,\"#d8576b\"],[0.6666666666666666,\"#ed7953\"],[0.7777777777777778,\"#fb9f3a\"],[0.8888888888888888,\"#fdca26\"],[1.0,\"#f0f921\"]]}],\"choropleth\":[{\"type\":\"choropleth\",\"colorbar\":{\"outlinewidth\":0,\"ticks\":\"\"}}],\"histogram2d\":[{\"type\":\"histogram2d\",\"colorbar\":{\"outlinewidth\":0,\"ticks\":\"\"},\"colorscale\":[[0.0,\"#0d0887\"],[0.1111111111111111,\"#46039f\"],[0.2222222222222222,\"#7201a8\"],[0.3333333333333333,\"#9c179e\"],[0.4444444444444444,\"#bd3786\"],[0.5555555555555556,\"#d8576b\"],[0.6666666666666666,\"#ed7953\"],[0.7777777777777778,\"#fb9f3a\"],[0.8888888888888888,\"#fdca26\"],[1.0,\"#f0f921\"]]}],\"heatmap\":[{\"type\":\"heatmap\",\"colorbar\":{\"outlinewidth\":0,\"ticks\":\"\"},\"colorscale\":[[0.0,\"#0d0887\"],[0.1111111111111111,\"#46039f\"],[0.2222222222222222,\"#7201a8\"],[0.3333333333333333,\"#9c179e\"],[0.4444444444444444,\"#bd3786\"],[0.5555555555555556,\"#d8576b\"],[0.6666666666666666,\"#ed7953\"],[0.7777777777777778,\"#fb9f3a\"],[0.8888888888888888,\"#fdca26\"],[1.0,\"#f0f921\"]]}],\"heatmapgl\":[{\"type\":\"heatmapgl\",\"colorbar\":{\"outlinewidth\":0,\"ticks\":\"\"},\"colorscale\":[[0.0,\"#0d0887\"],[0.1111111111111111,\"#46039f\"],[0.2222222222222222,\"#7201a8\"],[0.3333333333333333,\"#9c179e\"],[0.4444444444444444,\"#bd3786\"],[0.5555555555555556,\"#d8576b\"],[0.6666666666666666,\"#ed7953\"],[0.7777777777777778,\"#fb9f3a\"],[0.8888888888888888,\"#fdca26\"],[1.0,\"#f0f921\"]]}],\"contourcarpet\":[{\"type\":\"contourcarpet\",\"colorbar\":{\"outlinewidth\":0,\"ticks\":\"\"}}],\"contour\":[{\"type\":\"contour\",\"colorbar\":{\"outlinewidth\":0,\"ticks\":\"\"},\"colorscale\":[[0.0,\"#0d0887\"],[0.1111111111111111,\"#46039f\"],[0.2222222222222222,\"#7201a8\"],[0.3333333333333333,\"#9c179e\"],[0.4444444444444444,\"#bd3786\"],[0.5555555555555556,\"#d8576b\"],[0.6666666666666666,\"#ed7953\"],[0.7777777777777778,\"#fb9f3a\"],[0.8888888888888888,\"#fdca26\"],[1.0,\"#f0f921\"]]}],\"surface\":[{\"type\":\"surface\",\"colorbar\":{\"outlinewidth\":0,\"ticks\":\"\"},\"colorscale\":[[0.0,\"#0d0887\"],[0.1111111111111111,\"#46039f\"],[0.2222222222222222,\"#7201a8\"],[0.3333333333333333,\"#9c179e\"],[0.4444444444444444,\"#bd3786\"],[0.5555555555555556,\"#d8576b\"],[0.6666666666666666,\"#ed7953\"],[0.7777777777777778,\"#fb9f3a\"],[0.8888888888888888,\"#fdca26\"],[1.0,\"#f0f921\"]]}],\"mesh3d\":[{\"type\":\"mesh3d\",\"colorbar\":{\"outlinewidth\":0,\"ticks\":\"\"}}],\"scatter\":[{\"fillpattern\":{\"fillmode\":\"overlay\",\"size\":10,\"solidity\":0.2},\"type\":\"scatter\"}],\"parcoords\":[{\"type\":\"parcoords\",\"line\":{\"colorbar\":{\"outlinewidth\":0,\"ticks\":\"\"}}}],\"scatterpolargl\":[{\"type\":\"scatterpolargl\",\"marker\":{\"colorbar\":{\"outlinewidth\":0,\"ticks\":\"\"}}}],\"bar\":[{\"error_x\":{\"color\":\"#2a3f5f\"},\"error_y\":{\"color\":\"#2a3f5f\"},\"marker\":{\"line\":{\"color\":\"#E5ECF6\",\"width\":0.5},\"pattern\":{\"fillmode\":\"overlay\",\"size\":10,\"solidity\":0.2}},\"type\":\"bar\"}],\"scattergeo\":[{\"type\":\"scattergeo\",\"marker\":{\"colorbar\":{\"outlinewidth\":0,\"ticks\":\"\"}}}],\"scatterpolar\":[{\"type\":\"scatterpolar\",\"marker\":{\"colorbar\":{\"outlinewidth\":0,\"ticks\":\"\"}}}],\"histogram\":[{\"marker\":{\"pattern\":{\"fillmode\":\"overlay\",\"size\":10,\"solidity\":0.2}},\"type\":\"histogram\"}],\"scattergl\":[{\"type\":\"scattergl\",\"marker\":{\"colorbar\":{\"outlinewidth\":0,\"ticks\":\"\"}}}],\"scatter3d\":[{\"type\":\"scatter3d\",\"line\":{\"colorbar\":{\"outlinewidth\":0,\"ticks\":\"\"}},\"marker\":{\"colorbar\":{\"outlinewidth\":0,\"ticks\":\"\"}}}],\"scattermapbox\":[{\"type\":\"scattermapbox\",\"marker\":{\"colorbar\":{\"outlinewidth\":0,\"ticks\":\"\"}}}],\"scatterternary\":[{\"type\":\"scatterternary\",\"marker\":{\"colorbar\":{\"outlinewidth\":0,\"ticks\":\"\"}}}],\"scattercarpet\":[{\"type\":\"scattercarpet\",\"marker\":{\"colorbar\":{\"outlinewidth\":0,\"ticks\":\"\"}}}],\"carpet\":[{\"aaxis\":{\"endlinecolor\":\"#2a3f5f\",\"gridcolor\":\"white\",\"linecolor\":\"white\",\"minorgridcolor\":\"white\",\"startlinecolor\":\"#2a3f5f\"},\"baxis\":{\"endlinecolor\":\"#2a3f5f\",\"gridcolor\":\"white\",\"linecolor\":\"white\",\"minorgridcolor\":\"white\",\"startlinecolor\":\"#2a3f5f\"},\"type\":\"carpet\"}],\"table\":[{\"cells\":{\"fill\":{\"color\":\"#EBF0F8\"},\"line\":{\"color\":\"white\"}},\"header\":{\"fill\":{\"color\":\"#C8D4E3\"},\"line\":{\"color\":\"white\"}},\"type\":\"table\"}],\"barpolar\":[{\"marker\":{\"line\":{\"color\":\"#E5ECF6\",\"width\":0.5},\"pattern\":{\"fillmode\":\"overlay\",\"size\":10,\"solidity\":0.2}},\"type\":\"barpolar\"}],\"pie\":[{\"automargin\":true,\"type\":\"pie\"}]},\"layout\":{\"autotypenumbers\":\"strict\",\"colorway\":[\"#636efa\",\"#EF553B\",\"#00cc96\",\"#ab63fa\",\"#FFA15A\",\"#19d3f3\",\"#FF6692\",\"#B6E880\",\"#FF97FF\",\"#FECB52\"],\"font\":{\"color\":\"#2a3f5f\"},\"hovermode\":\"closest\",\"hoverlabel\":{\"align\":\"left\"},\"paper_bgcolor\":\"white\",\"plot_bgcolor\":\"#E5ECF6\",\"polar\":{\"bgcolor\":\"#E5ECF6\",\"angularaxis\":{\"gridcolor\":\"white\",\"linecolor\":\"white\",\"ticks\":\"\"},\"radialaxis\":{\"gridcolor\":\"white\",\"linecolor\":\"white\",\"ticks\":\"\"}},\"ternary\":{\"bgcolor\":\"#E5ECF6\",\"aaxis\":{\"gridcolor\":\"white\",\"linecolor\":\"white\",\"ticks\":\"\"},\"baxis\":{\"gridcolor\":\"white\",\"linecolor\":\"white\",\"ticks\":\"\"},\"caxis\":{\"gridcolor\":\"white\",\"linecolor\":\"white\",\"ticks\":\"\"}},\"coloraxis\":{\"colorbar\":{\"outlinewidth\":0,\"ticks\":\"\"}},\"colorscale\":{\"sequential\":[[0.0,\"#0d0887\"],[0.1111111111111111,\"#46039f\"],[0.2222222222222222,\"#7201a8\"],[0.3333333333333333,\"#9c179e\"],[0.4444444444444444,\"#bd3786\"],[0.5555555555555556,\"#d8576b\"],[0.6666666666666666,\"#ed7953\"],[0.7777777777777778,\"#fb9f3a\"],[0.8888888888888888,\"#fdca26\"],[1.0,\"#f0f921\"]],\"sequentialminus\":[[0.0,\"#0d0887\"],[0.1111111111111111,\"#46039f\"],[0.2222222222222222,\"#7201a8\"],[0.3333333333333333,\"#9c179e\"],[0.4444444444444444,\"#bd3786\"],[0.5555555555555556,\"#d8576b\"],[0.6666666666666666,\"#ed7953\"],[0.7777777777777778,\"#fb9f3a\"],[0.8888888888888888,\"#fdca26\"],[1.0,\"#f0f921\"]],\"diverging\":[[0,\"#8e0152\"],[0.1,\"#c51b7d\"],[0.2,\"#de77ae\"],[0.3,\"#f1b6da\"],[0.4,\"#fde0ef\"],[0.5,\"#f7f7f7\"],[0.6,\"#e6f5d0\"],[0.7,\"#b8e186\"],[0.8,\"#7fbc41\"],[0.9,\"#4d9221\"],[1,\"#276419\"]]},\"xaxis\":{\"gridcolor\":\"white\",\"linecolor\":\"white\",\"ticks\":\"\",\"title\":{\"standoff\":15},\"zerolinecolor\":\"white\",\"automargin\":true,\"zerolinewidth\":2},\"yaxis\":{\"gridcolor\":\"white\",\"linecolor\":\"white\",\"ticks\":\"\",\"title\":{\"standoff\":15},\"zerolinecolor\":\"white\",\"automargin\":true,\"zerolinewidth\":2},\"scene\":{\"xaxis\":{\"backgroundcolor\":\"#E5ECF6\",\"gridcolor\":\"white\",\"linecolor\":\"white\",\"showbackground\":true,\"ticks\":\"\",\"zerolinecolor\":\"white\",\"gridwidth\":2},\"yaxis\":{\"backgroundcolor\":\"#E5ECF6\",\"gridcolor\":\"white\",\"linecolor\":\"white\",\"showbackground\":true,\"ticks\":\"\",\"zerolinecolor\":\"white\",\"gridwidth\":2},\"zaxis\":{\"backgroundcolor\":\"#E5ECF6\",\"gridcolor\":\"white\",\"linecolor\":\"white\",\"showbackground\":true,\"ticks\":\"\",\"zerolinecolor\":\"white\",\"gridwidth\":2}},\"shapedefaults\":{\"line\":{\"color\":\"#2a3f5f\"}},\"annotationdefaults\":{\"arrowcolor\":\"#2a3f5f\",\"arrowhead\":0,\"arrowwidth\":1},\"geo\":{\"bgcolor\":\"white\",\"landcolor\":\"#E5ECF6\",\"subunitcolor\":\"white\",\"showland\":true,\"showlakes\":true,\"lakecolor\":\"white\"},\"title\":{\"x\":0.05},\"mapbox\":{\"style\":\"light\"}}},\"xaxis\":{\"anchor\":\"y\",\"domain\":[0.0,1.0],\"title\":{\"text\":\"\\u0413\\u043e\\u0440\\u043e\\u0434\"}},\"yaxis\":{\"anchor\":\"x\",\"domain\":[0.0,1.0],\"title\":{\"text\":\"\\u041a\\u043e\\u043b\\u0438\\u0447\\u0435\\u0441\\u0442\\u0432\\u043e \\u0432\\u0430\\u043a\\u0430\\u043d\\u0441\\u0438\\u0439\"}},\"legend\":{\"tracegroupgap\":0},\"title\":{\"text\":\"\\u0413\\u043e\\u0440\\u043e\\u0434 \\u0440\\u0430\\u0437\\u043c\\u0435\\u0449\\u0435\\u043d\\u0438\\u044f \\u0440\\u0430\\u0431\\u043e\\u0442\\u043e\\u0434\\u0430\\u0442\\u0435\\u043b\\u044f (\\u0431\\u0438\\u0437\\u043d\\u0435\\u0441-\\u0430\\u043d\\u0430\\u043b\\u0438\\u0442\\u0438\\u043a\\u0438)\"},\"barmode\":\"relative\",\"autosize\":false,\"width\":1400,\"height\":400},                        {\"responsive\": true}                    ).then(function(){\n",
              "                            \n",
              "var gd = document.getElementById('0a9e5468-d5dd-43df-9b34-1646b47803b4');\n",
              "var x = new MutationObserver(function (mutations, observer) {{\n",
              "        var display = window.getComputedStyle(gd).display;\n",
              "        if (!display || display === 'none') {{\n",
              "            console.log([gd, 'removed!']);\n",
              "            Plotly.purge(gd);\n",
              "            observer.disconnect();\n",
              "        }}\n",
              "}});\n",
              "\n",
              "// Listen for the removal of the full notebook cells\n",
              "var notebookContainer = gd.closest('#notebook-container');\n",
              "if (notebookContainer) {{\n",
              "    x.observe(notebookContainer, {childList: true});\n",
              "}}\n",
              "\n",
              "// Listen for the clearing of the current output cell\n",
              "var outputEl = gd.closest('.output');\n",
              "if (outputEl) {{\n",
              "    x.observe(outputEl, {childList: true});\n",
              "}}\n",
              "\n",
              "                        })                };                            </script>        </div>\n",
              "</body>\n",
              "</html>"
            ]
          },
          "metadata": {}
        }
      ]
    },
    {
      "cell_type": "code",
      "source": [
        "da_location = da.groupby('area', as_index=False).agg(count=('area', 'count')).sort_values('count', ascending=False).head(10)\n",
        "fig = px.bar(da_location,\n",
        "             x = 'area',\n",
        "             y = 'count',\n",
        "             title = 'Город размещения работодателя (аналитики данных)',\n",
        "             color_discrete_sequence = [\"red\"])\n",
        "fig.update_layout(autosize=False,\n",
        "                  width=1400,\n",
        "                  height=400,\n",
        "                  xaxis_title = 'Город',\n",
        "                  yaxis_title = 'Количество вакансий')"
      ],
      "metadata": {
        "colab": {
          "base_uri": "https://localhost:8080/",
          "height": 437
        },
        "id": "acqyRn5CPNUc",
        "outputId": "e5b4dccb-7d8f-4ee2-bb85-3b0427e59591"
      },
      "execution_count": null,
      "outputs": [
        {
          "output_type": "display_data",
          "data": {
            "text/html": [
              "<html>\n",
              "<head><meta charset=\"utf-8\" /></head>\n",
              "<body>\n",
              "    <div>            <script src=\"https://cdnjs.cloudflare.com/ajax/libs/mathjax/2.7.5/MathJax.js?config=TeX-AMS-MML_SVG\"></script><script type=\"text/javascript\">if (window.MathJax && window.MathJax.Hub && window.MathJax.Hub.Config) {window.MathJax.Hub.Config({SVG: {font: \"STIX-Web\"}});}</script>                <script type=\"text/javascript\">window.PlotlyConfig = {MathJaxConfig: 'local'};</script>\n",
              "        <script charset=\"utf-8\" src=\"https://cdn.plot.ly/plotly-2.24.1.min.js\"></script>                <div id=\"5509d3c4-6fda-4d7f-b5ab-eb8b4cc4cb41\" class=\"plotly-graph-div\" style=\"height:400px; width:1400px;\"></div>            <script type=\"text/javascript\">                                    window.PLOTLYENV=window.PLOTLYENV || {};                                    if (document.getElementById(\"5509d3c4-6fda-4d7f-b5ab-eb8b4cc4cb41\")) {                    Plotly.newPlot(                        \"5509d3c4-6fda-4d7f-b5ab-eb8b4cc4cb41\",                        [{\"alignmentgroup\":\"True\",\"hovertemplate\":\"area=%{x}\\u003cbr\\u003ecount=%{y}\\u003cextra\\u003e\\u003c\\u002fextra\\u003e\",\"legendgroup\":\"\",\"marker\":{\"color\":\"red\",\"pattern\":{\"shape\":\"\"}},\"name\":\"\",\"offsetgroup\":\"\",\"orientation\":\"v\",\"showlegend\":false,\"textposition\":\"auto\",\"x\":[\"\\u041c\\u043e\\u0441\\u043a\\u0432\\u0430\",\"\\u0421\\u0430\\u043d\\u043a\\u0442-\\u041f\\u0435\\u0442\\u0435\\u0440\\u0431\\u0443\\u0440\\u0433\",\"\\u041a\\u0440\\u0430\\u0441\\u043d\\u043e\\u0434\\u0430\\u0440\",\"\\u041d\\u0438\\u0436\\u043d\\u0438\\u0439 \\u041d\\u043e\\u0432\\u0433\\u043e\\u0440\\u043e\\u0434\",\"\\u0415\\u043a\\u0430\\u0442\\u0435\\u0440\\u0438\\u043d\\u0431\\u0443\\u0440\\u0433\",\"\\u0412\\u043b\\u0430\\u0434\\u0438\\u0432\\u043e\\u0441\\u0442\\u043e\\u043a\",\"\\u041a\\u0430\\u0437\\u0430\\u043d\\u044c\",\"\\u041d\\u043e\\u0432\\u043e\\u0441\\u0438\\u0431\\u0438\\u0440\\u0441\\u043a\",\"\\u0420\\u043e\\u0441\\u0442\\u043e\\u0432-\\u043d\\u0430-\\u0414\\u043e\\u043d\\u0443\",\"\\u0418\\u0432\\u0430\\u043d\\u043e\\u0432\\u043e (\\u0418\\u0432\\u0430\\u043d\\u043e\\u0432\\u0441\\u043a\\u0430\\u044f \\u043e\\u0431\\u043b\\u0430\\u0441\\u0442\\u044c)\"],\"xaxis\":\"x\",\"y\":[228,25,7,7,6,6,5,4,3,3],\"yaxis\":\"y\",\"type\":\"bar\"}],                        {\"template\":{\"data\":{\"histogram2dcontour\":[{\"type\":\"histogram2dcontour\",\"colorbar\":{\"outlinewidth\":0,\"ticks\":\"\"},\"colorscale\":[[0.0,\"#0d0887\"],[0.1111111111111111,\"#46039f\"],[0.2222222222222222,\"#7201a8\"],[0.3333333333333333,\"#9c179e\"],[0.4444444444444444,\"#bd3786\"],[0.5555555555555556,\"#d8576b\"],[0.6666666666666666,\"#ed7953\"],[0.7777777777777778,\"#fb9f3a\"],[0.8888888888888888,\"#fdca26\"],[1.0,\"#f0f921\"]]}],\"choropleth\":[{\"type\":\"choropleth\",\"colorbar\":{\"outlinewidth\":0,\"ticks\":\"\"}}],\"histogram2d\":[{\"type\":\"histogram2d\",\"colorbar\":{\"outlinewidth\":0,\"ticks\":\"\"},\"colorscale\":[[0.0,\"#0d0887\"],[0.1111111111111111,\"#46039f\"],[0.2222222222222222,\"#7201a8\"],[0.3333333333333333,\"#9c179e\"],[0.4444444444444444,\"#bd3786\"],[0.5555555555555556,\"#d8576b\"],[0.6666666666666666,\"#ed7953\"],[0.7777777777777778,\"#fb9f3a\"],[0.8888888888888888,\"#fdca26\"],[1.0,\"#f0f921\"]]}],\"heatmap\":[{\"type\":\"heatmap\",\"colorbar\":{\"outlinewidth\":0,\"ticks\":\"\"},\"colorscale\":[[0.0,\"#0d0887\"],[0.1111111111111111,\"#46039f\"],[0.2222222222222222,\"#7201a8\"],[0.3333333333333333,\"#9c179e\"],[0.4444444444444444,\"#bd3786\"],[0.5555555555555556,\"#d8576b\"],[0.6666666666666666,\"#ed7953\"],[0.7777777777777778,\"#fb9f3a\"],[0.8888888888888888,\"#fdca26\"],[1.0,\"#f0f921\"]]}],\"heatmapgl\":[{\"type\":\"heatmapgl\",\"colorbar\":{\"outlinewidth\":0,\"ticks\":\"\"},\"colorscale\":[[0.0,\"#0d0887\"],[0.1111111111111111,\"#46039f\"],[0.2222222222222222,\"#7201a8\"],[0.3333333333333333,\"#9c179e\"],[0.4444444444444444,\"#bd3786\"],[0.5555555555555556,\"#d8576b\"],[0.6666666666666666,\"#ed7953\"],[0.7777777777777778,\"#fb9f3a\"],[0.8888888888888888,\"#fdca26\"],[1.0,\"#f0f921\"]]}],\"contourcarpet\":[{\"type\":\"contourcarpet\",\"colorbar\":{\"outlinewidth\":0,\"ticks\":\"\"}}],\"contour\":[{\"type\":\"contour\",\"colorbar\":{\"outlinewidth\":0,\"ticks\":\"\"},\"colorscale\":[[0.0,\"#0d0887\"],[0.1111111111111111,\"#46039f\"],[0.2222222222222222,\"#7201a8\"],[0.3333333333333333,\"#9c179e\"],[0.4444444444444444,\"#bd3786\"],[0.5555555555555556,\"#d8576b\"],[0.6666666666666666,\"#ed7953\"],[0.7777777777777778,\"#fb9f3a\"],[0.8888888888888888,\"#fdca26\"],[1.0,\"#f0f921\"]]}],\"surface\":[{\"type\":\"surface\",\"colorbar\":{\"outlinewidth\":0,\"ticks\":\"\"},\"colorscale\":[[0.0,\"#0d0887\"],[0.1111111111111111,\"#46039f\"],[0.2222222222222222,\"#7201a8\"],[0.3333333333333333,\"#9c179e\"],[0.4444444444444444,\"#bd3786\"],[0.5555555555555556,\"#d8576b\"],[0.6666666666666666,\"#ed7953\"],[0.7777777777777778,\"#fb9f3a\"],[0.8888888888888888,\"#fdca26\"],[1.0,\"#f0f921\"]]}],\"mesh3d\":[{\"type\":\"mesh3d\",\"colorbar\":{\"outlinewidth\":0,\"ticks\":\"\"}}],\"scatter\":[{\"fillpattern\":{\"fillmode\":\"overlay\",\"size\":10,\"solidity\":0.2},\"type\":\"scatter\"}],\"parcoords\":[{\"type\":\"parcoords\",\"line\":{\"colorbar\":{\"outlinewidth\":0,\"ticks\":\"\"}}}],\"scatterpolargl\":[{\"type\":\"scatterpolargl\",\"marker\":{\"colorbar\":{\"outlinewidth\":0,\"ticks\":\"\"}}}],\"bar\":[{\"error_x\":{\"color\":\"#2a3f5f\"},\"error_y\":{\"color\":\"#2a3f5f\"},\"marker\":{\"line\":{\"color\":\"#E5ECF6\",\"width\":0.5},\"pattern\":{\"fillmode\":\"overlay\",\"size\":10,\"solidity\":0.2}},\"type\":\"bar\"}],\"scattergeo\":[{\"type\":\"scattergeo\",\"marker\":{\"colorbar\":{\"outlinewidth\":0,\"ticks\":\"\"}}}],\"scatterpolar\":[{\"type\":\"scatterpolar\",\"marker\":{\"colorbar\":{\"outlinewidth\":0,\"ticks\":\"\"}}}],\"histogram\":[{\"marker\":{\"pattern\":{\"fillmode\":\"overlay\",\"size\":10,\"solidity\":0.2}},\"type\":\"histogram\"}],\"scattergl\":[{\"type\":\"scattergl\",\"marker\":{\"colorbar\":{\"outlinewidth\":0,\"ticks\":\"\"}}}],\"scatter3d\":[{\"type\":\"scatter3d\",\"line\":{\"colorbar\":{\"outlinewidth\":0,\"ticks\":\"\"}},\"marker\":{\"colorbar\":{\"outlinewidth\":0,\"ticks\":\"\"}}}],\"scattermapbox\":[{\"type\":\"scattermapbox\",\"marker\":{\"colorbar\":{\"outlinewidth\":0,\"ticks\":\"\"}}}],\"scatterternary\":[{\"type\":\"scatterternary\",\"marker\":{\"colorbar\":{\"outlinewidth\":0,\"ticks\":\"\"}}}],\"scattercarpet\":[{\"type\":\"scattercarpet\",\"marker\":{\"colorbar\":{\"outlinewidth\":0,\"ticks\":\"\"}}}],\"carpet\":[{\"aaxis\":{\"endlinecolor\":\"#2a3f5f\",\"gridcolor\":\"white\",\"linecolor\":\"white\",\"minorgridcolor\":\"white\",\"startlinecolor\":\"#2a3f5f\"},\"baxis\":{\"endlinecolor\":\"#2a3f5f\",\"gridcolor\":\"white\",\"linecolor\":\"white\",\"minorgridcolor\":\"white\",\"startlinecolor\":\"#2a3f5f\"},\"type\":\"carpet\"}],\"table\":[{\"cells\":{\"fill\":{\"color\":\"#EBF0F8\"},\"line\":{\"color\":\"white\"}},\"header\":{\"fill\":{\"color\":\"#C8D4E3\"},\"line\":{\"color\":\"white\"}},\"type\":\"table\"}],\"barpolar\":[{\"marker\":{\"line\":{\"color\":\"#E5ECF6\",\"width\":0.5},\"pattern\":{\"fillmode\":\"overlay\",\"size\":10,\"solidity\":0.2}},\"type\":\"barpolar\"}],\"pie\":[{\"automargin\":true,\"type\":\"pie\"}]},\"layout\":{\"autotypenumbers\":\"strict\",\"colorway\":[\"#636efa\",\"#EF553B\",\"#00cc96\",\"#ab63fa\",\"#FFA15A\",\"#19d3f3\",\"#FF6692\",\"#B6E880\",\"#FF97FF\",\"#FECB52\"],\"font\":{\"color\":\"#2a3f5f\"},\"hovermode\":\"closest\",\"hoverlabel\":{\"align\":\"left\"},\"paper_bgcolor\":\"white\",\"plot_bgcolor\":\"#E5ECF6\",\"polar\":{\"bgcolor\":\"#E5ECF6\",\"angularaxis\":{\"gridcolor\":\"white\",\"linecolor\":\"white\",\"ticks\":\"\"},\"radialaxis\":{\"gridcolor\":\"white\",\"linecolor\":\"white\",\"ticks\":\"\"}},\"ternary\":{\"bgcolor\":\"#E5ECF6\",\"aaxis\":{\"gridcolor\":\"white\",\"linecolor\":\"white\",\"ticks\":\"\"},\"baxis\":{\"gridcolor\":\"white\",\"linecolor\":\"white\",\"ticks\":\"\"},\"caxis\":{\"gridcolor\":\"white\",\"linecolor\":\"white\",\"ticks\":\"\"}},\"coloraxis\":{\"colorbar\":{\"outlinewidth\":0,\"ticks\":\"\"}},\"colorscale\":{\"sequential\":[[0.0,\"#0d0887\"],[0.1111111111111111,\"#46039f\"],[0.2222222222222222,\"#7201a8\"],[0.3333333333333333,\"#9c179e\"],[0.4444444444444444,\"#bd3786\"],[0.5555555555555556,\"#d8576b\"],[0.6666666666666666,\"#ed7953\"],[0.7777777777777778,\"#fb9f3a\"],[0.8888888888888888,\"#fdca26\"],[1.0,\"#f0f921\"]],\"sequentialminus\":[[0.0,\"#0d0887\"],[0.1111111111111111,\"#46039f\"],[0.2222222222222222,\"#7201a8\"],[0.3333333333333333,\"#9c179e\"],[0.4444444444444444,\"#bd3786\"],[0.5555555555555556,\"#d8576b\"],[0.6666666666666666,\"#ed7953\"],[0.7777777777777778,\"#fb9f3a\"],[0.8888888888888888,\"#fdca26\"],[1.0,\"#f0f921\"]],\"diverging\":[[0,\"#8e0152\"],[0.1,\"#c51b7d\"],[0.2,\"#de77ae\"],[0.3,\"#f1b6da\"],[0.4,\"#fde0ef\"],[0.5,\"#f7f7f7\"],[0.6,\"#e6f5d0\"],[0.7,\"#b8e186\"],[0.8,\"#7fbc41\"],[0.9,\"#4d9221\"],[1,\"#276419\"]]},\"xaxis\":{\"gridcolor\":\"white\",\"linecolor\":\"white\",\"ticks\":\"\",\"title\":{\"standoff\":15},\"zerolinecolor\":\"white\",\"automargin\":true,\"zerolinewidth\":2},\"yaxis\":{\"gridcolor\":\"white\",\"linecolor\":\"white\",\"ticks\":\"\",\"title\":{\"standoff\":15},\"zerolinecolor\":\"white\",\"automargin\":true,\"zerolinewidth\":2},\"scene\":{\"xaxis\":{\"backgroundcolor\":\"#E5ECF6\",\"gridcolor\":\"white\",\"linecolor\":\"white\",\"showbackground\":true,\"ticks\":\"\",\"zerolinecolor\":\"white\",\"gridwidth\":2},\"yaxis\":{\"backgroundcolor\":\"#E5ECF6\",\"gridcolor\":\"white\",\"linecolor\":\"white\",\"showbackground\":true,\"ticks\":\"\",\"zerolinecolor\":\"white\",\"gridwidth\":2},\"zaxis\":{\"backgroundcolor\":\"#E5ECF6\",\"gridcolor\":\"white\",\"linecolor\":\"white\",\"showbackground\":true,\"ticks\":\"\",\"zerolinecolor\":\"white\",\"gridwidth\":2}},\"shapedefaults\":{\"line\":{\"color\":\"#2a3f5f\"}},\"annotationdefaults\":{\"arrowcolor\":\"#2a3f5f\",\"arrowhead\":0,\"arrowwidth\":1},\"geo\":{\"bgcolor\":\"white\",\"landcolor\":\"#E5ECF6\",\"subunitcolor\":\"white\",\"showland\":true,\"showlakes\":true,\"lakecolor\":\"white\"},\"title\":{\"x\":0.05},\"mapbox\":{\"style\":\"light\"}}},\"xaxis\":{\"anchor\":\"y\",\"domain\":[0.0,1.0],\"title\":{\"text\":\"\\u0413\\u043e\\u0440\\u043e\\u0434\"}},\"yaxis\":{\"anchor\":\"x\",\"domain\":[0.0,1.0],\"title\":{\"text\":\"\\u041a\\u043e\\u043b\\u0438\\u0447\\u0435\\u0441\\u0442\\u0432\\u043e \\u0432\\u0430\\u043a\\u0430\\u043d\\u0441\\u0438\\u0439\"}},\"legend\":{\"tracegroupgap\":0},\"title\":{\"text\":\"\\u0413\\u043e\\u0440\\u043e\\u0434 \\u0440\\u0430\\u0437\\u043c\\u0435\\u0449\\u0435\\u043d\\u0438\\u044f \\u0440\\u0430\\u0431\\u043e\\u0442\\u043e\\u0434\\u0430\\u0442\\u0435\\u043b\\u044f (\\u0430\\u043d\\u0430\\u043b\\u0438\\u0442\\u0438\\u043a\\u0438 \\u0434\\u0430\\u043d\\u043d\\u044b\\u0445)\"},\"barmode\":\"relative\",\"autosize\":false,\"width\":1400,\"height\":400},                        {\"responsive\": true}                    ).then(function(){\n",
              "                            \n",
              "var gd = document.getElementById('5509d3c4-6fda-4d7f-b5ab-eb8b4cc4cb41');\n",
              "var x = new MutationObserver(function (mutations, observer) {{\n",
              "        var display = window.getComputedStyle(gd).display;\n",
              "        if (!display || display === 'none') {{\n",
              "            console.log([gd, 'removed!']);\n",
              "            Plotly.purge(gd);\n",
              "            observer.disconnect();\n",
              "        }}\n",
              "}});\n",
              "\n",
              "// Listen for the removal of the full notebook cells\n",
              "var notebookContainer = gd.closest('#notebook-container');\n",
              "if (notebookContainer) {{\n",
              "    x.observe(notebookContainer, {childList: true});\n",
              "}}\n",
              "\n",
              "// Listen for the clearing of the current output cell\n",
              "var outputEl = gd.closest('.output');\n",
              "if (outputEl) {{\n",
              "    x.observe(outputEl, {childList: true});\n",
              "}}\n",
              "\n",
              "                        })                };                            </script>        </div>\n",
              "</body>\n",
              "</html>"
            ]
          },
          "metadata": {}
        }
      ]
    },
    {
      "cell_type": "markdown",
      "source": [
        "Неудивительно, что львиная доля вакансий предлагается в Москве, на втором месте - Санкт-Петербург. На местах с 3-го по 10-е - похожий перечень городов-миллионников."
      ],
      "metadata": {
        "id": "DDlSfxH6v64H"
      }
    },
    {
      "cell_type": "markdown",
      "source": [
        "Составим перечени топ-работодетелей по обеим специальностям с делением на грейды."
      ],
      "metadata": {
        "id": "clLvpG-YwXF_"
      }
    },
    {
      "cell_type": "code",
      "source": [
        "ba_employer = ba.groupby(['employer', 'experience'], as_index=False).agg(count=('employer', 'count')).sort_values('count', ascending=False).head(20)\n",
        "fig = px.bar(ba_employer,\n",
        "             x = 'employer',\n",
        "             y = 'count',\n",
        "             color = 'experience',\n",
        "             barmode = 'group',\n",
        "             title = 'Топ-работодатели (бизнес-аналитики)',\n",
        "             color_discrete_sequence = [\"green\", \"yellowgreen\", \"lightyellow\"])\n",
        "fig.update_layout(xaxis_title = 'Работодатель',\n",
        "                  yaxis_title = 'Количество вакансий')"
      ],
      "metadata": {
        "colab": {
          "base_uri": "https://localhost:8080/",
          "height": 542
        },
        "id": "HaxS9DFORTb2",
        "outputId": "498fd0b2-9291-4f66-89be-79e7985e24d0"
      },
      "execution_count": null,
      "outputs": [
        {
          "output_type": "display_data",
          "data": {
            "text/html": [
              "<html>\n",
              "<head><meta charset=\"utf-8\" /></head>\n",
              "<body>\n",
              "    <div>            <script src=\"https://cdnjs.cloudflare.com/ajax/libs/mathjax/2.7.5/MathJax.js?config=TeX-AMS-MML_SVG\"></script><script type=\"text/javascript\">if (window.MathJax && window.MathJax.Hub && window.MathJax.Hub.Config) {window.MathJax.Hub.Config({SVG: {font: \"STIX-Web\"}});}</script>                <script type=\"text/javascript\">window.PlotlyConfig = {MathJaxConfig: 'local'};</script>\n",
              "        <script charset=\"utf-8\" src=\"https://cdn.plot.ly/plotly-2.24.1.min.js\"></script>                <div id=\"5eb64375-5e27-4b61-8e2e-704a7d3198e2\" class=\"plotly-graph-div\" style=\"height:525px; width:100%;\"></div>            <script type=\"text/javascript\">                                    window.PLOTLYENV=window.PLOTLYENV || {};                                    if (document.getElementById(\"5eb64375-5e27-4b61-8e2e-704a7d3198e2\")) {                    Plotly.newPlot(                        \"5eb64375-5e27-4b61-8e2e-704a7d3198e2\",                        [{\"alignmentgroup\":\"True\",\"hovertemplate\":\"experience=Middle (3-6 years)\\u003cbr\\u003eemployer=%{x}\\u003cbr\\u003ecount=%{y}\\u003cextra\\u003e\\u003c\\u002fextra\\u003e\",\"legendgroup\":\"Middle (3-6 years)\",\"marker\":{\"color\":\"green\",\"pattern\":{\"shape\":\"\"}},\"name\":\"Middle (3-6 years)\",\"offsetgroup\":\"Middle (3-6 years)\",\"orientation\":\"v\",\"showlegend\":true,\"textposition\":\"auto\",\"x\":[\"\\u0421\\u0411\\u0415\\u0420\",\"\\u04221\",\"\\u041c\\u0410\\u0413\\u041d\\u0418\\u0422, \\u0420\\u043e\\u0437\\u043d\\u0438\\u0447\\u043d\\u0430\\u044f \\u0441\\u0435\\u0442\\u044c\",\"\\u0411\\u0430\\u043d\\u043a \\u0412\\u0422\\u0411 (\\u041f\\u0410\\u041e)\",\"\\u041c\\u0435\\u0433\\u0430\\u0424\\u043e\\u043d\",\"\\u0421\\u0435\\u0432\\u0435\\u0440\\u0441\\u0442\\u0430\\u043b\\u044c\",\"\\u0422\\u0435\\u0445\\u043d\\u043e\\u043b\\u043e\\u0433\\u0438\\u0438 \\u0414\\u043e\\u0432\\u0435\\u0440\\u0438\\u044f\",\"\\u0421\\u043e\\u0432\\u043a\\u043e\\u043c\\u0431\\u0430\\u043d\\u043a\",\"\\u0423\\u043f\\u0440\\u0430\\u0432\\u043b\\u044f\\u044e\\u0449\\u0430\\u044f \\u043a\\u043e\\u043c\\u043f\\u0430\\u043d\\u0438\\u044f \\u042d\\u043a\\u0441\\u041e\\u0439\\u043b \\u0433\\u0440\\u0443\\u043f\\u043f\",\"Aston\",\"Grand trade\"],\"xaxis\":\"x\",\"y\":[16,12,7,6,5,5,5,5,5,4,4],\"yaxis\":\"y\",\"type\":\"bar\"},{\"alignmentgroup\":\"True\",\"hovertemplate\":\"experience=Junior+ (1-3 years)\\u003cbr\\u003eemployer=%{x}\\u003cbr\\u003ecount=%{y}\\u003cextra\\u003e\\u003c\\u002fextra\\u003e\",\"legendgroup\":\"Junior+ (1-3 years)\",\"marker\":{\"color\":\"yellowgreen\",\"pattern\":{\"shape\":\"\"}},\"name\":\"Junior+ (1-3 years)\",\"offsetgroup\":\"Junior+ (1-3 years)\",\"orientation\":\"v\",\"showlegend\":true,\"textposition\":\"auto\",\"x\":[\"\\u041c\\u0410\\u0413\\u041d\\u0418\\u0422, \\u0420\\u043e\\u0437\\u043d\\u0438\\u0447\\u043d\\u0430\\u044f \\u0441\\u0435\\u0442\\u044c\",\"\\u0411\\u0430\\u043d\\u043a \\u0412\\u0422\\u0411 (\\u041f\\u0410\\u041e)\",\"\\u041a\\u043e\\u043c\\u0443\\u0441\",\"\\u0421\\u0411\\u0415\\u0420\",\"\\u0410\\u041d\\u041e \\u0426\\u0435\\u043d\\u0442\\u0440 \\u0420\\u0430\\u0437\\u0432\\u0438\\u0442\\u0438\\u044f \\u041a\\u0443\\u043b\\u044c\\u0442\\u0443\\u0440\\u043d\\u044b\\u0445 \\u0418\\u043d\\u0438\\u0446\\u0438\\u0430\\u0442\\u0438\\u0432\",\"\\u041f\\u0440\\u0430\\u0432\\u0438\\u0442\\u0435\\u043b\\u044c\\u0441\\u0442\\u0432\\u043e \\u041c\\u043e\\u0441\\u043a\\u0432\\u044b\",\"CEMENTUM | \\u0426\\u0415\\u041c\\u0415\\u041d\\u0422\\u0423\\u041c\"],\"xaxis\":\"x\",\"y\":[15,10,9,8,7,6,4],\"yaxis\":\"y\",\"type\":\"bar\"},{\"alignmentgroup\":\"True\",\"hovertemplate\":\"experience=Junior (no experince)\\u003cbr\\u003eemployer=%{x}\\u003cbr\\u003ecount=%{y}\\u003cextra\\u003e\\u003c\\u002fextra\\u003e\",\"legendgroup\":\"Junior (no experince)\",\"marker\":{\"color\":\"lightyellow\",\"pattern\":{\"shape\":\"\"}},\"name\":\"Junior (no experince)\",\"offsetgroup\":\"Junior (no experince)\",\"orientation\":\"v\",\"showlegend\":true,\"textposition\":\"auto\",\"x\":[\"Aston\",\"\\u0422\\u0418\\u0422\\u0410\\u041d-2, \\u0445\\u043e\\u043b\\u0434\\u0438\\u043d\\u0433\"],\"xaxis\":\"x\",\"y\":[6,5],\"yaxis\":\"y\",\"type\":\"bar\"}],                        {\"template\":{\"data\":{\"histogram2dcontour\":[{\"type\":\"histogram2dcontour\",\"colorbar\":{\"outlinewidth\":0,\"ticks\":\"\"},\"colorscale\":[[0.0,\"#0d0887\"],[0.1111111111111111,\"#46039f\"],[0.2222222222222222,\"#7201a8\"],[0.3333333333333333,\"#9c179e\"],[0.4444444444444444,\"#bd3786\"],[0.5555555555555556,\"#d8576b\"],[0.6666666666666666,\"#ed7953\"],[0.7777777777777778,\"#fb9f3a\"],[0.8888888888888888,\"#fdca26\"],[1.0,\"#f0f921\"]]}],\"choropleth\":[{\"type\":\"choropleth\",\"colorbar\":{\"outlinewidth\":0,\"ticks\":\"\"}}],\"histogram2d\":[{\"type\":\"histogram2d\",\"colorbar\":{\"outlinewidth\":0,\"ticks\":\"\"},\"colorscale\":[[0.0,\"#0d0887\"],[0.1111111111111111,\"#46039f\"],[0.2222222222222222,\"#7201a8\"],[0.3333333333333333,\"#9c179e\"],[0.4444444444444444,\"#bd3786\"],[0.5555555555555556,\"#d8576b\"],[0.6666666666666666,\"#ed7953\"],[0.7777777777777778,\"#fb9f3a\"],[0.8888888888888888,\"#fdca26\"],[1.0,\"#f0f921\"]]}],\"heatmap\":[{\"type\":\"heatmap\",\"colorbar\":{\"outlinewidth\":0,\"ticks\":\"\"},\"colorscale\":[[0.0,\"#0d0887\"],[0.1111111111111111,\"#46039f\"],[0.2222222222222222,\"#7201a8\"],[0.3333333333333333,\"#9c179e\"],[0.4444444444444444,\"#bd3786\"],[0.5555555555555556,\"#d8576b\"],[0.6666666666666666,\"#ed7953\"],[0.7777777777777778,\"#fb9f3a\"],[0.8888888888888888,\"#fdca26\"],[1.0,\"#f0f921\"]]}],\"heatmapgl\":[{\"type\":\"heatmapgl\",\"colorbar\":{\"outlinewidth\":0,\"ticks\":\"\"},\"colorscale\":[[0.0,\"#0d0887\"],[0.1111111111111111,\"#46039f\"],[0.2222222222222222,\"#7201a8\"],[0.3333333333333333,\"#9c179e\"],[0.4444444444444444,\"#bd3786\"],[0.5555555555555556,\"#d8576b\"],[0.6666666666666666,\"#ed7953\"],[0.7777777777777778,\"#fb9f3a\"],[0.8888888888888888,\"#fdca26\"],[1.0,\"#f0f921\"]]}],\"contourcarpet\":[{\"type\":\"contourcarpet\",\"colorbar\":{\"outlinewidth\":0,\"ticks\":\"\"}}],\"contour\":[{\"type\":\"contour\",\"colorbar\":{\"outlinewidth\":0,\"ticks\":\"\"},\"colorscale\":[[0.0,\"#0d0887\"],[0.1111111111111111,\"#46039f\"],[0.2222222222222222,\"#7201a8\"],[0.3333333333333333,\"#9c179e\"],[0.4444444444444444,\"#bd3786\"],[0.5555555555555556,\"#d8576b\"],[0.6666666666666666,\"#ed7953\"],[0.7777777777777778,\"#fb9f3a\"],[0.8888888888888888,\"#fdca26\"],[1.0,\"#f0f921\"]]}],\"surface\":[{\"type\":\"surface\",\"colorbar\":{\"outlinewidth\":0,\"ticks\":\"\"},\"colorscale\":[[0.0,\"#0d0887\"],[0.1111111111111111,\"#46039f\"],[0.2222222222222222,\"#7201a8\"],[0.3333333333333333,\"#9c179e\"],[0.4444444444444444,\"#bd3786\"],[0.5555555555555556,\"#d8576b\"],[0.6666666666666666,\"#ed7953\"],[0.7777777777777778,\"#fb9f3a\"],[0.8888888888888888,\"#fdca26\"],[1.0,\"#f0f921\"]]}],\"mesh3d\":[{\"type\":\"mesh3d\",\"colorbar\":{\"outlinewidth\":0,\"ticks\":\"\"}}],\"scatter\":[{\"fillpattern\":{\"fillmode\":\"overlay\",\"size\":10,\"solidity\":0.2},\"type\":\"scatter\"}],\"parcoords\":[{\"type\":\"parcoords\",\"line\":{\"colorbar\":{\"outlinewidth\":0,\"ticks\":\"\"}}}],\"scatterpolargl\":[{\"type\":\"scatterpolargl\",\"marker\":{\"colorbar\":{\"outlinewidth\":0,\"ticks\":\"\"}}}],\"bar\":[{\"error_x\":{\"color\":\"#2a3f5f\"},\"error_y\":{\"color\":\"#2a3f5f\"},\"marker\":{\"line\":{\"color\":\"#E5ECF6\",\"width\":0.5},\"pattern\":{\"fillmode\":\"overlay\",\"size\":10,\"solidity\":0.2}},\"type\":\"bar\"}],\"scattergeo\":[{\"type\":\"scattergeo\",\"marker\":{\"colorbar\":{\"outlinewidth\":0,\"ticks\":\"\"}}}],\"scatterpolar\":[{\"type\":\"scatterpolar\",\"marker\":{\"colorbar\":{\"outlinewidth\":0,\"ticks\":\"\"}}}],\"histogram\":[{\"marker\":{\"pattern\":{\"fillmode\":\"overlay\",\"size\":10,\"solidity\":0.2}},\"type\":\"histogram\"}],\"scattergl\":[{\"type\":\"scattergl\",\"marker\":{\"colorbar\":{\"outlinewidth\":0,\"ticks\":\"\"}}}],\"scatter3d\":[{\"type\":\"scatter3d\",\"line\":{\"colorbar\":{\"outlinewidth\":0,\"ticks\":\"\"}},\"marker\":{\"colorbar\":{\"outlinewidth\":0,\"ticks\":\"\"}}}],\"scattermapbox\":[{\"type\":\"scattermapbox\",\"marker\":{\"colorbar\":{\"outlinewidth\":0,\"ticks\":\"\"}}}],\"scatterternary\":[{\"type\":\"scatterternary\",\"marker\":{\"colorbar\":{\"outlinewidth\":0,\"ticks\":\"\"}}}],\"scattercarpet\":[{\"type\":\"scattercarpet\",\"marker\":{\"colorbar\":{\"outlinewidth\":0,\"ticks\":\"\"}}}],\"carpet\":[{\"aaxis\":{\"endlinecolor\":\"#2a3f5f\",\"gridcolor\":\"white\",\"linecolor\":\"white\",\"minorgridcolor\":\"white\",\"startlinecolor\":\"#2a3f5f\"},\"baxis\":{\"endlinecolor\":\"#2a3f5f\",\"gridcolor\":\"white\",\"linecolor\":\"white\",\"minorgridcolor\":\"white\",\"startlinecolor\":\"#2a3f5f\"},\"type\":\"carpet\"}],\"table\":[{\"cells\":{\"fill\":{\"color\":\"#EBF0F8\"},\"line\":{\"color\":\"white\"}},\"header\":{\"fill\":{\"color\":\"#C8D4E3\"},\"line\":{\"color\":\"white\"}},\"type\":\"table\"}],\"barpolar\":[{\"marker\":{\"line\":{\"color\":\"#E5ECF6\",\"width\":0.5},\"pattern\":{\"fillmode\":\"overlay\",\"size\":10,\"solidity\":0.2}},\"type\":\"barpolar\"}],\"pie\":[{\"automargin\":true,\"type\":\"pie\"}]},\"layout\":{\"autotypenumbers\":\"strict\",\"colorway\":[\"#636efa\",\"#EF553B\",\"#00cc96\",\"#ab63fa\",\"#FFA15A\",\"#19d3f3\",\"#FF6692\",\"#B6E880\",\"#FF97FF\",\"#FECB52\"],\"font\":{\"color\":\"#2a3f5f\"},\"hovermode\":\"closest\",\"hoverlabel\":{\"align\":\"left\"},\"paper_bgcolor\":\"white\",\"plot_bgcolor\":\"#E5ECF6\",\"polar\":{\"bgcolor\":\"#E5ECF6\",\"angularaxis\":{\"gridcolor\":\"white\",\"linecolor\":\"white\",\"ticks\":\"\"},\"radialaxis\":{\"gridcolor\":\"white\",\"linecolor\":\"white\",\"ticks\":\"\"}},\"ternary\":{\"bgcolor\":\"#E5ECF6\",\"aaxis\":{\"gridcolor\":\"white\",\"linecolor\":\"white\",\"ticks\":\"\"},\"baxis\":{\"gridcolor\":\"white\",\"linecolor\":\"white\",\"ticks\":\"\"},\"caxis\":{\"gridcolor\":\"white\",\"linecolor\":\"white\",\"ticks\":\"\"}},\"coloraxis\":{\"colorbar\":{\"outlinewidth\":0,\"ticks\":\"\"}},\"colorscale\":{\"sequential\":[[0.0,\"#0d0887\"],[0.1111111111111111,\"#46039f\"],[0.2222222222222222,\"#7201a8\"],[0.3333333333333333,\"#9c179e\"],[0.4444444444444444,\"#bd3786\"],[0.5555555555555556,\"#d8576b\"],[0.6666666666666666,\"#ed7953\"],[0.7777777777777778,\"#fb9f3a\"],[0.8888888888888888,\"#fdca26\"],[1.0,\"#f0f921\"]],\"sequentialminus\":[[0.0,\"#0d0887\"],[0.1111111111111111,\"#46039f\"],[0.2222222222222222,\"#7201a8\"],[0.3333333333333333,\"#9c179e\"],[0.4444444444444444,\"#bd3786\"],[0.5555555555555556,\"#d8576b\"],[0.6666666666666666,\"#ed7953\"],[0.7777777777777778,\"#fb9f3a\"],[0.8888888888888888,\"#fdca26\"],[1.0,\"#f0f921\"]],\"diverging\":[[0,\"#8e0152\"],[0.1,\"#c51b7d\"],[0.2,\"#de77ae\"],[0.3,\"#f1b6da\"],[0.4,\"#fde0ef\"],[0.5,\"#f7f7f7\"],[0.6,\"#e6f5d0\"],[0.7,\"#b8e186\"],[0.8,\"#7fbc41\"],[0.9,\"#4d9221\"],[1,\"#276419\"]]},\"xaxis\":{\"gridcolor\":\"white\",\"linecolor\":\"white\",\"ticks\":\"\",\"title\":{\"standoff\":15},\"zerolinecolor\":\"white\",\"automargin\":true,\"zerolinewidth\":2},\"yaxis\":{\"gridcolor\":\"white\",\"linecolor\":\"white\",\"ticks\":\"\",\"title\":{\"standoff\":15},\"zerolinecolor\":\"white\",\"automargin\":true,\"zerolinewidth\":2},\"scene\":{\"xaxis\":{\"backgroundcolor\":\"#E5ECF6\",\"gridcolor\":\"white\",\"linecolor\":\"white\",\"showbackground\":true,\"ticks\":\"\",\"zerolinecolor\":\"white\",\"gridwidth\":2},\"yaxis\":{\"backgroundcolor\":\"#E5ECF6\",\"gridcolor\":\"white\",\"linecolor\":\"white\",\"showbackground\":true,\"ticks\":\"\",\"zerolinecolor\":\"white\",\"gridwidth\":2},\"zaxis\":{\"backgroundcolor\":\"#E5ECF6\",\"gridcolor\":\"white\",\"linecolor\":\"white\",\"showbackground\":true,\"ticks\":\"\",\"zerolinecolor\":\"white\",\"gridwidth\":2}},\"shapedefaults\":{\"line\":{\"color\":\"#2a3f5f\"}},\"annotationdefaults\":{\"arrowcolor\":\"#2a3f5f\",\"arrowhead\":0,\"arrowwidth\":1},\"geo\":{\"bgcolor\":\"white\",\"landcolor\":\"#E5ECF6\",\"subunitcolor\":\"white\",\"showland\":true,\"showlakes\":true,\"lakecolor\":\"white\"},\"title\":{\"x\":0.05},\"mapbox\":{\"style\":\"light\"}}},\"xaxis\":{\"anchor\":\"y\",\"domain\":[0.0,1.0],\"title\":{\"text\":\"\\u0420\\u0430\\u0431\\u043e\\u0442\\u043e\\u0434\\u0430\\u0442\\u0435\\u043b\\u044c\"}},\"yaxis\":{\"anchor\":\"x\",\"domain\":[0.0,1.0],\"title\":{\"text\":\"\\u041a\\u043e\\u043b\\u0438\\u0447\\u0435\\u0441\\u0442\\u0432\\u043e \\u0432\\u0430\\u043a\\u0430\\u043d\\u0441\\u0438\\u0439\"}},\"legend\":{\"title\":{\"text\":\"experience\"},\"tracegroupgap\":0},\"title\":{\"text\":\"\\u0422\\u043e\\u043f-\\u0440\\u0430\\u0431\\u043e\\u0442\\u043e\\u0434\\u0430\\u0442\\u0435\\u043b\\u0438 (\\u0431\\u0438\\u0437\\u043d\\u0435\\u0441-\\u0430\\u043d\\u0430\\u043b\\u0438\\u0442\\u0438\\u043a\\u0438)\"},\"barmode\":\"group\"},                        {\"responsive\": true}                    ).then(function(){\n",
              "                            \n",
              "var gd = document.getElementById('5eb64375-5e27-4b61-8e2e-704a7d3198e2');\n",
              "var x = new MutationObserver(function (mutations, observer) {{\n",
              "        var display = window.getComputedStyle(gd).display;\n",
              "        if (!display || display === 'none') {{\n",
              "            console.log([gd, 'removed!']);\n",
              "            Plotly.purge(gd);\n",
              "            observer.disconnect();\n",
              "        }}\n",
              "}});\n",
              "\n",
              "// Listen for the removal of the full notebook cells\n",
              "var notebookContainer = gd.closest('#notebook-container');\n",
              "if (notebookContainer) {{\n",
              "    x.observe(notebookContainer, {childList: true});\n",
              "}}\n",
              "\n",
              "// Listen for the clearing of the current output cell\n",
              "var outputEl = gd.closest('.output');\n",
              "if (outputEl) {{\n",
              "    x.observe(outputEl, {childList: true});\n",
              "}}\n",
              "\n",
              "                        })                };                            </script>        </div>\n",
              "</body>\n",
              "</html>"
            ]
          },
          "metadata": {}
        }
      ]
    },
    {
      "cell_type": "code",
      "source": [
        "da_employer = da.groupby(['employer', 'experience'], as_index=False).agg(count=('employer', 'count')).sort_values('count', ascending=False).head(20)\n",
        "fig = px.bar(da_employer,\n",
        "             x = 'employer',\n",
        "             y = 'count',\n",
        "             color = 'experience',\n",
        "             barmode = 'group',\n",
        "             title = 'Топ-работодатели (аналитики данных)',\n",
        "             color_discrete_sequence = [\"red\", \"darkred\",\"coral\"])\n",
        "fig.update_layout(xaxis_title = 'Работодатель',\n",
        "                  yaxis_title = 'Количество вакансий')"
      ],
      "metadata": {
        "colab": {
          "base_uri": "https://localhost:8080/",
          "height": 542
        },
        "id": "-EaCe9qRBxfs",
        "outputId": "b04b01fc-dbe6-4145-9910-7ea5e6a2e4e9"
      },
      "execution_count": null,
      "outputs": [
        {
          "output_type": "display_data",
          "data": {
            "text/html": [
              "<html>\n",
              "<head><meta charset=\"utf-8\" /></head>\n",
              "<body>\n",
              "    <div>            <script src=\"https://cdnjs.cloudflare.com/ajax/libs/mathjax/2.7.5/MathJax.js?config=TeX-AMS-MML_SVG\"></script><script type=\"text/javascript\">if (window.MathJax && window.MathJax.Hub && window.MathJax.Hub.Config) {window.MathJax.Hub.Config({SVG: {font: \"STIX-Web\"}});}</script>                <script type=\"text/javascript\">window.PlotlyConfig = {MathJaxConfig: 'local'};</script>\n",
              "        <script charset=\"utf-8\" src=\"https://cdn.plot.ly/plotly-2.24.1.min.js\"></script>                <div id=\"7a4e688a-0d3f-4434-922b-2b3d7f330bcc\" class=\"plotly-graph-div\" style=\"height:525px; width:100%;\"></div>            <script type=\"text/javascript\">                                    window.PLOTLYENV=window.PLOTLYENV || {};                                    if (document.getElementById(\"7a4e688a-0d3f-4434-922b-2b3d7f330bcc\")) {                    Plotly.newPlot(                        \"7a4e688a-0d3f-4434-922b-2b3d7f330bcc\",                        [{\"alignmentgroup\":\"True\",\"hovertemplate\":\"experience=Junior+ (1-3 years)\\u003cbr\\u003eemployer=%{x}\\u003cbr\\u003ecount=%{y}\\u003cextra\\u003e\\u003c\\u002fextra\\u003e\",\"legendgroup\":\"Junior+ (1-3 years)\",\"marker\":{\"color\":\"red\",\"pattern\":{\"shape\":\"\"}},\"name\":\"Junior+ (1-3 years)\",\"offsetgroup\":\"Junior+ (1-3 years)\",\"orientation\":\"v\",\"showlegend\":true,\"textposition\":\"auto\",\"x\":[\"\\u0421\\u0411\\u0415\\u0420\",\"Ozon\",\"\\u041c\\u0422\\u0421\",\"\\u041f\\u0421\\u0411 (\\u041f\\u0410\\u041e \\u00ab\\u041f\\u0440\\u043e\\u043c\\u0441\\u0432\\u044f\\u0437\\u044c\\u0431\\u0430\\u043d\\u043a\\u00bb)\",\"\\u0411\\u0430\\u043d\\u043a \\u0412\\u0422\\u0411 (\\u041f\\u0410\\u041e)\",\"\\u0420\\u043e\\u0441\\u0442\\u0435\\u043b\\u0435\\u043a\\u043e\\u043c\",\"\\u0424\\u0435\\u0434\\u0435\\u0440\\u0430\\u043b\\u044c\\u043d\\u0430\\u044f \\u043d\\u0430\\u043b\\u043e\\u0433\\u043e\\u0432\\u0430\\u044f \\u0441\\u043b\\u0443\\u0436\\u0431\\u0430 (\\u0424\\u041d\\u0421 \\u0420\\u043e\\u0441\\u0441\\u0438\\u0438)\",\"Tele2\",\"WILDBERRIES\"],\"xaxis\":\"x\",\"y\":[39,5,4,3,3,3,2,2,2],\"yaxis\":\"y\",\"type\":\"bar\"},{\"alignmentgroup\":\"True\",\"hovertemplate\":\"experience=Middle (3-6 years)\\u003cbr\\u003eemployer=%{x}\\u003cbr\\u003ecount=%{y}\\u003cextra\\u003e\\u003c\\u002fextra\\u003e\",\"legendgroup\":\"Middle (3-6 years)\",\"marker\":{\"color\":\"darkred\",\"pattern\":{\"shape\":\"\"}},\"name\":\"Middle (3-6 years)\",\"offsetgroup\":\"Middle (3-6 years)\",\"orientation\":\"v\",\"showlegend\":true,\"textposition\":\"auto\",\"x\":[\"\\u0421\\u0411\\u0415\\u0420\",\"\\u04221\",\"WILDBERRIES\",\"INGURU.RU\",\"Maxim technology\",\"\\u041c\\u0422\\u0421\",\"\\u042f\\u043d\\u0434\\u0435\\u043a\\u0441\",\"\\u0421\\u0435\\u0432\\u0435\\u0440\\u0441\\u0442\\u0430\\u043b\\u044c\",\"Ozon\"],\"xaxis\":\"x\",\"y\":[14,6,6,5,4,3,3,2,2],\"yaxis\":\"y\",\"type\":\"bar\"},{\"alignmentgroup\":\"True\",\"hovertemplate\":\"experience=Junior (no experince)\\u003cbr\\u003eemployer=%{x}\\u003cbr\\u003ecount=%{y}\\u003cextra\\u003e\\u003c\\u002fextra\\u003e\",\"legendgroup\":\"Junior (no experince)\",\"marker\":{\"color\":\"coral\",\"pattern\":{\"shape\":\"\"}},\"name\":\"Junior (no experince)\",\"offsetgroup\":\"Junior (no experince)\",\"orientation\":\"v\",\"showlegend\":true,\"textposition\":\"auto\",\"x\":[\"Axenix (\\u0440\\u0430\\u043d\\u0435\\u0435 Accenture)\",\"\\u0421\\u0411\\u0415\\u0420\"],\"xaxis\":\"x\",\"y\":[6,5],\"yaxis\":\"y\",\"type\":\"bar\"}],                        {\"template\":{\"data\":{\"histogram2dcontour\":[{\"type\":\"histogram2dcontour\",\"colorbar\":{\"outlinewidth\":0,\"ticks\":\"\"},\"colorscale\":[[0.0,\"#0d0887\"],[0.1111111111111111,\"#46039f\"],[0.2222222222222222,\"#7201a8\"],[0.3333333333333333,\"#9c179e\"],[0.4444444444444444,\"#bd3786\"],[0.5555555555555556,\"#d8576b\"],[0.6666666666666666,\"#ed7953\"],[0.7777777777777778,\"#fb9f3a\"],[0.8888888888888888,\"#fdca26\"],[1.0,\"#f0f921\"]]}],\"choropleth\":[{\"type\":\"choropleth\",\"colorbar\":{\"outlinewidth\":0,\"ticks\":\"\"}}],\"histogram2d\":[{\"type\":\"histogram2d\",\"colorbar\":{\"outlinewidth\":0,\"ticks\":\"\"},\"colorscale\":[[0.0,\"#0d0887\"],[0.1111111111111111,\"#46039f\"],[0.2222222222222222,\"#7201a8\"],[0.3333333333333333,\"#9c179e\"],[0.4444444444444444,\"#bd3786\"],[0.5555555555555556,\"#d8576b\"],[0.6666666666666666,\"#ed7953\"],[0.7777777777777778,\"#fb9f3a\"],[0.8888888888888888,\"#fdca26\"],[1.0,\"#f0f921\"]]}],\"heatmap\":[{\"type\":\"heatmap\",\"colorbar\":{\"outlinewidth\":0,\"ticks\":\"\"},\"colorscale\":[[0.0,\"#0d0887\"],[0.1111111111111111,\"#46039f\"],[0.2222222222222222,\"#7201a8\"],[0.3333333333333333,\"#9c179e\"],[0.4444444444444444,\"#bd3786\"],[0.5555555555555556,\"#d8576b\"],[0.6666666666666666,\"#ed7953\"],[0.7777777777777778,\"#fb9f3a\"],[0.8888888888888888,\"#fdca26\"],[1.0,\"#f0f921\"]]}],\"heatmapgl\":[{\"type\":\"heatmapgl\",\"colorbar\":{\"outlinewidth\":0,\"ticks\":\"\"},\"colorscale\":[[0.0,\"#0d0887\"],[0.1111111111111111,\"#46039f\"],[0.2222222222222222,\"#7201a8\"],[0.3333333333333333,\"#9c179e\"],[0.4444444444444444,\"#bd3786\"],[0.5555555555555556,\"#d8576b\"],[0.6666666666666666,\"#ed7953\"],[0.7777777777777778,\"#fb9f3a\"],[0.8888888888888888,\"#fdca26\"],[1.0,\"#f0f921\"]]}],\"contourcarpet\":[{\"type\":\"contourcarpet\",\"colorbar\":{\"outlinewidth\":0,\"ticks\":\"\"}}],\"contour\":[{\"type\":\"contour\",\"colorbar\":{\"outlinewidth\":0,\"ticks\":\"\"},\"colorscale\":[[0.0,\"#0d0887\"],[0.1111111111111111,\"#46039f\"],[0.2222222222222222,\"#7201a8\"],[0.3333333333333333,\"#9c179e\"],[0.4444444444444444,\"#bd3786\"],[0.5555555555555556,\"#d8576b\"],[0.6666666666666666,\"#ed7953\"],[0.7777777777777778,\"#fb9f3a\"],[0.8888888888888888,\"#fdca26\"],[1.0,\"#f0f921\"]]}],\"surface\":[{\"type\":\"surface\",\"colorbar\":{\"outlinewidth\":0,\"ticks\":\"\"},\"colorscale\":[[0.0,\"#0d0887\"],[0.1111111111111111,\"#46039f\"],[0.2222222222222222,\"#7201a8\"],[0.3333333333333333,\"#9c179e\"],[0.4444444444444444,\"#bd3786\"],[0.5555555555555556,\"#d8576b\"],[0.6666666666666666,\"#ed7953\"],[0.7777777777777778,\"#fb9f3a\"],[0.8888888888888888,\"#fdca26\"],[1.0,\"#f0f921\"]]}],\"mesh3d\":[{\"type\":\"mesh3d\",\"colorbar\":{\"outlinewidth\":0,\"ticks\":\"\"}}],\"scatter\":[{\"fillpattern\":{\"fillmode\":\"overlay\",\"size\":10,\"solidity\":0.2},\"type\":\"scatter\"}],\"parcoords\":[{\"type\":\"parcoords\",\"line\":{\"colorbar\":{\"outlinewidth\":0,\"ticks\":\"\"}}}],\"scatterpolargl\":[{\"type\":\"scatterpolargl\",\"marker\":{\"colorbar\":{\"outlinewidth\":0,\"ticks\":\"\"}}}],\"bar\":[{\"error_x\":{\"color\":\"#2a3f5f\"},\"error_y\":{\"color\":\"#2a3f5f\"},\"marker\":{\"line\":{\"color\":\"#E5ECF6\",\"width\":0.5},\"pattern\":{\"fillmode\":\"overlay\",\"size\":10,\"solidity\":0.2}},\"type\":\"bar\"}],\"scattergeo\":[{\"type\":\"scattergeo\",\"marker\":{\"colorbar\":{\"outlinewidth\":0,\"ticks\":\"\"}}}],\"scatterpolar\":[{\"type\":\"scatterpolar\",\"marker\":{\"colorbar\":{\"outlinewidth\":0,\"ticks\":\"\"}}}],\"histogram\":[{\"marker\":{\"pattern\":{\"fillmode\":\"overlay\",\"size\":10,\"solidity\":0.2}},\"type\":\"histogram\"}],\"scattergl\":[{\"type\":\"scattergl\",\"marker\":{\"colorbar\":{\"outlinewidth\":0,\"ticks\":\"\"}}}],\"scatter3d\":[{\"type\":\"scatter3d\",\"line\":{\"colorbar\":{\"outlinewidth\":0,\"ticks\":\"\"}},\"marker\":{\"colorbar\":{\"outlinewidth\":0,\"ticks\":\"\"}}}],\"scattermapbox\":[{\"type\":\"scattermapbox\",\"marker\":{\"colorbar\":{\"outlinewidth\":0,\"ticks\":\"\"}}}],\"scatterternary\":[{\"type\":\"scatterternary\",\"marker\":{\"colorbar\":{\"outlinewidth\":0,\"ticks\":\"\"}}}],\"scattercarpet\":[{\"type\":\"scattercarpet\",\"marker\":{\"colorbar\":{\"outlinewidth\":0,\"ticks\":\"\"}}}],\"carpet\":[{\"aaxis\":{\"endlinecolor\":\"#2a3f5f\",\"gridcolor\":\"white\",\"linecolor\":\"white\",\"minorgridcolor\":\"white\",\"startlinecolor\":\"#2a3f5f\"},\"baxis\":{\"endlinecolor\":\"#2a3f5f\",\"gridcolor\":\"white\",\"linecolor\":\"white\",\"minorgridcolor\":\"white\",\"startlinecolor\":\"#2a3f5f\"},\"type\":\"carpet\"}],\"table\":[{\"cells\":{\"fill\":{\"color\":\"#EBF0F8\"},\"line\":{\"color\":\"white\"}},\"header\":{\"fill\":{\"color\":\"#C8D4E3\"},\"line\":{\"color\":\"white\"}},\"type\":\"table\"}],\"barpolar\":[{\"marker\":{\"line\":{\"color\":\"#E5ECF6\",\"width\":0.5},\"pattern\":{\"fillmode\":\"overlay\",\"size\":10,\"solidity\":0.2}},\"type\":\"barpolar\"}],\"pie\":[{\"automargin\":true,\"type\":\"pie\"}]},\"layout\":{\"autotypenumbers\":\"strict\",\"colorway\":[\"#636efa\",\"#EF553B\",\"#00cc96\",\"#ab63fa\",\"#FFA15A\",\"#19d3f3\",\"#FF6692\",\"#B6E880\",\"#FF97FF\",\"#FECB52\"],\"font\":{\"color\":\"#2a3f5f\"},\"hovermode\":\"closest\",\"hoverlabel\":{\"align\":\"left\"},\"paper_bgcolor\":\"white\",\"plot_bgcolor\":\"#E5ECF6\",\"polar\":{\"bgcolor\":\"#E5ECF6\",\"angularaxis\":{\"gridcolor\":\"white\",\"linecolor\":\"white\",\"ticks\":\"\"},\"radialaxis\":{\"gridcolor\":\"white\",\"linecolor\":\"white\",\"ticks\":\"\"}},\"ternary\":{\"bgcolor\":\"#E5ECF6\",\"aaxis\":{\"gridcolor\":\"white\",\"linecolor\":\"white\",\"ticks\":\"\"},\"baxis\":{\"gridcolor\":\"white\",\"linecolor\":\"white\",\"ticks\":\"\"},\"caxis\":{\"gridcolor\":\"white\",\"linecolor\":\"white\",\"ticks\":\"\"}},\"coloraxis\":{\"colorbar\":{\"outlinewidth\":0,\"ticks\":\"\"}},\"colorscale\":{\"sequential\":[[0.0,\"#0d0887\"],[0.1111111111111111,\"#46039f\"],[0.2222222222222222,\"#7201a8\"],[0.3333333333333333,\"#9c179e\"],[0.4444444444444444,\"#bd3786\"],[0.5555555555555556,\"#d8576b\"],[0.6666666666666666,\"#ed7953\"],[0.7777777777777778,\"#fb9f3a\"],[0.8888888888888888,\"#fdca26\"],[1.0,\"#f0f921\"]],\"sequentialminus\":[[0.0,\"#0d0887\"],[0.1111111111111111,\"#46039f\"],[0.2222222222222222,\"#7201a8\"],[0.3333333333333333,\"#9c179e\"],[0.4444444444444444,\"#bd3786\"],[0.5555555555555556,\"#d8576b\"],[0.6666666666666666,\"#ed7953\"],[0.7777777777777778,\"#fb9f3a\"],[0.8888888888888888,\"#fdca26\"],[1.0,\"#f0f921\"]],\"diverging\":[[0,\"#8e0152\"],[0.1,\"#c51b7d\"],[0.2,\"#de77ae\"],[0.3,\"#f1b6da\"],[0.4,\"#fde0ef\"],[0.5,\"#f7f7f7\"],[0.6,\"#e6f5d0\"],[0.7,\"#b8e186\"],[0.8,\"#7fbc41\"],[0.9,\"#4d9221\"],[1,\"#276419\"]]},\"xaxis\":{\"gridcolor\":\"white\",\"linecolor\":\"white\",\"ticks\":\"\",\"title\":{\"standoff\":15},\"zerolinecolor\":\"white\",\"automargin\":true,\"zerolinewidth\":2},\"yaxis\":{\"gridcolor\":\"white\",\"linecolor\":\"white\",\"ticks\":\"\",\"title\":{\"standoff\":15},\"zerolinecolor\":\"white\",\"automargin\":true,\"zerolinewidth\":2},\"scene\":{\"xaxis\":{\"backgroundcolor\":\"#E5ECF6\",\"gridcolor\":\"white\",\"linecolor\":\"white\",\"showbackground\":true,\"ticks\":\"\",\"zerolinecolor\":\"white\",\"gridwidth\":2},\"yaxis\":{\"backgroundcolor\":\"#E5ECF6\",\"gridcolor\":\"white\",\"linecolor\":\"white\",\"showbackground\":true,\"ticks\":\"\",\"zerolinecolor\":\"white\",\"gridwidth\":2},\"zaxis\":{\"backgroundcolor\":\"#E5ECF6\",\"gridcolor\":\"white\",\"linecolor\":\"white\",\"showbackground\":true,\"ticks\":\"\",\"zerolinecolor\":\"white\",\"gridwidth\":2}},\"shapedefaults\":{\"line\":{\"color\":\"#2a3f5f\"}},\"annotationdefaults\":{\"arrowcolor\":\"#2a3f5f\",\"arrowhead\":0,\"arrowwidth\":1},\"geo\":{\"bgcolor\":\"white\",\"landcolor\":\"#E5ECF6\",\"subunitcolor\":\"white\",\"showland\":true,\"showlakes\":true,\"lakecolor\":\"white\"},\"title\":{\"x\":0.05},\"mapbox\":{\"style\":\"light\"}}},\"xaxis\":{\"anchor\":\"y\",\"domain\":[0.0,1.0],\"title\":{\"text\":\"\\u0420\\u0430\\u0431\\u043e\\u0442\\u043e\\u0434\\u0430\\u0442\\u0435\\u043b\\u044c\"}},\"yaxis\":{\"anchor\":\"x\",\"domain\":[0.0,1.0],\"title\":{\"text\":\"\\u041a\\u043e\\u043b\\u0438\\u0447\\u0435\\u0441\\u0442\\u0432\\u043e \\u0432\\u0430\\u043a\\u0430\\u043d\\u0441\\u0438\\u0439\"}},\"legend\":{\"title\":{\"text\":\"experience\"},\"tracegroupgap\":0},\"title\":{\"text\":\"\\u0422\\u043e\\u043f-\\u0440\\u0430\\u0431\\u043e\\u0442\\u043e\\u0434\\u0430\\u0442\\u0435\\u043b\\u0438 (\\u0430\\u043d\\u0430\\u043b\\u0438\\u0442\\u0438\\u043a\\u0438 \\u0434\\u0430\\u043d\\u043d\\u044b\\u0445)\"},\"barmode\":\"group\"},                        {\"responsive\": true}                    ).then(function(){\n",
              "                            \n",
              "var gd = document.getElementById('7a4e688a-0d3f-4434-922b-2b3d7f330bcc');\n",
              "var x = new MutationObserver(function (mutations, observer) {{\n",
              "        var display = window.getComputedStyle(gd).display;\n",
              "        if (!display || display === 'none') {{\n",
              "            console.log([gd, 'removed!']);\n",
              "            Plotly.purge(gd);\n",
              "            observer.disconnect();\n",
              "        }}\n",
              "}});\n",
              "\n",
              "// Listen for the removal of the full notebook cells\n",
              "var notebookContainer = gd.closest('#notebook-container');\n",
              "if (notebookContainer) {{\n",
              "    x.observe(notebookContainer, {childList: true});\n",
              "}}\n",
              "\n",
              "// Listen for the clearing of the current output cell\n",
              "var outputEl = gd.closest('.output');\n",
              "if (outputEl) {{\n",
              "    x.observe(outputEl, {childList: true});\n",
              "}}\n",
              "\n",
              "                        })                };                            </script>        </div>\n",
              "</body>\n",
              "</html>"
            ]
          },
          "metadata": {}
        }
      ]
    },
    {
      "cell_type": "markdown",
      "source": [
        "На первом месте с большим отрывом по обеим специальностям  - Сбербанк, что свидетельствует о серьезном расширении соответствующих направлений работы банка. К бизнес-аналитикам виден интерес других банков (ВТБ, Совком), а к аналитикам данных - маркетплейсов (Ozon, Wildberries). Обе специальности также востребованы у операторов связи (Мегафон, МТС, Tele2)."
      ],
      "metadata": {
        "id": "q23nqTuyw-_z"
      }
    },
    {
      "cell_type": "markdown",
      "source": [
        "Посмотрим, чего работодатели ждут от соискателей в отношении типа графика работы и типа занятости."
      ],
      "metadata": {
        "id": "Ve_33GF80ssm"
      }
    },
    {
      "source": [
        "plt.subplots(figsize=(10, 10))\n",
        "ba_schedule = pd.DataFrame({\n",
        "    x_label: grp['schedule'].value_counts()\n",
        "    for x_label, grp in ba.groupby('experience')})\n",
        "\n",
        "plt.title('График работы (бизнес-аналитики)')\n",
        "sns.heatmap(ba_schedule, square=True, cmap =\"YlGn\")\n",
        "plt.xlabel('Грейд')\n",
        "_ = plt.ylabel('График')\n"
      ],
      "cell_type": "code",
      "execution_count": null,
      "outputs": [
        {
          "output_type": "display_data",
          "data": {
            "text/plain": [
              "<Figure size 1000x1000 with 2 Axes>"
            ],
            "image/png": "[encoded data removed]"
          },
          "metadata": {}
        }
      ],
      "metadata": {
        "colab": {
          "base_uri": "https://localhost:8080/",
          "height": 807
        },
        "id": "UZNuVPdRzrxm",
        "outputId": "707c498c-3809-444a-f119-2688549b3530"
      }
    },
    {
      "cell_type": "code",
      "source": [
        "plt.subplots(figsize=(8, 8))\n",
        "da_schedule = pd.DataFrame({\n",
        "    x_label: grp['schedule'].value_counts()\n",
        "    for x_label, grp in da.groupby('experience')})\n",
        "plt.title('График работы (аналитики данных)')\n",
        "sns.heatmap(da_schedule, square=True, cmap = \"Reds\")\n",
        "plt.xlabel('Грейд')\n",
        "_ = plt.ylabel('График')"
      ],
      "metadata": {
        "colab": {
          "base_uri": "https://localhost:8080/",
          "height": 718
        },
        "id": "eBPSBwXQ3gjr",
        "outputId": "a41c9913-9e00-4170-8e08-6aca3dfd211b"
      },
      "execution_count": null,
      "outputs": [
        {
          "output_type": "display_data",
          "data": {
            "text/plain": [
              "<Figure size 800x800 with 2 Axes>"
            ],
            "image/png": "[encoded data removed]"
          },
          "metadata": {}
        }
      ]
    },
    {
      "cell_type": "code",
      "source": [
        "plt.subplots(figsize=(10, 10))\n",
        "ba_employment = pd.DataFrame({\n",
        "    x_label: grp['employment'].value_counts()\n",
        "    for x_label, grp in ba.groupby('experience')})\n",
        "plt.title('Тип занятости (бизнес-аналитики)')\n",
        "sns.heatmap(ba_employment, square=True, cmap =\"YlGn\")\n",
        "plt.xlabel('Грейд')\n",
        "_ = plt.ylabel('Тип занятости')"
      ],
      "metadata": {
        "colab": {
          "base_uri": "https://localhost:8080/",
          "height": 807
        },
        "id": "yfllkbA80Qkp",
        "outputId": "e3658ae7-8559-454d-c809-a571f41b1f8b"
      },
      "execution_count": null,
      "outputs": [
        {
          "output_type": "display_data",
          "data": {
            "text/plain": [
              "<Figure size 1000x1000 with 2 Axes>"
            ],
            "image/png": "[encoded data removed]"
          },
          "metadata": {}
        }
      ]
    },
    {
      "cell_type": "code",
      "source": [
        "plt.subplots(figsize=(8, 8))\n",
        "da_employment = pd.DataFrame({\n",
        "    x_label: grp['employment'].value_counts()\n",
        "    for x_label, grp in da.groupby('experience')})\n",
        "plt.title('Тип занятости (аналитики данных)')\n",
        "sns.heatmap(da_employment, square=True, cmap =\"Reds\")\n",
        "plt.xlabel('Грейд')\n",
        "_ = plt.ylabel('Тип занятости')"
      ],
      "metadata": {
        "colab": {
          "base_uri": "https://localhost:8080/",
          "height": 718
        },
        "id": "LgFbDgsG3tI9",
        "outputId": "7067b4dc-5523-4c97-cf14-b5df1699a1df"
      },
      "execution_count": null,
      "outputs": [
        {
          "output_type": "display_data",
          "data": {
            "text/plain": [
              "<Figure size 800x800 with 2 Axes>"
            ],
            "image/png": "[encoded data removed]"
          },
          "metadata": {}
        }
      ]
    },
    {
      "cell_type": "markdown",
      "source": [
        "Везде предпочтение отдается работе в офисе с полной занятостью, хотя варианты с удаленной рабтой также предлагаются."
      ],
      "metadata": {
        "id": "HoRzello4CxZ"
      }
    },
    {
      "cell_type": "markdown",
      "source": [
        "<a id=\"findings\"></a>\n",
        "**Выводы**\n",
        "\n",
        "1. Потенциальных работодателей бизнес- и дата-аналитиков больше всего интересуют джун+ и миддлы. Видимо, вакансии сеньоров закрываются другими путями.\n",
        "2. В сравнении для бизнес-аналитиков бОльшую роль играют софт-скиллы или смешанные навыки (аналитическое мышление, оптимизация бизнес-процессов, постановка задач разработчикам), а для аналитиков данных - хард-скиллы и смешанные (SQL, Python, MS Excel, Power BI, работа с базами данных, работа с большим объемом информации). Это объясняется большей ориентированностью бизнес-аналитиков на коммуникацию внутри организации и более тезнической ролью аналитиков данных.\n",
        "3. Основной объем вакансий по обеим специальностям открывается в Москве, Спб и городах-миллионниках.\n",
        "4. Среди работодателей лидирует Сбербанк, что говорит о расширении соответствующих направлений работы банка. Бизнес-аналитиками интересуются также другие банки (ВТБ, Совком), аналитиками данных - маркетплейсы (Ozon, Wildberries), обеими специальностями  - операторы связи (Мегафон, МТС, Tele2).\n",
        "5. Предпочтения по виду занятости и графику работы схожи - работодатели в основном предлагают полную занятость в офисе.\n",
        "\n",
        "**Рекомендации**\n",
        "\n",
        "1. Данные HH.ru по отдельным направлениям (в данном случае, бизнес-аналитикам и аналитикам данных) подлежат очистке, т.к. в них присутствуют вакансии по нерелевантным профессиям.\n",
        "2. Агентству нужно обращать внимание не только на наличие у соискателя соответствующих вакансии навыков, но и на их суть (софт / хард / смешанные).\n",
        "3. Существующие тренды в отраслевой специализации (банки / маркетплейсы / связь) также важны для успешного подбора вакансии."
      ],
      "metadata": {
        "id": "K0u0yNHuUmQa"
      }
    },
    {
      "cell_type": "markdown",
      "source": [
        "<a id=\"slidedeck\"></a>\n",
        "**Презентация**  \n",
        "\n",
        "Презентация к исследованию находится по ссылке: https://drive.google.com/file/d/15hVoNRNujkfZcIQHwRigUZ8ynW3-JFRD/view?usp=drivesdk"
      ],
      "metadata": {
        "id": "UFgqy2Ulw30a"
      }
    }
  ]
}